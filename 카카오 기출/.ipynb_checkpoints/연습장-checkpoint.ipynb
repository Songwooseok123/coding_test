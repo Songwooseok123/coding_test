{
 "cells": [
  {
   "cell_type": "code",
   "execution_count": 197,
   "id": "9d85c1d9-d17d-40ef-84c6-f3465bc8a206",
   "metadata": {},
   "outputs": [
    {
     "data": {
      "text/plain": [
       "[[1, 8], [2, 4], [], [], [3, 6], [], [5], [], [7, 9], [10, 11], [], []]"
      ]
     },
     "execution_count": 197,
     "metadata": {},
     "output_type": "execute_result"
    }
   ],
   "source": [
    "info = [0,0,1,1,1,0,1,0,1,0,1,1]  # 0: 양, 1: 늑대\n",
    "edges = [[0,1],[1,2],[1,4],[0,8],[8,7],[9,10],[9,11],[4,3],[6,5],[4,6],[8,9]]\n",
    "\n",
    "\n",
    "adj= [[]for _ in range(len(info))]\n",
    "for a,b in edges:\n",
    "    adj[a].append(b)\n",
    "    #adj[b].append(a)\n",
    "adj"
   ]
  },
  {
   "cell_type": "code",
   "execution_count": 192,
   "id": "1ae3266c-95d2-457a-b6fd-c39cf1c67c5d",
   "metadata": {},
   "outputs": [
    {
     "data": {
      "text/plain": [
       "[True, True, True, True, True, True, True, True, True, True, True, True]"
      ]
     },
     "execution_count": 192,
     "metadata": {},
     "output_type": "execute_result"
    }
   ],
   "source": [
    "visit"
   ]
  },
  {
   "cell_type": "code",
   "execution_count": 200,
   "id": "a0ad8991-2ab2-4077-9ddf-becf03c00eb7",
   "metadata": {},
   "outputs": [
    {
     "data": {
      "text/plain": [
       "[6, 4, 3]"
      ]
     },
     "execution_count": 200,
     "metadata": {},
     "output_type": "execute_result"
    }
   ],
   "source": [
    "[6] +[4,3]"
   ]
  },
  {
   "cell_type": "code",
   "execution_count": null,
   "id": "82eaf29d-b395-4657-aaa6-2b0c437382d9",
   "metadata": {},
   "outputs": [],
   "source": [
    "def solution(info, edges):\n",
    "    adj = [[] for _ in range(len(info))]  # 인접 리스트 만들기\n",
    "    for parent, child in edges:\n",
    "        adj[parent].append(child)\n",
    "\n",
    "    # dfs 함수에서 max_sheep을 인자로 전달하고 값을 갱신\n",
    "    def dfs(current, sheep, wolf, next_nodes, max_sheep):\n",
    "        if info[current] == 0:  # 현재 노드가 양이면\n",
    "            sheep += 1\n",
    "        else:  # 늑대면\n",
    "            wolf += 1\n",
    "        \n",
    "        if wolf >= sheep:\n",
    "            return max_sheep  # 늑대가 같거나 많으면 종료\n",
    "        \n",
    "        max_sheep = max(max_sheep, sheep)  # 최대 양 마리 수 갱신\n",
    "\n",
    "        # 다음 탐색할 후보 노드들\n",
    "        next_nodes += adj[current]\n",
    "\n",
    "        for next_node in next_nodes:\n",
    "            new_next_nodes = next_nodes.copy()\n",
    "            new_next_nodes.remove(next_node)\n",
    "            max_sheep = dfs(next_node, sheep, wolf, new_next_nodes, max_sheep)\n",
    "\n",
    "        return max_sheep\n",
    "\n",
    "    # dfs를 시작하고 max_sheep 값을 반환받음\n",
    "    max_sheep = dfs(0, 0, 0, [], 0)\n",
    "\n",
    "    return max_sheep\n"
   ]
  }
 ],
 "metadata": {
  "kernelspec": {
   "display_name": "Python 3 (ipykernel)",
   "language": "python",
   "name": "python3"
  },
  "language_info": {
   "codemirror_mode": {
    "name": "ipython",
    "version": 3
   },
   "file_extension": ".py",
   "mimetype": "text/x-python",
   "name": "python",
   "nbconvert_exporter": "python",
   "pygments_lexer": "ipython3",
   "version": "3.8.5"
  }
 },
 "nbformat": 4,
 "nbformat_minor": 5
}
