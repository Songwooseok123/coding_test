{
 "cells": [
  {
   "cell_type": "code",
   "execution_count": 8,
   "id": "4389518a-a89f-41b7-b751-9fbdc46378e3",
   "metadata": {},
   "outputs": [
    {
     "name": "stdin",
     "output_type": "stream",
     "text": [
      " 4 2\n"
     ]
    },
    {
     "name": "stdout",
     "output_type": "stream",
     "text": [
      "1 2\n",
      "1 3\n",
      "1 4\n",
      "2 3\n",
      "2 4\n",
      "3 4\n"
     ]
    }
   ],
   "source": [
    "# 15650 완전탐색 \n",
    "a,b = list(map(int,input().split()))\n",
    "from itertools import combinations\n",
    "\n",
    "for j in list(combinations(list(range(1,a+1)),b)):\n",
    "    print(*j)\n"
   ]
  },
  {
   "cell_type": "code",
   "execution_count": 25,
   "id": "ae98daf8-54be-441d-bead-d1821ac018bc",
   "metadata": {},
   "outputs": [
    {
     "name": "stdin",
     "output_type": "stream",
     "text": [
      " 13\n"
     ]
    },
    {
     "name": "stdout",
     "output_type": "stream",
     "text": [
      "5\n"
     ]
    }
   ],
   "source": [
    "#14916 그리디\n",
    "n = int(input())\n",
    "\n",
    "count = 0\n",
    "found = False\n",
    "while n>=0:\n",
    "    if n%5 == 0:\n",
    "        count += n//5\n",
    "        found = True\n",
    "        break\n",
    "    else:\n",
    "        n-=2\n",
    "        count+=1\n",
    "if found :\n",
    "    print(count)\n",
    "else:\n",
    "    print(-1)"
   ]
  },
  {
   "cell_type": "code",
   "execution_count": 37,
   "id": "84cca3a1-e40b-4a1b-8ee5-f807b0062dfc",
   "metadata": {},
   "outputs": [
    {
     "name": "stdin",
     "output_type": "stream",
     "text": [
      " 1 3 -1 4 1 7\n"
     ]
    },
    {
     "name": "stdout",
     "output_type": "stream",
     "text": [
      "2 -1\n"
     ]
    }
   ],
   "source": [
    "# 19532 완전탐색\n",
    "a, b, c, d, e, f = map(int, input().split())\n",
    "\n",
    "if b == 0:\n",
    "    x = c // a\n",
    "    y = (f - d * x) // e\n",
    "    print(x, y)\n",
    "else:\n",
    "    for x in range(-999, 1000):\n",
    "        if (c - a * x) % b != 0:\n",
    "            continue\n",
    "        y = (c - a * x) // b\n",
    "        if d * x + e * y == f:\n",
    "            print(x, y)\n",
    "            break\n",
    "    \n"
   ]
  },
  {
   "cell_type": "code",
   "execution_count": 44,
   "id": "4e36c866-6a42-4b08-ba4f-259f9f4b0005",
   "metadata": {},
   "outputs": [
    {
     "name": "stdin",
     "output_type": "stream",
     "text": [
      " 10 5 1 10\n"
     ]
    },
    {
     "name": "stdout",
     "output_type": "stream",
     "text": [
      "15\n"
     ]
    }
   ],
   "source": [
    "# 22864 완전탐색\n",
    "a, b, c, m = map(int, input().split()) # 피로도+, 일,피로도-, 피로도 한계 m \n",
    "# 얼마나 일을 할 수 있을까 \n",
    "\n",
    "piro = 0\n",
    "work =0\n",
    "for i in range(24):\n",
    "    if piro+a  <= m:\n",
    "        piro +=a\n",
    "        work +=1\n",
    "    else:\n",
    "        piro-=c\n",
    "        piro = max(0,piro)\n",
    "\n",
    "\n",
    "print(work*b)"
   ]
  },
  {
   "cell_type": "code",
   "execution_count": 58,
   "id": "9c86eceb-2fbf-48b4-b570-09c29afc39de",
   "metadata": {},
   "outputs": [],
   "source": [
    "# 2805  이분탐색\n",
    "# 적어도 m 미터의 나무를 집에 가져가기위한 절단기의 최댓값\n",
    "n, m = list(map(int, input().split()))\n",
    "height = list(map(int, input().split()))\n",
    "def get_height(mid):\n",
    "    sum_h = 0\n",
    "    for h in height:\n",
    "        if h >mid:\n",
    "            sum_h +=h-mid\n",
    "\n",
    "    \n",
    "    return sum_h\n",
    "\n",
    "\n",
    "start = 0\n",
    "end = max(height)\n",
    "answer= None\n",
    "\n",
    "while start<=end:\n",
    "    mid = (start+end)//2\n",
    "    getted = get_height(mid)\n",
    "    #print(mid, getted)\n",
    "    if getted < m:\n",
    "        end = mid -1\n",
    "    else: \n",
    "        start = mid+1\n",
    "        answer = mid\n",
    "print(answer)"
   ]
  },
  {
   "cell_type": "code",
   "execution_count": 60,
   "id": "e8592e96-3bbd-41ba-9c2c-d665c510ca7b",
   "metadata": {},
   "outputs": [
    {
     "name": "stdin",
     "output_type": "stream",
     "text": [
      " 5 0\n",
      " -7 -3 -2 5 8\n"
     ]
    }
   ],
   "source": [
    "#1182 완전탐색 \n",
    "# 수열의 부분 수열 중에서 합이 s를 만족하는 경우의 수 \n",
    "n, s = list(map(int, input().split()))\n",
    "array = list(map(int, input().split()))\n",
    "\n",
    "from itertools import combinations\n",
    "count =0\n",
    "for k in range(1,n+1):\n",
    "    for j in list(combinations(array,k)):\n",
    "        \n",
    "        if sum(j) == s:\n",
    "            count+=1\n",
    "print(count)"
   ]
  },
  {
   "cell_type": "code",
   "execution_count": 4,
   "id": "50e3863b-d562-49cb-b756-627cbb6f9ee0",
   "metadata": {},
   "outputs": [
    {
     "name": "stdin",
     "output_type": "stream",
     "text": [
      " 4 6\n",
      " 101111\n",
      " 101010\n",
      " 101111\n",
      " 101110\n"
     ]
    },
    {
     "name": "stdout",
     "output_type": "stream",
     "text": [
      "0\n"
     ]
    }
   ],
   "source": [
    "#2178 bfs \n",
    "\n",
    "n, m = list(map(int, input().split()))\n",
    "\n",
    "a=[]\n",
    "for i in range(n):\n",
    "    a.append(input())\n",
    "\n",
    "from collections import deque\n",
    "\n",
    "visit=[[False]*m for _ in range(n)]\n",
    "shortest_d = [[-1]*m for _ in range(n)]\n",
    "queue = deque()\n",
    "\n",
    "queue.append((0,0))\n",
    "visit[0][0] = True\n",
    "shortest_d[0][0] = 0\n",
    "\n",
    "#print(visit)\n",
    "#print(shortest_d)\n",
    "\n",
    "\n",
    "while queue:\n",
    "    r, c = queue.popleft()\n",
    "    \n",
    "\n",
    "    if r > 0 and a[r - 1][c] == '1' and not visit[r - 1][c]: # 윗방향\n",
    "        queue.append((r - 1, c))\n",
    "        visit[r - 1][c] = True\n",
    "        shortest_d[r - 1][c] = shortest_d[r][c] + 1\n",
    "\n",
    "    if r < n - 1 and a[r + 1][c] == '1' and not visit[r + 1][c]: #아랫방향\n",
    "        queue.append((r + 1, c))\n",
    "        visit[r + 1][c] = True\n",
    "        shortest_d[r + 1][c] = shortest_d[r][c] + 1\n",
    "\n",
    "    if c > 0 and a[r][c - 1] == '1' and not visit[r][c - 1]: # 왼방향\n",
    "        \n",
    "        queue.append((r, c - 1))\n",
    "        visit[r][c - 1] = True\n",
    "        shortest_d[r][c - 1] = shortest_d[r][c] + 1\n",
    "\n",
    "    if c < m - 1 and a[r][c + 1] == '1' and not visit[r][c + 1]: # 오른방향 \n",
    "        \n",
    "        queue.append((r, c + 1))\n",
    "        visit[r][c + 1] = True\n",
    "        shortest_d[r][c + 1] = shortest_d[r][c] + 1\n",
    "print(shortest_d[n-1][m-1]+1)\n",
    "\n"
   ]
  },
  {
   "cell_type": "code",
   "execution_count": null,
   "id": "4fdddef4-9e15-4f61-a5ca-a00a1b524bcd",
   "metadata": {},
   "outputs": [],
   "source": []
  }
 ],
 "metadata": {
  "kernelspec": {
   "display_name": "Python 3 (ipykernel)",
   "language": "python",
   "name": "python3"
  },
  "language_info": {
   "codemirror_mode": {
    "name": "ipython",
    "version": 3
   },
   "file_extension": ".py",
   "mimetype": "text/x-python",
   "name": "python",
   "nbconvert_exporter": "python",
   "pygments_lexer": "ipython3",
   "version": "3.8.5"
  }
 },
 "nbformat": 4,
 "nbformat_minor": 5
}
