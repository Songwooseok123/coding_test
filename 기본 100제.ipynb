{
 "cells": [
  {
   "cell_type": "code",
   "execution_count": 8,
   "id": "4389518a-a89f-41b7-b751-9fbdc46378e3",
   "metadata": {},
   "outputs": [
    {
     "name": "stdin",
     "output_type": "stream",
     "text": [
      " 4 2\n"
     ]
    },
    {
     "name": "stdout",
     "output_type": "stream",
     "text": [
      "1 2\n",
      "1 3\n",
      "1 4\n",
      "2 3\n",
      "2 4\n",
      "3 4\n"
     ]
    }
   ],
   "source": [
    "# 15650\n",
    "a,b = list(map(int,input().split()))\n",
    "from itertools import combinations\n",
    "\n",
    "for j in list(combinations(list(range(1,a+1)),b)):\n",
    "    print(*j)\n"
   ]
  },
  {
   "cell_type": "code",
   "execution_count": 25,
   "id": "ae98daf8-54be-441d-bead-d1821ac018bc",
   "metadata": {},
   "outputs": [
    {
     "name": "stdin",
     "output_type": "stream",
     "text": [
      " 13\n"
     ]
    },
    {
     "name": "stdout",
     "output_type": "stream",
     "text": [
      "5\n"
     ]
    }
   ],
   "source": [
    "#14916\n",
    "n = int(input())\n",
    "\n",
    "count = 0\n",
    "found = False\n",
    "while n>=0:\n",
    "    if n%5 == 0:\n",
    "        count += n//5\n",
    "        found = True\n",
    "        break\n",
    "    else:\n",
    "        n-=2\n",
    "        count+=1\n",
    "if found :\n",
    "    print(count)\n",
    "else:\n",
    "    print(-1)"
   ]
  },
  {
   "cell_type": "code",
   "execution_count": 22,
   "id": "84cca3a1-e40b-4a1b-8ee5-f807b0062dfc",
   "metadata": {},
   "outputs": [
    {
     "data": {
      "text/plain": [
       "-1"
      ]
     },
     "execution_count": 22,
     "metadata": {},
     "output_type": "execute_result"
    }
   ],
   "source": [
    "# 19532\n"
   ]
  },
  {
   "cell_type": "code",
   "execution_count": null,
   "id": "c30b0134-e172-4577-af84-178eab693a92",
   "metadata": {},
   "outputs": [],
   "source": []
  }
 ],
 "metadata": {
  "kernelspec": {
   "display_name": "Python 3 (ipykernel)",
   "language": "python",
   "name": "python3"
  },
  "language_info": {
   "codemirror_mode": {
    "name": "ipython",
    "version": 3
   },
   "file_extension": ".py",
   "mimetype": "text/x-python",
   "name": "python",
   "nbconvert_exporter": "python",
   "pygments_lexer": "ipython3",
   "version": "3.8.5"
  }
 },
 "nbformat": 4,
 "nbformat_minor": 5
}
