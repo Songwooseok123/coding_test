{
 "cells": [
  {
   "cell_type": "markdown",
   "id": "7d04f5ac-2572-4d50-9311-e5a5f2b4a688",
   "metadata": {},
   "source": [
    "# 입력 받기"
   ]
  },
  {
   "cell_type": "code",
   "execution_count": 8,
   "id": "6c55a88a-5001-499d-815a-40e14ac6b7c6",
   "metadata": {},
   "outputs": [
    {
     "name": "stdin",
     "output_type": "stream",
     "text": [
      " 3 4\n"
     ]
    },
    {
     "name": "stdout",
     "output_type": "stream",
     "text": [
      "3\n",
      "4\n"
     ]
    }
   ],
   "source": [
    "a,b = list(map(int,input().split()))\n",
    "print(a)\n",
    "print(b)"
   ]
  },
  {
   "cell_type": "code",
   "execution_count": 9,
   "id": "10f053f7-d4e5-4d8f-b837-62601f298846",
   "metadata": {},
   "outputs": [
    {
     "name": "stdin",
     "output_type": "stream",
     "text": [
      " 3 4\n"
     ]
    },
    {
     "name": "stdout",
     "output_type": "stream",
     "text": [
      "3\n",
      "4\n"
     ]
    }
   ],
   "source": [
    "a,b = map(int,input().split())\n",
    "print(a)\n",
    "print(b)"
   ]
  },
  {
   "cell_type": "markdown",
   "id": "fe4464c6-0733-4149-b1bb-7b3392fefa43",
   "metadata": {},
   "source": [
    "## 시간초과 나면 input() 대신 sys.stdin.readline() 시도해보기\n",
    "### 주피터에선 안되네.. "
   ]
  },
  {
   "cell_type": "code",
   "execution_count": 10,
   "id": "20078caf-6c54-4fa8-a5fb-1dce89db8e6a",
   "metadata": {},
   "outputs": [
    {
     "ename": "ValueError",
     "evalue": "not enough values to unpack (expected 2, got 0)",
     "output_type": "error",
     "traceback": [
      "\u001b[1;31m---------------------------------------------------------------------------\u001b[0m",
      "\u001b[1;31mValueError\u001b[0m                                Traceback (most recent call last)",
      "Input \u001b[1;32mIn [10]\u001b[0m, in \u001b[0;36m<cell line: 2>\u001b[1;34m()\u001b[0m\n\u001b[0;32m      1\u001b[0m \u001b[38;5;28;01mimport\u001b[39;00m \u001b[38;5;21;01msys\u001b[39;00m\n\u001b[1;32m----> 2\u001b[0m a,b \u001b[38;5;241m=\u001b[39m \u001b[38;5;28mmap\u001b[39m(\u001b[38;5;28mint\u001b[39m,sys\u001b[38;5;241m.\u001b[39mstdin\u001b[38;5;241m.\u001b[39mreadline())\n",
      "\u001b[1;31mValueError\u001b[0m: not enough values to unpack (expected 2, got 0)"
     ]
    }
   ],
   "source": [
    "import sys\n",
    "a,b = map(int,sys.stdin.readline()) "
   ]
  },
  {
   "cell_type": "markdown",
   "id": "478ad23c-8d3a-40bd-93a0-320cf2de6e2c",
   "metadata": {
    "jp-MarkdownHeadingCollapsed": true
   },
   "source": [
    "# Sort \n",
    "## 정렬 기준에 key = 함수 활용"
   ]
  },
  {
   "cell_type": "code",
   "execution_count": 19,
   "id": "665fb2dd-94a4-4b4d-8dae-9d0d1e1abc3d",
   "metadata": {},
   "outputs": [
    {
     "data": {
      "text/plain": [
       "['a', 'pp', 'aaacla', 'sicaaaaaa']"
      ]
     },
     "execution_count": 19,
     "metadata": {},
     "output_type": "execute_result"
    }
   ],
   "source": [
    "# list 정렬 \n",
    "phone_book= [\"aaacla\", \"pp\", \"sicaaaaaa\", \"a\"]\t\n",
    "phone_book.sort(key =len) # defalut가 작은것 부터임.(오름차)\n",
    "phone_book"
   ]
  },
  {
   "cell_type": "code",
   "execution_count": 22,
   "id": "c5f9688b-c405-4c5f-b3fa-70e823fbca33",
   "metadata": {},
   "outputs": [
    {
     "data": {
      "text/plain": [
       "['a', 'pp', 'aaacla', 'sicaaaaaa']"
      ]
     },
     "execution_count": 22,
     "metadata": {},
     "output_type": "execute_result"
    }
   ],
   "source": [
    "phone_book= [\"aaacla\", \"pp\", \"sicaaaaaa\", \"a\"]\t\n",
    "sorted(phone_book,key = len)"
   ]
  },
  {
   "cell_type": "code",
   "execution_count": 35,
   "id": "edd9fc2e-01e8-4540-895b-b1c3e175331c",
   "metadata": {},
   "outputs": [
    {
     "data": {
      "text/plain": [
       "['ass', 'bpoaap', 'cla', 'sicsic']"
      ]
     },
     "execution_count": 35,
     "metadata": {},
     "output_type": "execute_result"
    }
   ],
   "source": [
    "# dictionary 정렬 \n",
    "hash_maps = {'cla': [500, 150], 'bpoaap': [600,3,3,3], 'sicsic': [800], 'ass': [400]}\n",
    "sorted(hash_maps) # key를 기준으로 정렬 후 뱉음 "
   ]
  },
  {
   "cell_type": "code",
   "execution_count": 36,
   "id": "b43854a5-7f9c-4cd6-9661-93f9f7e86f0d",
   "metadata": {},
   "outputs": [
    {
     "data": {
      "text/plain": [
       "['cla', 'ass', 'bpoaap', 'sicsic']"
      ]
     },
     "execution_count": 36,
     "metadata": {},
     "output_type": "execute_result"
    }
   ],
   "source": [
    "sorted(hash_maps,key = len)"
   ]
  },
  {
   "cell_type": "code",
   "execution_count": 37,
   "id": "edcc0a4c-1aa0-4f8e-ae6c-cf74cc0db178",
   "metadata": {},
   "outputs": [
    {
     "data": {
      "text/plain": [
       "[('ass', [400]),\n",
       " ('bpoaap', [600, 3, 3, 3]),\n",
       " ('cla', [500, 150]),\n",
       " ('sicsic', [800])]"
      ]
     },
     "execution_count": 37,
     "metadata": {},
     "output_type": "execute_result"
    }
   ],
   "source": [
    "sorted(hash_maps.items()) #key, value 전부 뱉도록 하려면 items 활용 "
   ]
  },
  {
   "cell_type": "code",
   "execution_count": 34,
   "id": "75df042c-9704-4bff-a018-67584b0d01eb",
   "metadata": {},
   "outputs": [
    {
     "data": {
      "text/plain": [
       "{'cla': [500, 150], 'poaap': [600, 3, 3, 3], 'sicsic': [800], 'ass': [400]}"
      ]
     },
     "execution_count": 34,
     "metadata": {},
     "output_type": "execute_result"
    }
   ],
   "source": [
    "hash_maps"
   ]
  },
  {
   "cell_type": "code",
   "execution_count": 38,
   "id": "53c20346-5d25-463b-a9f5-a30ee86a95db",
   "metadata": {},
   "outputs": [
    {
     "data": {
      "text/plain": [
       "[('cla', [500, 150]),\n",
       " ('bpoaap', [600, 3, 3, 3]),\n",
       " ('sicsic', [800]),\n",
       " ('ass', [400])]"
      ]
     },
     "execution_count": 38,
     "metadata": {},
     "output_type": "execute_result"
    }
   ],
   "source": [
    "sorted(hash_maps.items(),key = len) # key 함수는 각 요소에 적용, 즉 길이 2짜리 튜플에 적용되므로 의미가 없음. "
   ]
  },
  {
   "cell_type": "code",
   "execution_count": 41,
   "id": "d8bef2dc-1813-4604-bfc3-4592ba9f871b",
   "metadata": {},
   "outputs": [
    {
     "data": {
      "text/plain": [
       "[('ass', [400]),\n",
       " ('bpoaap', [600, 3, 3, 3]),\n",
       " ('cla', [500, 150]),\n",
       " ('sicsic', [800])]"
      ]
     },
     "execution_count": 41,
     "metadata": {},
     "output_type": "execute_result"
    }
   ],
   "source": [
    "# hash_map을 정렬할건데... sum[x[1]] 함수의 결과값을 기준으로 정렬... x는 hash_maps.items()의 요소가 차례대로들어감\n",
    "sorted(hash_maps.items(),key = lambda x : sum(x[1]))"
   ]
  },
  {
   "cell_type": "code",
   "execution_count": 46,
   "id": "7e068dd5-e164-4d57-8a64-11301f6b54bc",
   "metadata": {},
   "outputs": [
    {
     "name": "stdout",
     "output_type": "stream",
     "text": [
      "[('ass', [400]), ('bpoaap', [600, 3, 3, 3]), ('cla', [500, 150]), ('sicsic', [800])]\n"
     ]
    },
    {
     "data": {
      "text/plain": [
       "{'ass': [400], 'bpoaap': [600, 3, 3, 3], 'cla': [500, 150], 'sicsic': [800]}"
      ]
     },
     "execution_count": 46,
     "metadata": {},
     "output_type": "execute_result"
    }
   ],
   "source": [
    "# 정렬된 list를 다시 dictionary로 만드는 방법\n",
    "a = sorted(hash_maps.items(),key = lambda x : sum(x[1]))\n",
    "print(a)\n",
    "dic_a = {k:v for k,v in a}\n",
    "dic_a"
   ]
  },
  {
   "cell_type": "markdown",
   "id": "c541d742-9506-4ea6-8d2a-eba0acdb8b7a",
   "metadata": {},
   "source": [
    "# zip 함수 활용"
   ]
  },
  {
   "cell_type": "code",
   "execution_count": 47,
   "id": "90c83a3a-d893-4038-9ef5-94c52bba2eac",
   "metadata": {},
   "outputs": [
    {
     "name": "stdout",
     "output_type": "stream",
     "text": [
      "1 a\n",
      "2 b\n",
      "3 c\n"
     ]
    }
   ],
   "source": [
    "p = [1,2,3]\n",
    "q = ['a','b','c']\n",
    "for pp,qq in zip(p,q):\n",
    "    print(pp,qq)"
   ]
  },
  {
   "cell_type": "markdown",
   "id": "cd67d8e6-7b0d-404e-88b6-5ec7530c652c",
   "metadata": {},
   "source": [
    "##  zip 활용해서 dic 만들기 "
   ]
  },
  {
   "cell_type": "code",
   "execution_count": 48,
   "id": "ad03f894-0f93-4ab0-9572-1d61dcf18cc1",
   "metadata": {},
   "outputs": [
    {
     "data": {
      "text/plain": [
       "{1: 'a', 2: 'b', 3: 'c'}"
      ]
     },
     "execution_count": 48,
     "metadata": {},
     "output_type": "execute_result"
    }
   ],
   "source": [
    "new_dic = {pp:qq for pp,qq in zip(p,q)}\n",
    "new_dic"
   ]
  },
  {
   "cell_type": "markdown",
   "id": "32d121b3-e5a1-4759-ab4d-87d5e6c8d49b",
   "metadata": {},
   "source": [
    "# Continue 함수"
   ]
  },
  {
   "cell_type": "code",
   "execution_count": 103,
   "id": "1f102c0a-0a82-41a3-a4db-03bd063aaad1",
   "metadata": {},
   "outputs": [
    {
     "name": "stdout",
     "output_type": "stream",
     "text": [
      "3 야호\n",
      "3 야호\n",
      "0 야호\n"
     ]
    }
   ],
   "source": [
    "\n",
    "# continue 사용법\n",
    "## if 문 만족하면 해당 i에 대한 for문이 끝나고 다음 i로 넘어감\n",
    "## if 문 만족 안하면 밑에 print 실행함\n",
    "\n",
    "arr = [1,1,3,3,0,1,1] \n",
    "for i in arr:\n",
    "    if i==1:\n",
    "        continue\n",
    "    print(i,\"야호\")\n"
   ]
  },
  {
   "cell_type": "code",
   "execution_count": null,
   "id": "00d81e01-7ba6-4d07-ae5e-a285372cc5dd",
   "metadata": {},
   "outputs": [],
   "source": []
  },
  {
   "cell_type": "markdown",
   "id": "b9e1f3e5-1dfd-4423-b2c6-0b4b4d9b9694",
   "metadata": {},
   "source": [
    "# 리스트(list) 다루기"
   ]
  },
  {
   "cell_type": "markdown",
   "id": "6e8b7674-1f90-4af7-97d2-4e9d6ff6681a",
   "metadata": {},
   "source": [
    "## list 빠꾸"
   ]
  },
  {
   "cell_type": "code",
   "execution_count": 49,
   "id": "74e8d372-4617-46f6-b7f3-b2c493648fa6",
   "metadata": {},
   "outputs": [
    {
     "data": {
      "text/plain": [
       "[3, 2, 1]"
      ]
     },
     "execution_count": 49,
     "metadata": {},
     "output_type": "execute_result"
    }
   ],
   "source": [
    "p[::-1]"
   ]
  },
  {
   "cell_type": "code",
   "execution_count": 51,
   "id": "2639f9b5-2143-4a6a-a618-c65b1747377a",
   "metadata": {
    "scrolled": true
   },
   "outputs": [
    {
     "data": {
      "text/plain": [
       "[3, 2, 1]"
      ]
     },
     "execution_count": 51,
     "metadata": {},
     "output_type": "execute_result"
    }
   ],
   "source": [
    "list(reversed(p))"
   ]
  },
  {
   "cell_type": "markdown",
   "id": "27dc3012-070d-4dd7-ba07-a825bbd9392a",
   "metadata": {},
   "source": [
    "## 요소 삭제(remove, pop)"
   ]
  },
  {
   "cell_type": "code",
   "execution_count": 58,
   "id": "749af4c4-94a1-4bbd-84ed-07ed0da88acd",
   "metadata": {},
   "outputs": [
    {
     "data": {
      "text/plain": [
       "[3, 3, 1]"
      ]
     },
     "execution_count": 58,
     "metadata": {},
     "output_type": "execute_result"
    }
   ],
   "source": [
    "p = [3,3,3,1]\n",
    "p.remove(3)  #처음 발견한(앞에서부터 탐색함) 1개만 삭제됨 \n",
    "p"
   ]
  },
  {
   "cell_type": "code",
   "execution_count": 61,
   "id": "5b4cd623-880d-4e48-b954-21f683cafc27",
   "metadata": {},
   "outputs": [
    {
     "data": {
      "text/plain": [
       "'b'"
      ]
     },
     "execution_count": 61,
     "metadata": {},
     "output_type": "execute_result"
    }
   ],
   "source": [
    "p = ['a',1,3,'b']\n",
    "p.pop(3) # n번째 원소를 삭제하면서 삭제하는 요소 반환함 "
   ]
  },
  {
   "cell_type": "markdown",
   "id": "c3a1ed66-1de2-44ac-b1fa-0a568029578f",
   "metadata": {},
   "source": [
    "## 리스트 맨 마지막 요소를 확인 할 때 비어있으면 error 뜸 -> 확인 방법"
   ]
  },
  {
   "cell_type": "code",
   "execution_count": 71,
   "id": "a8de66d1-d44e-4e26-84e9-5760f2667e98",
   "metadata": {},
   "outputs": [
    {
     "ename": "IndexError",
     "evalue": "list index out of range",
     "output_type": "error",
     "traceback": [
      "\u001b[1;31m---------------------------------------------------------------------------\u001b[0m",
      "\u001b[1;31mIndexError\u001b[0m                                Traceback (most recent call last)",
      "Input \u001b[1;32mIn [71]\u001b[0m, in \u001b[0;36m<cell line: 2>\u001b[1;34m()\u001b[0m\n\u001b[0;32m      1\u001b[0m answer \u001b[38;5;241m=\u001b[39m []\n\u001b[1;32m----> 2\u001b[0m \u001b[43manswer\u001b[49m\u001b[43m[\u001b[49m\u001b[38;5;241;43m-\u001b[39;49m\u001b[38;5;241;43m1\u001b[39;49m\u001b[43m]\u001b[49m\u001b[38;5;241m==\u001b[39m\u001b[38;5;241m1\u001b[39m\n",
      "\u001b[1;31mIndexError\u001b[0m: list index out of range"
     ]
    }
   ],
   "source": [
    "answer = []\n",
    "answer[-1]==1"
   ]
  },
  {
   "cell_type": "code",
   "execution_count": 90,
   "id": "73089f61-844f-42dd-9f6f-5f49ad483c4b",
   "metadata": {},
   "outputs": [
    {
     "data": {
      "text/plain": [
       "False"
      ]
     },
     "execution_count": 90,
     "metadata": {},
     "output_type": "execute_result"
    }
   ],
   "source": [
    "answer= []\n",
    "answer[-1:]== [3]"
   ]
  },
  {
   "cell_type": "markdown",
   "id": "0f83d851-65c8-4917-bde5-037ffa7e03a4",
   "metadata": {},
   "source": [
    "## list 2개로 hashmap 만들기"
   ]
  },
  {
   "cell_type": "code",
   "execution_count": null,
   "id": "dc36a5f1-48ad-403c-8ebf-3b705c106df8",
   "metadata": {},
   "outputs": [],
   "source": []
  },
  {
   "cell_type": "code",
   "execution_count": 66,
   "id": "046cc889-6969-418a-81b8-75de25959997",
   "metadata": {},
   "outputs": [
    {
     "data": {
      "text/plain": [
       "{'cla': [500, 150], 'pop': [600], 'sicsic': [800], 'ass': [400]}"
      ]
     },
     "execution_count": 66,
     "metadata": {},
     "output_type": "execute_result"
    }
   ],
   "source": [
    "genres= [\"cla\", \"pop\",\"cla\",\"sic\" \"sic\", \"ass\"]\t\n",
    "plays= [500, 600, 150, 800,400,300]\n",
    "hash_maps = {}\n",
    "for i in range(len(genres)):\n",
    "    if genres[i] in hash_maps:\n",
    "        hash_maps[genres[i]].append(plays[i])\n",
    "    else:\n",
    "        hash_maps[genres[i]] =[plays[i]]\n",
    "hash_maps"
   ]
  },
  {
   "cell_type": "code",
   "execution_count": 67,
   "id": "4d039828-a51b-42ce-80c2-a21a5af9a2d6",
   "metadata": {},
   "outputs": [
    {
     "data": {
      "text/plain": [
       "{'cla': [500, 150], 'pop': [600], 'sicsic': [800], 'ass': [400]}"
      ]
     },
     "execution_count": 67,
     "metadata": {},
     "output_type": "execute_result"
    }
   ],
   "source": [
    "genres= [\"cla\", \"pop\",\"cla\",\"sic\" \"sic\", \"ass\"]\t\n",
    "plays= [500, 600, 150, 800,400,300]\n",
    "hash_maps = {}\n",
    "for g,p in zip(genres,plays):\n",
    "    if g in hash_maps:\n",
    "        hash_maps[g].append(p)\n",
    "    else:\n",
    "        hash_maps[g] =[p]\n",
    "hash_maps"
   ]
  },
  {
   "cell_type": "markdown",
   "id": "0a41e80b-b578-4e2a-b6c8-49a074c643bc",
   "metadata": {},
   "source": [
    "# 기타 응용 및 유용한 함수"
   ]
  },
  {
   "cell_type": "markdown",
   "id": "a2167618-8c56-4d5a-928f-84feaca581b4",
   "metadata": {},
   "source": [
    "## 몫, 나머지"
   ]
  },
  {
   "cell_type": "code",
   "execution_count": 11,
   "id": "62dda452-aa7c-410c-819a-ade554bbe97f",
   "metadata": {},
   "outputs": [
    {
     "name": "stdout",
     "output_type": "stream",
     "text": [
      "1\n",
      "3\n"
     ]
    }
   ],
   "source": [
    "a = 8\n",
    "b = 5\n",
    "print(a//b)\n",
    "print(a%b)"
   ]
  },
  {
   "cell_type": "markdown",
   "id": "07bb9b64-9249-4e71-a2d8-eb54c57a6dbd",
   "metadata": {},
   "source": [
    "## n 진수를 입력 받아서 10진수로 표현하기 "
   ]
  },
  {
   "cell_type": "code",
   "execution_count": 12,
   "id": "7c22b237-dc0a-421d-a5a4-e02e72c4a4fe",
   "metadata": {},
   "outputs": [
    {
     "name": "stdin",
     "output_type": "stream",
     "text": [
      " 11\n"
     ]
    },
    {
     "name": "stdout",
     "output_type": "stream",
     "text": [
      "3\n"
     ]
    }
   ],
   "source": [
    "print(int(input(),2))\n"
   ]
  },
  {
   "cell_type": "markdown",
   "id": "1c269fe2-2550-4fcf-9625-2064e13eed81",
   "metadata": {},
   "source": [
    "## 문자열이 a로 시작하는지"
   ]
  },
  {
   "cell_type": "code",
   "execution_count": 55,
   "id": "fa5e2f02-9c60-43d3-85d5-325a731a6585",
   "metadata": {},
   "outputs": [
    {
     "name": "stdout",
     "output_type": "stream",
     "text": [
      "True\n"
     ]
    },
    {
     "data": {
      "text/plain": [
       "False"
      ]
     },
     "execution_count": 55,
     "metadata": {},
     "output_type": "execute_result"
    }
   ],
   "source": [
    "r = 'abscd'\n",
    "print(r.startswith('a'))\n",
    "r.startswith('b')"
   ]
  },
  {
   "cell_type": "markdown",
   "id": "71b4ae30-af6f-41f6-a967-be132c6dce7e",
   "metadata": {},
   "source": [
    "## 문자열 data가 문자인지 아닌지"
   ]
  },
  {
   "cell_type": "code",
   "execution_count": 95,
   "id": "b23b2ffe-51f3-4f7e-b033-520e6ee270a8",
   "metadata": {},
   "outputs": [
    {
     "name": "stdout",
     "output_type": "stream",
     "text": [
      "True\n"
     ]
    },
    {
     "data": {
      "text/plain": [
       "False"
      ]
     },
     "execution_count": 95,
     "metadata": {},
     "output_type": "execute_result"
    }
   ],
   "source": [
    "data = 'n'\n",
    "print(data.isalpha())\n",
    "data = '3'\n",
    "data.isalpha()\n",
    "\n"
   ]
  },
  {
   "cell_type": "markdown",
   "id": "d2e65782-9335-40b8-a936-5b004dd2a95d",
   "metadata": {},
   "source": [
    "## 문자열 to 숫자열"
   ]
  },
  {
   "cell_type": "code",
   "execution_count": 68,
   "id": "8ddb2bee-d07f-4627-97c1-47d0cbb92b66",
   "metadata": {},
   "outputs": [
    {
     "data": {
      "text/plain": [
       "97"
      ]
     },
     "execution_count": 68,
     "metadata": {},
     "output_type": "execute_result"
    }
   ],
   "source": [
    "ord('a')"
   ]
  },
  {
   "cell_type": "markdown",
   "id": "3adcb067-c465-47aa-8082-60013447ec14",
   "metadata": {},
   "source": [
    "## 요소 갯수세기 - Counter"
   ]
  },
  {
   "cell_type": "code",
   "execution_count": 97,
   "id": "29dc3ebe-c1cc-49e8-b86d-7a13badb1584",
   "metadata": {},
   "outputs": [
    {
     "name": "stdout",
     "output_type": "stream",
     "text": [
      "Counter({2: 2, 3: 2, 1: 1})\n",
      "Counter({3: 3, 1: 1, 2: 1, 4: 1})\n"
     ]
    }
   ],
   "source": [
    "from collections import Counter\n",
    "nums = [1,2,3,2,3]\n",
    "numsss = [1,2,3,4,3,3]\n",
    "\n",
    "print(Counter(nums))\n",
    "print(Counter(numsss))\n",
    "\n"
   ]
  },
  {
   "cell_type": "code",
   "execution_count": 98,
   "id": "d2a27333-f8cf-4819-a0ae-2ee9b823a5e9",
   "metadata": {},
   "outputs": [
    {
     "data": {
      "text/plain": [
       "Counter({2: 1})"
      ]
     },
     "execution_count": 98,
     "metadata": {},
     "output_type": "execute_result"
    }
   ],
   "source": [
    "# 카운터 끼리 연산 가능\n",
    "Counter(nums) - Counter(numsss)\n"
   ]
  },
  {
   "cell_type": "code",
   "execution_count": 99,
   "id": "ccff30b3-5beb-46ab-b663-795421955278",
   "metadata": {},
   "outputs": [
    {
     "data": {
      "text/plain": [
       "[(5, 3), (2, 2)]"
      ]
     },
     "execution_count": 99,
     "metadata": {},
     "output_type": "execute_result"
    }
   ],
   "source": [
    "## Counter해서 가장 많이 등장하는 n개 찾기 - 리스트 안에 튜플로 반환\n",
    "nums = [1,2,3,2,3,5,5,5]\n",
    "b = Counter(nums)\n",
    "b.most_common(2)\n"
   ]
  },
  {
   "cell_type": "markdown",
   "id": "6cb555d1-f9e3-463b-8601-551be6a6986e",
   "metadata": {},
   "source": [
    "## 순열과 조합 "
   ]
  },
  {
   "cell_type": "code",
   "execution_count": 102,
   "id": "2ef69871-83eb-4a59-87ea-e43e9842a862",
   "metadata": {
    "scrolled": true
   },
   "outputs": [
    {
     "data": {
      "text/plain": [
       "[(1, 2),\n",
       " (1, 3),\n",
       " (1, 2),\n",
       " (1, 3),\n",
       " (1, 5),\n",
       " (1, 5),\n",
       " (1, 5),\n",
       " (2, 3),\n",
       " (2, 2),\n",
       " (2, 3),\n",
       " (2, 5),\n",
       " (2, 5),\n",
       " (2, 5),\n",
       " (3, 2),\n",
       " (3, 3),\n",
       " (3, 5),\n",
       " (3, 5),\n",
       " (3, 5),\n",
       " (2, 3),\n",
       " (2, 5),\n",
       " (2, 5),\n",
       " (2, 5),\n",
       " (3, 5),\n",
       " (3, 5),\n",
       " (3, 5),\n",
       " (5, 5),\n",
       " (5, 5),\n",
       " (5, 5)]"
      ]
     },
     "execution_count": 102,
     "metadata": {},
     "output_type": "execute_result"
    }
   ],
   "source": [
    "from itertools import combinations,permutations # 순서대로 조합과 순열 \n",
    "list(combinations(nums,2))"
   ]
  },
  {
   "cell_type": "code",
   "execution_count": null,
   "id": "0f8db147-8d28-4cd3-b063-ee2163cd08cc",
   "metadata": {},
   "outputs": [],
   "source": []
  },
  {
   "cell_type": "markdown",
   "id": "b33ac15c-984b-4327-9c14-609945f92720",
   "metadata": {},
   "source": [
    "## set 끼리 연산 가능"
   ]
  },
  {
   "cell_type": "code",
   "execution_count": 100,
   "id": "c5d933fe-cf9d-4cf0-9148-fd6959521dfe",
   "metadata": {},
   "outputs": [
    {
     "data": {
      "text/plain": [
       "{2}"
      ]
     },
     "execution_count": 100,
     "metadata": {},
     "output_type": "execute_result"
    }
   ],
   "source": [
    "set([1,2,3,3,3]) - set([1,3,4])\n"
   ]
  },
  {
   "cell_type": "markdown",
   "id": "81c77e02-21a4-4780-a935-54be718f584d",
   "metadata": {},
   "source": [
    "## 요소 이어 붙히기"
   ]
  },
  {
   "cell_type": "code",
   "execution_count": 106,
   "id": "103ef622-da04-4aa7-89e2-a9e9ed6c4185",
   "metadata": {},
   "outputs": [
    {
     "data": {
      "text/plain": [
       "'asdf3'"
      ]
     },
     "execution_count": 106,
     "metadata": {},
     "output_type": "execute_result"
    }
   ],
   "source": [
    "nums = ['asdf','3']\n",
    "''.join(nums)"
   ]
  },
  {
   "cell_type": "code",
   "execution_count": null,
   "id": "3457b1f3-f382-4b49-89de-186424493e74",
   "metadata": {},
   "outputs": [],
   "source": []
  },
  {
   "cell_type": "code",
   "execution_count": null,
   "id": "6e82eb9a-e3b3-4745-8998-cc9d2ab1e024",
   "metadata": {},
   "outputs": [],
   "source": []
  }
 ],
 "metadata": {
  "kernelspec": {
   "display_name": "Python 3 (ipykernel)",
   "language": "python",
   "name": "python3"
  },
  "language_info": {
   "codemirror_mode": {
    "name": "ipython",
    "version": 3
   },
   "file_extension": ".py",
   "mimetype": "text/x-python",
   "name": "python",
   "nbconvert_exporter": "python",
   "pygments_lexer": "ipython3",
   "version": "3.8.5"
  }
 },
 "nbformat": 4,
 "nbformat_minor": 5
}
