{
 "cells": [
  {
   "cell_type": "markdown",
   "id": "b6191061-2db5-4f24-b175-de68d23cf110",
   "metadata": {},
   "source": [
    "# 나의 답안 \n",
    "- 시간초과 밑에로 해결하긴함.\n",
    "- \n",
    "    order = sys.stdin.readline()"
   ]
  },
  {
   "cell_type": "code",
   "execution_count": 23,
   "id": "3e2a7e59-52f8-4a52-b01d-7c2bd3e6f08d",
   "metadata": {
    "scrolled": true
   },
   "outputs": [
    {
     "name": "stdin",
     "output_type": "stream",
     "text": [
      " 15\n",
      " push 1\n",
      " push 2\n",
      " front\n"
     ]
    },
    {
     "name": "stdout",
     "output_type": "stream",
     "text": [
      "1\n"
     ]
    },
    {
     "name": "stdin",
     "output_type": "stream",
     "text": [
      " back\n"
     ]
    },
    {
     "name": "stdout",
     "output_type": "stream",
     "text": [
      "2\n"
     ]
    },
    {
     "name": "stdin",
     "output_type": "stream",
     "text": [
      " size\n"
     ]
    },
    {
     "name": "stdout",
     "output_type": "stream",
     "text": [
      "2\n"
     ]
    },
    {
     "name": "stdin",
     "output_type": "stream",
     "text": [
      " empty\n"
     ]
    },
    {
     "name": "stdout",
     "output_type": "stream",
     "text": [
      "1\n"
     ]
    },
    {
     "name": "stdin",
     "output_type": "stream",
     "text": [
      " pop\n"
     ]
    },
    {
     "name": "stdout",
     "output_type": "stream",
     "text": [
      "1\n"
     ]
    },
    {
     "name": "stdin",
     "output_type": "stream",
     "text": [
      " pop\n"
     ]
    },
    {
     "name": "stdout",
     "output_type": "stream",
     "text": [
      "2\n"
     ]
    },
    {
     "name": "stdin",
     "output_type": "stream",
     "text": [
      " pop\n"
     ]
    },
    {
     "name": "stdout",
     "output_type": "stream",
     "text": [
      "-1\n"
     ]
    },
    {
     "name": "stdin",
     "output_type": "stream",
     "text": [
      " size\n"
     ]
    },
    {
     "name": "stdout",
     "output_type": "stream",
     "text": [
      "0\n"
     ]
    },
    {
     "name": "stdin",
     "output_type": "stream",
     "text": [
      " empty\n"
     ]
    },
    {
     "name": "stdout",
     "output_type": "stream",
     "text": [
      "0\n"
     ]
    },
    {
     "name": "stdin",
     "output_type": "stream",
     "text": [
      " pop\n"
     ]
    },
    {
     "name": "stdout",
     "output_type": "stream",
     "text": [
      "-1\n"
     ]
    },
    {
     "name": "stdin",
     "output_type": "stream",
     "text": [
      " push 3\n",
      " empty\n"
     ]
    },
    {
     "name": "stdout",
     "output_type": "stream",
     "text": [
      "1\n"
     ]
    },
    {
     "name": "stdin",
     "output_type": "stream",
     "text": [
      " front\n"
     ]
    },
    {
     "name": "stdout",
     "output_type": "stream",
     "text": [
      "3\n"
     ]
    }
   ],
   "source": [
    "from collections import deque\n",
    "import sys\n",
    "ddd = deque()\n",
    "for i in range(int(input())):\n",
    "    \n",
    "    #order = input()\n",
    "    order = sys.stdin.readline()\n",
    "    if order.startswith('push'):\n",
    "        ddd.append(int(order[5:]))    \n",
    "        \n",
    "    elif order.startswith('pop'):\n",
    "        if len(ddd) !=0:\n",
    "            first = ddd.popleft()\n",
    "            print(first)\n",
    "        else:\n",
    "            print(-1)\n",
    "    elif order.startswith('size'):\n",
    "        print(len(ddd))\n",
    "    elif order.startswith('empty'):\n",
    "        if len(ddd) ==0:\n",
    "            print(1)\n",
    "        else:\n",
    "            print(0)\n",
    "    elif order.startswith('front'):\n",
    "        if len(ddd)!=0:\n",
    "            print(ddd[0])\n",
    "        else:\n",
    "            print(-1)\n",
    "    else:\n",
    "        if len(ddd)!=0:\n",
    "            print(ddd[-1])\n",
    "        else:\n",
    "            print(-1)\n",
    "    #print(ddd)"
   ]
  },
  {
   "cell_type": "code",
   "execution_count": 59,
   "id": "be77a20e-4df8-4a6a-9ab9-e6512da9498d",
   "metadata": {},
   "outputs": [
    {
     "name": "stdin",
     "output_type": "stream",
     "text": [
      " line = 'So when I die (the [first] I will see in (heaven) is a score list).' line =\" .\" while True:     line = input()     if line == '.':         break              a  = []     for i in line:         if i in ['[',']','(',')']:            a.append(i)     aa = ''.join(a)     while True:         if '[]' in aa or '()' in aa:             aa = aa.replace(\"()\",\"\")             aa = aa.replace(\"[]\",\"\")         else:              break     if aa =='':         print(\"yes\")     else:         print(\"no\")     \n"
     ]
    },
    {
     "name": "stdout",
     "output_type": "stream",
     "text": [
      "yes\n"
     ]
    },
    {
     "name": "stdin",
     "output_type": "stream",
     "text": [
      " .\n"
     ]
    }
   ],
   "source": []
  },
  {
   "cell_type": "code",
   "execution_count": null,
   "id": "c58ad932-0019-4894-a950-39fbdc75bff4",
   "metadata": {},
   "outputs": [],
   "source": []
  }
 ],
 "metadata": {
  "kernelspec": {
   "display_name": "Python 3 (ipykernel)",
   "language": "python",
   "name": "python3"
  },
  "language_info": {
   "codemirror_mode": {
    "name": "ipython",
    "version": 3
   },
   "file_extension": ".py",
   "mimetype": "text/x-python",
   "name": "python",
   "nbconvert_exporter": "python",
   "pygments_lexer": "ipython3",
   "version": "3.8.5"
  }
 },
 "nbformat": 4,
 "nbformat_minor": 5
}
