{
 "cells": [
  {
   "cell_type": "markdown",
   "id": "b6191061-2db5-4f24-b175-de68d23cf110",
   "metadata": {},
   "source": [
    "# 나의 답안 \n",
    "- 시간초과 밑에로 해결하긴함.\n",
    "- \n",
    "    order = sys.stdin.readline()"
   ]
  },
  {
   "cell_type": "code",
   "execution_count": 11,
   "id": "3e2a7e59-52f8-4a52-b01d-7c2bd3e6f08d",
   "metadata": {
    "scrolled": true
   },
   "outputs": [
    {
     "ename": "SyntaxError",
     "evalue": "invalid syntax (3819755311.py, line 3)",
     "output_type": "error",
     "traceback": [
      "\u001b[1;36m  Input \u001b[1;32mIn [11]\u001b[1;36m\u001b[0m\n\u001b[1;33m    for i in range(int(input()):\u001b[0m\n\u001b[1;37m                               ^\u001b[0m\n\u001b[1;31mSyntaxError\u001b[0m\u001b[1;31m:\u001b[0m invalid syntax\n"
     ]
    }
   ],
   "source": [
    "from collections import deque\n",
    "d= deque()\n",
    "for i in range(int(input())):\n",
    "    d.append(1+i)\n",
    "while True:\n",
    "    d.popleft()\n",
    "    d.append(d.popleft())\n",
    "    if len(d)==1:\n",
    "        break\n",
    "print(d[0])"
   ]
  },
  {
   "cell_type": "code",
   "execution_count": null,
   "id": "c58ad932-0019-4894-a950-39fbdc75bff4",
   "metadata": {},
   "outputs": [],
   "source": []
  }
 ],
 "metadata": {
  "kernelspec": {
   "display_name": "Python 3 (ipykernel)",
   "language": "python",
   "name": "python3"
  },
  "language_info": {
   "codemirror_mode": {
    "name": "ipython",
    "version": 3
   },
   "file_extension": ".py",
   "mimetype": "text/x-python",
   "name": "python",
   "nbconvert_exporter": "python",
   "pygments_lexer": "ipython3",
   "version": "3.8.5"
  }
 },
 "nbformat": 4,
 "nbformat_minor": 5
}
