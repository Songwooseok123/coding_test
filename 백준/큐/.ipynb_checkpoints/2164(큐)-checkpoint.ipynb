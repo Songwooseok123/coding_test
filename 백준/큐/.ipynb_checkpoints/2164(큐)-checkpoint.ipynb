{
 "cells": [
  {
   "cell_type": "markdown",
   "id": "b6191061-2db5-4f24-b175-de68d23cf110",
   "metadata": {},
   "source": [
    "# 나의 답안 \n",
    "- runtime error "
   ]
  },
  {
   "cell_type": "code",
   "execution_count": 4,
   "id": "c58ad932-0019-4894-a950-39fbdc75bff4",
   "metadata": {},
   "outputs": [
    {
     "name": "stdin",
     "output_type": "stream",
     "text": [
      " 0\n"
     ]
    },
    {
     "ename": "IndexError",
     "evalue": "pop from an empty deque",
     "output_type": "error",
     "traceback": [
      "\u001b[1;31m---------------------------------------------------------------------------\u001b[0m",
      "\u001b[1;31mIndexError\u001b[0m                                Traceback (most recent call last)",
      "Input \u001b[1;32mIn [4]\u001b[0m, in \u001b[0;36m<cell line: 6>\u001b[1;34m()\u001b[0m\n\u001b[0;32m      4\u001b[0m     d\u001b[38;5;241m.\u001b[39mappend(\u001b[38;5;241m1\u001b[39m\u001b[38;5;241m+\u001b[39mi)\n\u001b[0;32m      5\u001b[0m \u001b[38;5;28;01mwhile\u001b[39;00m \u001b[38;5;28;01mTrue\u001b[39;00m:\n\u001b[1;32m----> 6\u001b[0m     \u001b[43md\u001b[49m\u001b[38;5;241;43m.\u001b[39;49m\u001b[43mpopleft\u001b[49m\u001b[43m(\u001b[49m\u001b[43m)\u001b[49m\n\u001b[0;32m      7\u001b[0m     d\u001b[38;5;241m.\u001b[39mappend(d\u001b[38;5;241m.\u001b[39mpopleft())\n\u001b[0;32m      8\u001b[0m     \u001b[38;5;28;01mif\u001b[39;00m \u001b[38;5;28mlen\u001b[39m(d)\u001b[38;5;241m==\u001b[39m\u001b[38;5;241m1\u001b[39m:\n",
      "\u001b[1;31mIndexError\u001b[0m: pop from an empty deque"
     ]
    }
   ],
   "source": [
    "from collections import deque\n",
    "d= deque()\n",
    "for i in range(int(input())):\n",
    "    d.append(1+i)\n",
    "while True:\n",
    "    d.popleft()\n",
    "    d.append(d.popleft())\n",
    "    if len(d)==1:\n",
    "        break\n",
    "print(d[0])"
   ]
  },
  {
   "cell_type": "markdown",
   "id": "1beedde8-c3bf-4edc-8e26-ef4dcfdb7e70",
   "metadata": {},
   "source": [
    "# 모범답안\n",
    "- runtime error 이유: while 문 돌다가 조건문 만나서 break 하는것때문에-> 차라리 1보다 크면 while 문을 실행 안하는 방법을 택하는게 나음\n",
    "- 큐를 만드는데 불필요하게 append를 사용하지 않고, 바로 range 써서 만들기. \n"
   ]
  },
  {
   "cell_type": "code",
   "execution_count": 13,
   "id": "8bf68090-d7e9-4608-8b5c-749f5a49a179",
   "metadata": {},
   "outputs": [
    {
     "name": "stdin",
     "output_type": "stream",
     "text": [
      " 4\n"
     ]
    },
    {
     "name": "stdout",
     "output_type": "stream",
     "text": [
      "4\n"
     ]
    }
   ],
   "source": [
    "from collections import deque\n",
    "d= deque(range(1,int(input())+1))\n",
    "\n",
    "while len(d)>1:\n",
    "    d.popleft()\n",
    "    d.append(d.popleft())\n",
    "print(d[0])"
   ]
  },
  {
   "cell_type": "code",
   "execution_count": 8,
   "id": "14fa7562-969d-4ea2-b5b2-e7f2d9a0c591",
   "metadata": {},
   "outputs": [
    {
     "data": {
      "text/plain": [
       "deque([3])"
      ]
     },
     "execution_count": 8,
     "metadata": {},
     "output_type": "execute_result"
    }
   ],
   "source": [
    "d"
   ]
  },
  {
   "cell_type": "code",
   "execution_count": null,
   "id": "7f2df359-7df3-426c-945b-6e7267773b32",
   "metadata": {},
   "outputs": [],
   "source": []
  }
 ],
 "metadata": {
  "kernelspec": {
   "display_name": "Python 3 (ipykernel)",
   "language": "python",
   "name": "python3"
  },
  "language_info": {
   "codemirror_mode": {
    "name": "ipython",
    "version": 3
   },
   "file_extension": ".py",
   "mimetype": "text/x-python",
   "name": "python",
   "nbconvert_exporter": "python",
   "pygments_lexer": "ipython3",
   "version": "3.8.5"
  }
 },
 "nbformat": 4,
 "nbformat_minor": 5
}
