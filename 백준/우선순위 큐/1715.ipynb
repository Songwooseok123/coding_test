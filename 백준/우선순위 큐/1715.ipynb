{
 "cells": [
  {
   "cell_type": "markdown",
   "id": "0f34f170-6546-482f-bd24-999952f1dbf3",
   "metadata": {},
   "source": [
    "# 나의 답안\n",
    "- 가장 작은 거 2개를 합쳐야겠다.\n",
    "- "
   ]
  },
  {
   "cell_type": "markdown",
   "id": "0b0e547c-3c60-4925-8244-45b74b021f5f",
   "metadata": {},
   "source": [
    "### heapq 사용부터 -> 틀려씅ㅁ"
   ]
  },
  {
   "cell_type": "code",
   "execution_count": 5,
   "id": "f5635e7c-37b1-4d03-a0c1-8b1758b11b41",
   "metadata": {},
   "outputs": [
    {
     "name": "stdin",
     "output_type": "stream",
     "text": [
      " 3\n",
      " 33\n",
      " 3\n",
      " 3\n"
     ]
    },
    {
     "name": "stdout",
     "output_type": "stream",
     "text": [
      "45\n"
     ]
    }
   ],
   "source": [
    "import heapq\n",
    "\n",
    "n =int(input())\n",
    "totals = []\n",
    "for _ in range(n):\n",
    "    heapq.heappush(totals,int(input()))\n",
    "\n",
    "total_sum = 0\n",
    "while True:\n",
    "    if len(totals) <3:\n",
    "        print(total_sum + sum(totals))\n",
    "        break\n",
    "    # 가장 작은거 2개 뽑아서 업데이트 sum 업데이트\n",
    "    a= heapq.heappop(totals)\n",
    "    b= heapq.heappop(totals)\n",
    "    min_sum = a+b\n",
    "    total_sum += min_sum\n",
    "    # sum을 totals 에 추가 \n",
    "    heapq.heappush(totals, min_sum)\n",
    "    #print(total_sum,totals)\n",
    "    \n",
    "\n",
    "#print(sum(totals))"
   ]
  },
  {
   "cell_type": "markdown",
   "id": "51823d98-1bbc-4acf-9369-77ea2fc162cb",
   "metadata": {},
   "source": [
    "# 모범답안"
   ]
  },
  {
   "cell_type": "code",
   "execution_count": 13,
   "id": "1dc3b7dd-afd0-434b-bd57-4bbdb8fd298d",
   "metadata": {},
   "outputs": [
    {
     "name": "stdin",
     "output_type": "stream",
     "text": [
      " 3\n",
      " 10\n",
      " 20\n",
      " 40\n"
     ]
    },
    {
     "name": "stdout",
     "output_type": "stream",
     "text": [
      "100\n"
     ]
    }
   ],
   "source": [
    "from queue import PriorityQueue\n",
    "\n",
    "n = int(input())\n",
    "pq = PriorityQueue()\n",
    "\n",
    "for _ in range(n):\n",
    "    pq.put(int(input()))\n",
    "\n",
    "total_sum =0\n",
    "while True:\n",
    "    if pq.qsize() <2:\n",
    "        break\n",
    "    # 가장 작은거 2개 뽑아서 업데이트 sum 업데이트\n",
    "    a= pq.get()\n",
    "    b= pq.get()\n",
    "    min_sum = a+b\n",
    "    total_sum += min_sum\n",
    "    # sum을 totals 에 추가 \n",
    "    pq.put(min_sum)\n",
    "\n",
    "\n",
    "print(total_sum)"
   ]
  },
  {
   "cell_type": "markdown",
   "id": "428de702-4bb4-410d-a67f-dd8b737c36f4",
   "metadata": {},
   "source": [
    "### heapq로"
   ]
  },
  {
   "cell_type": "code",
   "execution_count": 15,
   "id": "e08b4f97-8067-4056-8798-515a3af3d9c9",
   "metadata": {},
   "outputs": [
    {
     "name": "stdin",
     "output_type": "stream",
     "text": [
      " 3\n",
      " 10\n",
      " 20\n",
      " 40\n"
     ]
    },
    {
     "name": "stdout",
     "output_type": "stream",
     "text": [
      "100\n"
     ]
    }
   ],
   "source": [
    "import heapq\n",
    "n = int(input())\n",
    "pq = []\n",
    "for _ in range(n):\n",
    "    heapq.heappush(pq,int(input()))\n",
    "total =0\n",
    "while True:\n",
    "    if len(pq)<2:\n",
    "        break\n",
    "    a = heapq.heappop(pq)\n",
    "    b = heapq.heappop(pq)\n",
    "    total +=a+b\n",
    "    heapq.heappush(pq,a+b)\n",
    "print(total)"
   ]
  },
  {
   "cell_type": "code",
   "execution_count": null,
   "id": "e46b17a6-986b-40a8-8979-be5c9740eda0",
   "metadata": {},
   "outputs": [],
   "source": []
  }
 ],
 "metadata": {
  "kernelspec": {
   "display_name": "Python 3 (ipykernel)",
   "language": "python",
   "name": "python3"
  },
  "language_info": {
   "codemirror_mode": {
    "name": "ipython",
    "version": 3
   },
   "file_extension": ".py",
   "mimetype": "text/x-python",
   "name": "python",
   "nbconvert_exporter": "python",
   "pygments_lexer": "ipython3",
   "version": "3.8.5"
  }
 },
 "nbformat": 4,
 "nbformat_minor": 5
}
