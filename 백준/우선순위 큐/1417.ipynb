{
 "cells": [
  {
   "cell_type": "markdown",
   "id": "87a6ba00-877d-432c-b2aa-068cad561f5f",
   "metadata": {},
   "source": [
    "# 나의 답안\n",
    "- argmax 로 구현하려다가 실패함"
   ]
  },
  {
   "cell_type": "code",
   "execution_count": 6,
   "id": "a926b3db-32e7-4b2a-a8f6-4c557203b8ec",
   "metadata": {},
   "outputs": [
    {
     "name": "stdin",
     "output_type": "stream",
     "text": [
      " 3\n",
      " 5\n",
      " 5\n",
      " 7\n"
     ]
    }
   ],
   "source": [
    "n =int(input())\n",
    "n_c = []\n",
    "for _ in range(n):\n",
    "    n_c.append(-int(input()))"
   ]
  },
  {
   "cell_type": "code",
   "execution_count": 19,
   "id": "c41ddb4c-648f-4d31-bd2e-16c6276958cb",
   "metadata": {},
   "outputs": [],
   "source": [
    "n,n_c = 3, [5,7,7]\n",
    "n,n_c = 4, [10,10,10]\n"
   ]
  },
  {
   "cell_type": "code",
   "execution_count": 1,
   "id": "98c59618-bc7c-413e-aa30-af905b6b2b82",
   "metadata": {
    "scrolled": true
   },
   "outputs": [
    {
     "ename": "NameError",
     "evalue": "name 'n_c' is not defined",
     "output_type": "error",
     "traceback": [
      "\u001b[1;31m---------------------------------------------------------------------------\u001b[0m",
      "\u001b[1;31mNameError\u001b[0m                                 Traceback (most recent call last)",
      "Input \u001b[1;32mIn [1]\u001b[0m, in \u001b[0;36m<cell line: 4>\u001b[1;34m()\u001b[0m\n\u001b[0;32m      2\u001b[0m cc\u001b[38;5;241m=\u001b[39m\u001b[38;5;241m0\u001b[39m\n\u001b[0;32m      3\u001b[0m \u001b[38;5;28;01mwhile\u001b[39;00m \u001b[38;5;28;01mTrue\u001b[39;00m:\n\u001b[1;32m----> 4\u001b[0m     \u001b[38;5;28;01mif\u001b[39;00m np\u001b[38;5;241m.\u001b[39margmax(\u001b[43mn_c\u001b[49m)\u001b[38;5;241m==\u001b[39m\u001b[38;5;241m0\u001b[39m \u001b[38;5;129;01mand\u001b[39;00m n_c[\u001b[38;5;241m0\u001b[39m]\u001b[38;5;241m!=\u001b[39m \u001b[38;5;28mmax\u001b[39m(n_c[\u001b[38;5;241m1\u001b[39m:]):\n\u001b[0;32m      5\u001b[0m         \u001b[38;5;28mprint\u001b[39m(cc)\n\u001b[0;32m      6\u001b[0m         \u001b[38;5;28;01mbreak\u001b[39;00m\n",
      "\u001b[1;31mNameError\u001b[0m: name 'n_c' is not defined"
     ]
    }
   ],
   "source": [
    "import numpy as np\n",
    "cc=0\n",
    "while True:\n",
    "    if np.argmax(n_c)==0 and n_c[0]!= max(n_c[1:]):\n",
    "        print(cc)\n",
    "        break\n",
    "\n",
    "    # 가장 큰 놈에서 하나를 뺏어와야됨\n",
    "    n_c[np.argmax(n_c)] -=1\n",
    "    #print(n_c)\n",
    "    n_c[0]+=1\n",
    "    cc+=1\n",
    "    #print(n_c)\n",
    "    "
   ]
  },
  {
   "cell_type": "markdown",
   "id": "749becf1-95e7-4ce2-aa58-60c97375130b",
   "metadata": {},
   "source": [
    "# 모범답안\n",
    "- 매순간 표가 가장 많은 사람한테서 1표씩 가져오면됨 "
   ]
  },
  {
   "cell_type": "code",
   "execution_count": 4,
   "id": "efe76271-b08a-4048-9266-80d5198754dd",
   "metadata": {},
   "outputs": [
    {
     "name": "stdin",
     "output_type": "stream",
     "text": [
      " 3\n",
      " 5\n",
      " 7\n",
      " 7\n"
     ]
    },
    {
     "name": "stdout",
     "output_type": "stream",
     "text": [
      "2\n"
     ]
    }
   ],
   "source": [
    "from queue import PriorityQueue\n",
    "\n",
    "n =int(input())\n",
    "totals = []\n",
    "for _ in range(n):\n",
    "    totals.append(int(input()))\n",
    "\n",
    "\n",
    "pq = PriorityQueue()\n",
    "for i in range(1,n):  # 본인 빼고 후보 넣음\n",
    "    pq.put(-totals[i]) \n",
    "\n",
    "if n ==1:\n",
    "    print(0)\n",
    "\n",
    "else:\n",
    "    count = 0\n",
    "    while True: # 1표씩 매수 \n",
    "        max_value = -pq.get()\n",
    "        if max_value < totals[0]:\n",
    "            break\n",
    "        max_value -=1\n",
    "        totals[0] +=1\n",
    "        count +=1\n",
    "        pq.put(-max_value)\n",
    "        \n",
    "    print(count)"
   ]
  },
  {
   "cell_type": "markdown",
   "id": "8540f3f1-74b6-47d1-a115-6ac35b589194",
   "metadata": {},
   "source": [
    "## heapq로도 풀어보기\n"
   ]
  },
  {
   "cell_type": "code",
   "execution_count": 1,
   "id": "00e6504c-a766-4a89-8846-4f156ec9175f",
   "metadata": {},
   "outputs": [
    {
     "name": "stdin",
     "output_type": "stream",
     "text": [
      " 3\n",
      " 5\n",
      " 7\n",
      " 7\n"
     ]
    },
    {
     "name": "stdout",
     "output_type": "stream",
     "text": [
      "2\n"
     ]
    }
   ],
   "source": [
    "import heapq\n",
    "\n",
    "n = int(input())\n",
    "totals = []\n",
    "for _ in range(n):\n",
    "    totals.append(int(input()))\n",
    "\n",
    "pq = []\n",
    "\n",
    "for i in range(1, n):\n",
    "    heapq.heappush(pq, -totals[i])\n",
    "\n",
    "if n == 1:\n",
    "    print(0)\n",
    "else:\n",
    "    count = 0\n",
    "    while pq: # pq 가 비어있으면 pop할 떄 런타임 에러뜸 \n",
    "        max_value = -heapq.heappop(pq)\n",
    "        if max_value < totals[0]:\n",
    "            break\n",
    "        max_value -= 1\n",
    "        totals[0] += 1\n",
    "        count += 1\n",
    "        heapq.heappush(pq, -max_value)\n",
    "    print(count)\n"
   ]
  },
  {
   "cell_type": "code",
   "execution_count": 2,
   "id": "f9fc8022-8503-48f0-9ac8-fa92f7c1c6a4",
   "metadata": {},
   "outputs": [
    {
     "data": {
      "text/plain": [
       "1"
      ]
     },
     "execution_count": 2,
     "metadata": {},
     "output_type": "execute_result"
    }
   ],
   "source": [
    "len(pq)"
   ]
  },
  {
   "cell_type": "code",
   "execution_count": 15,
   "id": "08ecb97c-ca98-4485-a73a-4b5c4f01dd32",
   "metadata": {},
   "outputs": [
    {
     "data": {
      "text/plain": [
       "[-7, -7]"
      ]
     },
     "execution_count": 15,
     "metadata": {},
     "output_type": "execute_result"
    }
   ],
   "source": [
    "pq = []\n",
    "\n",
    "for i in range(1,n):\n",
    "    heapq.heappush(pq,-totals[i])\n",
    "if n ==1:\n",
    "    print(0)\n",
    "else:\n",
    "    count =0\n",
    "    while True:\n",
    "        max_value = - heapq.heappop(pq)\n",
    "        if max_value< totals[0]:\n",
    "            break\n",
    "        max_value -=1\n",
    "        totals[0] +=1\n",
    "        count +=1\n",
    "        heapq.heappush(pq,-max_value)\n",
    "print(count)  "
   ]
  },
  {
   "cell_type": "code",
   "execution_count": 16,
   "id": "5596e9b7-8e27-4d93-943c-117fd2539ec8",
   "metadata": {},
   "outputs": [
    {
     "name": "stdout",
     "output_type": "stream",
     "text": [
      "2\n"
     ]
    }
   ],
   "source": [
    "     "
   ]
  },
  {
   "cell_type": "code",
   "execution_count": 17,
   "id": "16aeed22-71eb-469f-b3f0-1fceec5287ed",
   "metadata": {},
   "outputs": [
    {
     "data": {
      "text/plain": [
       "2"
      ]
     },
     "execution_count": 17,
     "metadata": {},
     "output_type": "execute_result"
    }
   ],
   "source": [
    "count"
   ]
  },
  {
   "cell_type": "code",
   "execution_count": null,
   "id": "282a2e60-c368-49db-972e-6240a14948e5",
   "metadata": {},
   "outputs": [],
   "source": []
  }
 ],
 "metadata": {
  "kernelspec": {
   "display_name": "Python 3 (ipykernel)",
   "language": "python",
   "name": "python3"
  },
  "language_info": {
   "codemirror_mode": {
    "name": "ipython",
    "version": 3
   },
   "file_extension": ".py",
   "mimetype": "text/x-python",
   "name": "python",
   "nbconvert_exporter": "python",
   "pygments_lexer": "ipython3",
   "version": "3.8.5"
  }
 },
 "nbformat": 4,
 "nbformat_minor": 5
}
