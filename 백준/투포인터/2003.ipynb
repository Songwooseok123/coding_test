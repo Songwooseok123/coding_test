{
 "cells": [
  {
   "cell_type": "markdown",
   "id": "9d22846d-f4c5-4b55-a83a-b413d742710b",
   "metadata": {},
   "source": [
    "# 나의 답안\n",
    "- 시간초과"
   ]
  },
  {
   "cell_type": "code",
   "execution_count": 20,
   "id": "2d47c15f-306b-449b-9338-37b536918a2b",
   "metadata": {},
   "outputs": [
    {
     "name": "stdin",
     "output_type": "stream",
     "text": [
      " 10 5\n",
      " 1 2 3 4 2 5 3 1 1 2\n"
     ]
    },
    {
     "name": "stdout",
     "output_type": "stream",
     "text": [
      "3\n"
     ]
    }
   ],
   "source": [
    "n,m = list(map(int,input().split()))\n",
    "a = list(map(int,input().split()))\n",
    "main =0\n",
    "sub = n\n",
    "c=0\n",
    "while main !=sub:\n",
    "    #print(main,sub)\n",
    "    if sum(a[main:sub]) >m:\n",
    "        sub = sub-1\n",
    "    elif sum(a[main:sub]) ==m:\n",
    "        #print(main,sub,\"#####3\")\n",
    "        c+=1\n",
    "        main +=1\n",
    "        sub =n\n",
    "    else:\n",
    "        main+=1\n",
    "        sub =n\n",
    "print(c)"
   ]
  },
  {
   "cell_type": "code",
   "execution_count": 19,
   "id": "c2b86f03-d3ea-4b7d-8112-d9c7a38a06bf",
   "metadata": {
    "scrolled": true
   },
   "outputs": [
    {
     "ename": "ValueError",
     "evalue": "not enough values to unpack (expected 2, got 0)",
     "output_type": "error",
     "traceback": [
      "\u001b[1;31m---------------------------------------------------------------------------\u001b[0m",
      "\u001b[1;31mValueError\u001b[0m                                Traceback (most recent call last)",
      "Input \u001b[1;32mIn [19]\u001b[0m, in \u001b[0;36m<cell line: 2>\u001b[1;34m()\u001b[0m\n\u001b[0;32m      1\u001b[0m \u001b[38;5;28;01mimport\u001b[39;00m \u001b[38;5;21;01msys\u001b[39;00m\n\u001b[1;32m----> 2\u001b[0m n,m \u001b[38;5;241m=\u001b[39m \u001b[38;5;28mlist\u001b[39m(\u001b[38;5;28mmap\u001b[39m(\u001b[38;5;28mint\u001b[39m,sys\u001b[38;5;241m.\u001b[39mstdin\u001b[38;5;241m.\u001b[39mreadline()\u001b[38;5;241m.\u001b[39msplit()))\n\u001b[0;32m      3\u001b[0m a \u001b[38;5;241m=\u001b[39m \u001b[38;5;28mlist\u001b[39m(\u001b[38;5;28mmap\u001b[39m(\u001b[38;5;28mint\u001b[39m,sys\u001b[38;5;241m.\u001b[39mstdin\u001b[38;5;241m.\u001b[39mreadline()\u001b[38;5;241m.\u001b[39msplit()))\n\u001b[0;32m      4\u001b[0m main \u001b[38;5;241m=\u001b[39m\u001b[38;5;241m0\u001b[39m\n",
      "\u001b[1;31mValueError\u001b[0m: not enough values to unpack (expected 2, got 0)"
     ]
    }
   ],
   "source": [
    "import sys\n",
    "n,m = list(map(int,sys.stdin.readline().split()))\n",
    "a = list(map(int,sys.stdin.readline().split()))\n",
    "main =0\n",
    "sub = n\n",
    "c=0\n",
    "while main !=sub:\n",
    "    #print(main,sub)\n",
    "    if sum(a[main:sub]) >m:\n",
    "        sub = sub-1\n",
    "    elif sum(a[main:sub]) ==m:\n",
    "        #print(main,sub,\"#####3\")\n",
    "        c+=1\n",
    "        main +=1\n",
    "        sub =n\n",
    "    else:\n",
    "        main+=1\n",
    "        sub =n\n",
    "print(c)"
   ]
  },
  {
   "cell_type": "markdown",
   "id": "5bf566b5-9de3-47f9-a561-a08ab0a99642",
   "metadata": {},
   "source": [
    "# 모범답안"
   ]
  },
  {
   "cell_type": "code",
   "execution_count": 28,
   "id": "ca121be5-eac9-4f2c-b718-73070838c0e8",
   "metadata": {
    "scrolled": true
   },
   "outputs": [
    {
     "name": "stdout",
     "output_type": "stream",
     "text": [
      "3\n"
     ]
    }
   ],
   "source": [
    "n,m = 10,5\n",
    "a =[1,2,3,4,2,5,3,1,1,2]\n",
    "\n",
    "#n,m = 4,2\n",
    "#a =[1,1,1,1]\n",
    "\n",
    "\n",
    "start =0\n",
    "end = 0\n",
    "sum =a[0]\n",
    "c=0\n",
    "\n",
    "while True:\n",
    "    if sum ==m:\n",
    "        c+=1\n",
    "    if sum>=m:\n",
    "        start +=1\n",
    "        sum -=a[start-1]\n",
    "    else:\n",
    "        if end ==n-1:\n",
    "            break\n",
    "        end+=1\n",
    "        sum +=a[end]\n",
    "print(c)"
   ]
  }
 ],
 "metadata": {
  "kernelspec": {
   "display_name": "Python 3 (ipykernel)",
   "language": "python",
   "name": "python3"
  },
  "language_info": {
   "codemirror_mode": {
    "name": "ipython",
    "version": 3
   },
   "file_extension": ".py",
   "mimetype": "text/x-python",
   "name": "python",
   "nbconvert_exporter": "python",
   "pygments_lexer": "ipython3",
   "version": "3.8.5"
  }
 },
 "nbformat": 4,
 "nbformat_minor": 5
}
