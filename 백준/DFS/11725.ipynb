{
 "cells": [
  {
   "cell_type": "code",
   "execution_count": 1,
   "id": "c301b694-817d-46fb-91d4-d7e13b37b633",
   "metadata": {},
   "outputs": [
    {
     "name": "stdin",
     "output_type": "stream",
     "text": [
      " 7\n",
      " 1 6\n",
      " 6 3\n",
      " 3 5\n",
      " 4 1\n",
      " 2 4\n",
      " 4 7\n"
     ]
    }
   ],
   "source": []
  },
  {
   "cell_type": "code",
   "execution_count": 1,
   "id": "c7f4cc66-ae11-499f-a0b2-5dc35f8a0a4f",
   "metadata": {
    "collapsed": true,
    "jupyter": {
     "outputs_hidden": true
    }
   },
   "outputs": [
    {
     "name": "stdin",
     "output_type": "stream",
     "text": [
      " 7\n",
      " 1 6\n",
      " 6 3\n",
      " 3 5\n",
      " 4 1\n",
      " 2 4\n",
      " 4 7\n"
     ]
    },
    {
     "name": "stdout",
     "output_type": "stream",
     "text": [
      "4\n",
      "6\n",
      "1\n",
      "3\n",
      "1\n",
      "4\n"
     ]
    }
   ],
   "source": [
    "n = int(input())\n",
    "\n",
    "adj = [[] for _ in range(n)]\n",
    "\n",
    "for i in range(n-1):\n",
    "    a,b = list(map(int,input().split()))\n",
    "    adj[a-1].append(b-1)\n",
    "    adj[b-1].append(a-1)\n"
   ]
  },
  {
   "cell_type": "markdown",
   "id": "2780bb4c-13bd-491d-b63f-6297e44e345c",
   "metadata": {},
   "source": [
    "# dfs\n",
    " - recursion 에러뜸\n"
   ]
  },
  {
   "cell_type": "code",
   "execution_count": null,
   "id": "336c8611-09e4-4865-9a70-2d7374796e87",
   "metadata": {},
   "outputs": [],
   "source": [
    "visit = [False]*n\n",
    "parent = [-1]*n\n",
    "\n",
    "\n",
    "def dfs(node):\n",
    "    visit[node] = True\n",
    "    for j in adj[node]:\n",
    "        if visit[j] == False:\n",
    "            parent[j] =node\n",
    "            dfs(j)\n",
    "    #return visit,parent\n",
    "dfs(0)\n",
    "for i in parent[1:]:\n",
    "    print(i+1)"
   ]
  },
  {
   "cell_type": "markdown",
   "id": "b879656d-036e-4527-8658-b328ca67d422",
   "metadata": {},
   "source": [
    "# bfs로 풀어볼게 "
   ]
  },
  {
   "cell_type": "code",
   "execution_count": 6,
   "id": "d2727829-6f68-4ec0-a434-f50267212c15",
   "metadata": {},
   "outputs": [
    {
     "name": "stdout",
     "output_type": "stream",
     "text": [
      "4\n",
      "6\n",
      "1\n",
      "3\n",
      "1\n",
      "4\n"
     ]
    }
   ],
   "source": [
    "from collections import deque\n",
    "visit = [False]*n\n",
    "parent = [-1]*n\n",
    "i = 0\n",
    "\n",
    "queue = deque()\n",
    "queue.append(i)\n",
    "visit[i] = True\n",
    "\n",
    "while queue:\n",
    "    u = queue.popleft()\n",
    "    for j in  adj[u]:\n",
    "        if visit[j] ==False:\n",
    "            queue.append(j)\n",
    "            visit[j] =True\n",
    "            parent[j] =u\n",
    "for i in parent[1:]:\n",
    "    print(i+1)            "
   ]
  },
  {
   "cell_type": "code",
   "execution_count": null,
   "id": "41d8b0e9-6773-47a8-8c42-b6cbbbc58004",
   "metadata": {},
   "outputs": [],
   "source": []
  }
 ],
 "metadata": {
  "kernelspec": {
   "display_name": "Python 3 (ipykernel)",
   "language": "python",
   "name": "python3"
  },
  "language_info": {
   "codemirror_mode": {
    "name": "ipython",
    "version": 3
   },
   "file_extension": ".py",
   "mimetype": "text/x-python",
   "name": "python",
   "nbconvert_exporter": "python",
   "pygments_lexer": "ipython3",
   "version": "3.8.5"
  }
 },
 "nbformat": 4,
 "nbformat_minor": 5
}
