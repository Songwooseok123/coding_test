{
 "cells": [
  {
   "cell_type": "code",
   "execution_count": 11,
   "id": "cea8d8b5-291f-4420-9d55-5145bd314914",
   "metadata": {},
   "outputs": [
    {
     "name": "stdin",
     "output_type": "stream",
     "text": [
      " 10\n",
      " 1\n",
      " 3\n",
      " 5\n",
      " 4\n",
      " 0\n",
      " 0\n",
      " 7\n",
      " 0\n",
      " 0\n",
      " 6\n"
     ]
    },
    {
     "name": "stdout",
     "output_type": "stream",
     "text": [
      "[1, 6]\n"
     ]
    }
   ],
   "source": [
    "k = int(input())\n",
    "#k = 4\n",
    "a= []\n",
    "for i in range(k):\n",
    "    value = int(input())\n",
    "    a.append(value)\n",
    "    if value ==0:\n",
    "        a.pop(-1)\n",
    "        a.pop(-1)\n",
    "print(sum(a))"
   ]
  },
  {
   "cell_type": "code",
   "execution_count": null,
   "id": "2e4c26a6-d160-4bf6-bfc5-9ee3badefc51",
   "metadata": {},
   "outputs": [],
   "source": [
    "#이 방법이 더 깔끔 \n",
    "ps = [1,3,5,4,0,0,7,0,0,6]\n",
    "\n",
    "# 후입선출 -> stack \n",
    "# 스텍은 리스틀로 구현 \n",
    "\n",
    "ll = []\n",
    "for p in ps:\n",
    "    if p !=0:\n",
    "        ll.append(p)\n",
    "    else:\n",
    "        ll.pop()\n",
    "print(sum(ll))"
   ]
  }
 ],
 "metadata": {
  "kernelspec": {
   "display_name": "Python 3 (ipykernel)",
   "language": "python",
   "name": "python3"
  },
  "language_info": {
   "codemirror_mode": {
    "name": "ipython",
    "version": 3
   },
   "file_extension": ".py",
   "mimetype": "text/x-python",
   "name": "python",
   "nbconvert_exporter": "python",
   "pygments_lexer": "ipython3",
   "version": "3.8.5"
  }
 },
 "nbformat": 4,
 "nbformat_minor": 5
}
