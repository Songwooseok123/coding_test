{
 "cells": [
  {
   "cell_type": "markdown",
   "id": "b6191061-2db5-4f24-b175-de68d23cf110",
   "metadata": {},
   "source": [
    "# 나의 답안 "
   ]
  },
  {
   "cell_type": "code",
   "execution_count": 27,
   "id": "cc9fd317-b276-4206-9892-8096a24658df",
   "metadata": {},
   "outputs": [
    {
     "name": "stdin",
     "output_type": "stream",
     "text": [
      " line = input()\n"
     ]
    },
    {
     "name": "stdout",
     "output_type": "stream",
     "text": [
      "yes\n"
     ]
    },
    {
     "name": "stdin",
     "output_type": "stream",
     "text": [
      " .\n"
     ]
    }
   ],
   "source": [
    "line = 'So when I die (the [first] I will see in (heaven) is a score list).'\n",
    "line =\" .\"\n",
    "while True:\n",
    "    line = input()\n",
    "    if line == '.':\n",
    "        break\n",
    "        \n",
    "    a  = []\n",
    "    for i in line:\n",
    "        if i in ['[',']','(',')']:\n",
    "           a.append(i)\n",
    "    aa = ''.join(a)\n",
    "    while True:\n",
    "        if '[]' in aa or '()' in aa:\n",
    "            aa = aa.replace(\"()\",\"\")\n",
    "            aa = aa.replace(\"[]\",\"\")\n",
    "        else: \n",
    "            break\n",
    "    if aa =='':\n",
    "        print(\"yes\")\n",
    "    else:\n",
    "        print(\"no\")\n",
    "    "
   ]
  },
  {
   "cell_type": "markdown",
   "id": "43f33e22-230a-4823-9184-c2789e134a40",
   "metadata": {},
   "source": [
    "# 모범답안\n",
    "- replace를 써서 O(N^2) 복잡도였음\n",
    "- stack을 통해서 O(N)으로 개선"
   ]
  },
  {
   "cell_type": "code",
   "execution_count": 59,
   "id": "be77a20e-4df8-4a6a-9ab9-e6512da9498d",
   "metadata": {},
   "outputs": [
    {
     "name": "stdin",
     "output_type": "stream",
     "text": [
      " line = 'So when I die (the [first] I will see in (heaven) is a score list).' line =\" .\" while True:     line = input()     if line == '.':         break              a  = []     for i in line:         if i in ['[',']','(',')']:            a.append(i)     aa = ''.join(a)     while True:         if '[]' in aa or '()' in aa:             aa = aa.replace(\"()\",\"\")             aa = aa.replace(\"[]\",\"\")         else:              break     if aa =='':         print(\"yes\")     else:         print(\"no\")     \n"
     ]
    },
    {
     "name": "stdout",
     "output_type": "stream",
     "text": [
      "yes\n"
     ]
    },
    {
     "name": "stdin",
     "output_type": "stream",
     "text": [
      " .\n"
     ]
    }
   ],
   "source": [
    "while True:\n",
    "    balanced = True\n",
    "    line = input()\n",
    "    if line == '.':\n",
    "        break\n",
    "    a= []\n",
    "    for i in line:\n",
    "        if i in ['[','(']:\n",
    "           a.append(i)\n",
    "           \n",
    "        if i == ')':\n",
    "            if a ==[]:\n",
    "                balanced = False\n",
    "                break\n",
    "            last = a.pop(-1)\n",
    "            if last != '(':\n",
    "                balanced = False\n",
    "                break\n",
    "            \n",
    "        if i == ']':\n",
    "            if a ==[]:\n",
    "                balanced = False\n",
    "                break\n",
    "            last = a.pop(-1)\n",
    "            if last != '[':\n",
    "                balanced = False\n",
    "                break\n",
    "            \n",
    "    if a == [] and balanced == True:\n",
    "        print('yes')\n",
    "    else:\n",
    "        print(\"no\")"
   ]
  },
  {
   "cell_type": "code",
   "execution_count": null,
   "id": "c58ad932-0019-4894-a950-39fbdc75bff4",
   "metadata": {},
   "outputs": [],
   "source": []
  }
 ],
 "metadata": {
  "kernelspec": {
   "display_name": "Python 3 (ipykernel)",
   "language": "python",
   "name": "python3"
  },
  "language_info": {
   "codemirror_mode": {
    "name": "ipython",
    "version": 3
   },
   "file_extension": ".py",
   "mimetype": "text/x-python",
   "name": "python",
   "nbconvert_exporter": "python",
   "pygments_lexer": "ipython3",
   "version": "3.8.5"
  }
 },
 "nbformat": 4,
 "nbformat_minor": 5
}
