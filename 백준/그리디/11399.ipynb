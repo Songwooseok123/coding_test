{
 "cells": [
  {
   "cell_type": "markdown",
   "id": "8b14b12d-1311-4090-aa8f-a878ffbebc53",
   "metadata": {},
   "source": [
    "# 나의 답안\n",
    "- SUM 때문에 복짭도 N^2됨"
   ]
  },
  {
   "cell_type": "code",
   "execution_count": null,
   "id": "4dad0f1e-f1af-47b6-af79-de497b349b3a",
   "metadata": {},
   "outputs": [],
   "source": [
    "import sys\n",
    "n = int(sys.stdin.readline())\n",
    "ps = list(map(int,sys.stdin.readline().split()))\n",
    "ps = sorted(ps)\n",
    "total =0\n",
    "for i in range(len(ps)):\n",
    "    total+= sum(ps[:i+1]) # SUM의 복잡도는 O(N)\n",
    "print(total)"
   ]
  },
  {
   "cell_type": "code",
   "execution_count": 1,
   "id": "50b37973-aa07-41a3-a676-e85a0ddcb684",
   "metadata": {},
   "outputs": [],
   "source": [
    "n = 5\n",
    "ps= [3,1,4,3,2]"
   ]
  },
  {
   "cell_type": "code",
   "execution_count": 2,
   "id": "fe99aeaf-deab-4c59-b802-c0e27fad5928",
   "metadata": {},
   "outputs": [
    {
     "data": {
      "text/plain": [
       "[1, 2, 3, 3, 4]"
      ]
     },
     "execution_count": 2,
     "metadata": {},
     "output_type": "execute_result"
    }
   ],
   "source": [
    "ps = sorted(ps)\n",
    "ps"
   ]
  },
  {
   "cell_type": "code",
   "execution_count": 3,
   "id": "6984e3b7-69ad-41ce-aba7-4ccaf83cdc38",
   "metadata": {},
   "outputs": [
    {
     "data": {
      "text/plain": [
       "32"
      ]
     },
     "execution_count": 3,
     "metadata": {},
     "output_type": "execute_result"
    }
   ],
   "source": [
    "ps = sorted(ps)\n",
    "total =0\n",
    "for i in range(len(ps)):\n",
    "    total+= sum(ps[:i+1])\n",
    "total"
   ]
  },
  {
   "cell_type": "markdown",
   "id": "ab464920-a372-4fd3-968d-1982f409f337",
   "metadata": {},
   "source": [
    "# 모범답안"
   ]
  },
  {
   "cell_type": "code",
   "execution_count": 4,
   "id": "1fd644a1-eb7c-4f2d-aac5-056234e514c9",
   "metadata": {},
   "outputs": [
    {
     "data": {
      "text/plain": [
       "32"
      ]
     },
     "execution_count": 4,
     "metadata": {},
     "output_type": "execute_result"
    }
   ],
   "source": [
    "ps = sorted(ps)\n",
    "total =0\n",
    "temp =0\n",
    "for p in ps:\n",
    "    temp = temp+p\n",
    "    total =total+temp\n",
    "total"
   ]
  },
  {
   "cell_type": "code",
   "execution_count": 6,
   "id": "b03a6471-8dd9-47e7-830c-7882bdd78dab",
   "metadata": {},
   "outputs": [
    {
     "name": "stdout",
     "output_type": "stream",
     "text": [
      "[1, 3, 6, 9, 13]\n",
      "32\n"
     ]
    }
   ],
   "source": [
    "# 누적합으로 풀어도됨 \n",
    "n = 5\n",
    "ps= [3,1,4,3,2]\n",
    "\n",
    "ps = sorted(ps)\n",
    "\n",
    "prefix_sum = [0]*n\n",
    "prefix_sum[0] = ps[0]\n",
    "for i in range(1,n):\n",
    "    prefix_sum[i] = prefix_sum[i-1]+ps[i]\n",
    "print(prefix_sum)\n",
    "print(sum(prefix_sum))\n"
   ]
  },
  {
   "cell_type": "code",
   "execution_count": null,
   "id": "2d10c831-23f8-4d0d-8987-3882a90651a0",
   "metadata": {},
   "outputs": [],
   "source": []
  }
 ],
 "metadata": {
  "kernelspec": {
   "display_name": "Python 3 (ipykernel)",
   "language": "python",
   "name": "python3"
  },
  "language_info": {
   "codemirror_mode": {
    "name": "ipython",
    "version": 3
   },
   "file_extension": ".py",
   "mimetype": "text/x-python",
   "name": "python",
   "nbconvert_exporter": "python",
   "pygments_lexer": "ipython3",
   "version": "3.8.5"
  }
 },
 "nbformat": 4,
 "nbformat_minor": 5
}
