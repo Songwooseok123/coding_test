{
 "cells": [
  {
   "cell_type": "markdown",
   "id": "8b14b12d-1311-4090-aa8f-a878ffbebc53",
   "metadata": {},
   "source": [
    "# 나의 답안\n",
    "- 정답"
   ]
  },
  {
   "cell_type": "code",
   "execution_count": null,
   "id": "4dad0f1e-f1af-47b6-af79-de497b349b3a",
   "metadata": {},
   "outputs": [],
   "source": [
    "import sys\n",
    "n = int(sys.stdin.readline())\n",
    "ps = []\n",
    "for i in range(n):\n",
    "    z = int(sys.stdin.readline())\n",
    "    ps.append(z)\n",
    "c= 0\n",
    "for i in range(len(ps)-1,0,-1):\n",
    "    print(ps)\n",
    "    gap = ps[i-1]-ps[i]\n",
    "    if gap>=0:\n",
    "        ps[i-1]=ps[i]-1\n",
    "        c+=gap+1\n",
    "print(c)"
   ]
  },
  {
   "cell_type": "code",
   "execution_count": 57,
   "id": "50b37973-aa07-41a3-a676-e85a0ddcb684",
   "metadata": {},
   "outputs": [],
   "source": [
    "n = 4\n",
    "ps= [5,3,7,5]"
   ]
  },
  {
   "cell_type": "code",
   "execution_count": 60,
   "id": "33a1498a-0f4f-49c0-8e1e-40ac80ee0f6c",
   "metadata": {},
   "outputs": [
    {
     "name": "stdout",
     "output_type": "stream",
     "text": [
      "[5, 5, 5]\n",
      "[5, 4, 5]\n"
     ]
    },
    {
     "data": {
      "text/plain": [
       "3"
      ]
     },
     "execution_count": 60,
     "metadata": {},
     "output_type": "execute_result"
    }
   ],
   "source": [
    "c= 0\n",
    "for i in range(len(ps)-1,0,-1):\n",
    "    print(ps)\n",
    "    gap = ps[i-1]-ps[i]\n",
    "    if gap>=0:\n",
    "        ps[i-1]=ps[i]-1\n",
    "        c+=gap+1\n",
    "print(c)"
   ]
  },
  {
   "cell_type": "code",
   "execution_count": 59,
   "id": "bdb6a5e2-15c2-437f-8710-e9c4fe987d1c",
   "metadata": {},
   "outputs": [],
   "source": [
    "n = 3\n",
    "ps= [5,5,5]"
   ]
  },
  {
   "cell_type": "code",
   "execution_count": null,
   "id": "b03a6471-8dd9-47e7-830c-7882bdd78dab",
   "metadata": {},
   "outputs": [],
   "source": []
  }
 ],
 "metadata": {
  "kernelspec": {
   "display_name": "Python 3 (ipykernel)",
   "language": "python",
   "name": "python3"
  },
  "language_info": {
   "codemirror_mode": {
    "name": "ipython",
    "version": 3
   },
   "file_extension": ".py",
   "mimetype": "text/x-python",
   "name": "python",
   "nbconvert_exporter": "python",
   "pygments_lexer": "ipython3",
   "version": "3.8.5"
  }
 },
 "nbformat": 4,
 "nbformat_minor": 5
}
