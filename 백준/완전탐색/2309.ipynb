{
 "cells": [
  {
   "cell_type": "markdown",
   "id": "4148a7d7-1991-44eb-94b1-c81d0c76c6fd",
   "metadata": {},
   "source": [
    "# 나의 답안\n",
    "- 틀림\n",
    "- 문제를 제대로 안읽어서 틀림. break넣어주니정답 "
   ]
  },
  {
   "cell_type": "code",
   "execution_count": 8,
   "id": "66b2d960-e57d-4eaf-a2ac-3b5f32d93614",
   "metadata": {},
   "outputs": [
    {
     "name": "stdin",
     "output_type": "stream",
     "text": [
      " 20\n",
      " 7\n",
      " 23\n",
      " 19\n",
      " 10\n",
      " 15\n",
      " 25\n",
      " 8\n",
      " 13\n"
     ]
    },
    {
     "name": "stdout",
     "output_type": "stream",
     "text": [
      "7\n",
      "8\n",
      "10\n",
      "13\n",
      "19\n",
      "20\n",
      "23\n"
     ]
    }
   ],
   "source": [
    "from itertools import combinations\n",
    "import sys\n",
    "keys = []\n",
    "for i in range(9):\n",
    "    key = int(input())\n",
    "    keys.append(key)\n",
    "combis = list(combinations(keys,7))\n",
    "for i in combis:\n",
    "    if sum(i)==100:\n",
    "        for j in sorted(i):\n",
    "            print(j)\n",
    "        break"
   ]
  },
  {
   "cell_type": "code",
   "execution_count": 2,
   "id": "37e3367c-c138-4fb0-b585-84ad9fb60d3f",
   "metadata": {},
   "outputs": [
    {
     "data": {
      "text/plain": [
       "4"
      ]
     },
     "execution_count": 2,
     "metadata": {},
     "output_type": "execute_result"
    }
   ],
   "source": [
    "from itertools import combinations\n",
    "import sys\n",
    "keys = []\n",
    "for i in range(9):\n",
    "    key = int(sys.stdin.readline())\n",
    "    keys.append(key)\n",
    "combis = list(combinations(keys,7))\n",
    "for i in combis:\n",
    "    if sum(i)==100:\n",
    "        for j in sorted(i):\n",
    "            print(j)"
   ]
  },
  {
   "cell_type": "code",
   "execution_count": 7,
   "id": "583ec1eb-bd7d-4778-8654-d4d778307c81",
   "metadata": {},
   "outputs": [
    {
     "data": {
      "text/plain": [
       "[(20, 7, 23, 19, 10, 15, 25),\n",
       " (20, 7, 23, 19, 10, 15, 8),\n",
       " (20, 7, 23, 19, 10, 15, 13),\n",
       " (20, 7, 23, 19, 10, 25, 8),\n",
       " (20, 7, 23, 19, 10, 25, 13),\n",
       " (20, 7, 23, 19, 10, 8, 13),\n",
       " (20, 7, 23, 19, 15, 25, 8),\n",
       " (20, 7, 23, 19, 15, 25, 13),\n",
       " (20, 7, 23, 19, 15, 8, 13),\n",
       " (20, 7, 23, 19, 25, 8, 13),\n",
       " (20, 7, 23, 10, 15, 25, 8),\n",
       " (20, 7, 23, 10, 15, 25, 13),\n",
       " (20, 7, 23, 10, 15, 8, 13),\n",
       " (20, 7, 23, 10, 25, 8, 13),\n",
       " (20, 7, 23, 15, 25, 8, 13),\n",
       " (20, 7, 19, 10, 15, 25, 8),\n",
       " (20, 7, 19, 10, 15, 25, 13),\n",
       " (20, 7, 19, 10, 15, 8, 13),\n",
       " (20, 7, 19, 10, 25, 8, 13),\n",
       " (20, 7, 19, 15, 25, 8, 13),\n",
       " (20, 7, 10, 15, 25, 8, 13),\n",
       " (20, 23, 19, 10, 15, 25, 8),\n",
       " (20, 23, 19, 10, 15, 25, 13),\n",
       " (20, 23, 19, 10, 15, 8, 13),\n",
       " (20, 23, 19, 10, 25, 8, 13),\n",
       " (20, 23, 19, 15, 25, 8, 13),\n",
       " (20, 23, 10, 15, 25, 8, 13),\n",
       " (20, 19, 10, 15, 25, 8, 13),\n",
       " (7, 23, 19, 10, 15, 25, 8),\n",
       " (7, 23, 19, 10, 15, 25, 13),\n",
       " (7, 23, 19, 10, 15, 8, 13),\n",
       " (7, 23, 19, 10, 25, 8, 13),\n",
       " (7, 23, 19, 15, 25, 8, 13),\n",
       " (7, 23, 10, 15, 25, 8, 13),\n",
       " (7, 19, 10, 15, 25, 8, 13),\n",
       " (23, 19, 10, 15, 25, 8, 13)]"
      ]
     },
     "execution_count": 7,
     "metadata": {},
     "output_type": "execute_result"
    }
   ],
   "source": [
    "combis"
   ]
  },
  {
   "cell_type": "code",
   "execution_count": null,
   "id": "b18d241b-3a38-4959-8542-db95e6c1f0b5",
   "metadata": {},
   "outputs": [],
   "source": []
  }
 ],
 "metadata": {
  "kernelspec": {
   "display_name": "Python 3 (ipykernel)",
   "language": "python",
   "name": "python3"
  },
  "language_info": {
   "codemirror_mode": {
    "name": "ipython",
    "version": 3
   },
   "file_extension": ".py",
   "mimetype": "text/x-python",
   "name": "python",
   "nbconvert_exporter": "python",
   "pygments_lexer": "ipython3",
   "version": "3.8.5"
  }
 },
 "nbformat": 4,
 "nbformat_minor": 5
}
