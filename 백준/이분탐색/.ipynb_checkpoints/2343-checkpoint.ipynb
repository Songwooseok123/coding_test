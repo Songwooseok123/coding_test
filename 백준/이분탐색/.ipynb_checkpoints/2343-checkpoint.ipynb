{
 "cells": [
  {
   "cell_type": "markdown",
   "id": "63dfcee8-df8f-4a9f-8090-9f95c33d2cf3",
   "metadata": {},
   "source": [
    "# 나의답안\n",
    "- 나는 중간 지점 q1,q2의 경우의 수를 모두 구한 후 상황별 답을 구해서 최솟값을 취했지만 메모리 초과가 떴다.\n",
    "- 일단 combinations으로 모든 q1, q2를 구한것부터가 잘못됨."
   ]
  },
  {
   "cell_type": "code",
   "execution_count": 1,
   "id": "010e0c0e-9aa8-42b8-be0e-b349d0ff24c2",
   "metadata": {},
   "outputs": [
    {
     "name": "stdin",
     "output_type": "stream",
     "text": [
      " 9 3 \n"
     ]
    }
   ],
   "source": [
    "#m, n = list(map(int,input().split()))\n",
    "import sys\n",
    "m, n = list(map(int,sys.stdin.readline().split()))\n",
    "from itertools import combinations\n",
    "pos_all = []\n",
    "for pos in list(combinations(list(range(1,m+1)),2)):\n",
    "    q1,q2 = pos\n",
    "    pos_all.append(max(sum(range(1,n+1)),sum(range(n+1,q2+1)), sum(range(q2+1,m+1))))\n",
    "print(min(pos_all))"
   ]
  },
  {
   "cell_type": "code",
   "execution_count": 2,
   "id": "37bfa402-3402-430a-9bf1-4ea9c5ad5c4b",
   "metadata": {},
   "outputs": [
    {
     "data": {
      "text/plain": [
       "9"
      ]
     },
     "execution_count": 2,
     "metadata": {},
     "output_type": "execute_result"
    }
   ],
   "source": [
    "m,n  = 9,3"
   ]
  },
  {
   "cell_type": "code",
   "execution_count": 3,
   "id": "a1b5263b-5686-4e99-8c67-62547216c658",
   "metadata": {},
   "outputs": [
    {
     "data": {
      "text/plain": [
       "(8, 9)"
      ]
     },
     "execution_count": 3,
     "metadata": {},
     "output_type": "execute_result"
    }
   ],
   "source": [
    "1,2,3,4,5 \n",
    "6,7\n",
    "8,9 "
   ]
  },
  {
   "cell_type": "markdown",
   "id": "b0cc0136-65bd-4af1-a37b-c9d9dbc4a43a",
   "metadata": {},
   "source": [
    "# 모범답안\n",
    "- 블루레이의 용량을 먼저 정하기!!\n",
    "- 아~ 무엇을 이분탐색할지를 생각해야 하는구나...\n"
   ]
  },
  {
   "cell_type": "code",
   "execution_count": null,
   "id": "474f5011-b3ad-4f3a-828f-873d6f774e25",
   "metadata": {},
   "outputs": [],
   "source": [
    "import sys\n",
    "N, M = list(map(int,sys.stdin.readline().split()))\n",
    "running_time = list(map(int,sys.stdin.readline().split()))"
   ]
  },
  {
   "cell_type": "code",
   "execution_count": 289,
   "id": "35c89170-e563-4acc-8de9-445909c38421",
   "metadata": {},
   "outputs": [],
   "source": [
    "N, M,running_time  = 9,3,[1,2,3,4,5,6,7,8,9]"
   ]
  },
  {
   "cell_type": "code",
   "execution_count": 300,
   "id": "08166941-8ff2-4f66-99ee-e85626ecb765",
   "metadata": {
    "scrolled": true
   },
   "outputs": [
    {
     "name": "stdout",
     "output_type": "stream",
     "text": [
      "9 45 27\n",
      "9 26 17\n",
      "9 16 12\n",
      "d\n",
      "13 16 14\n",
      "d\n",
      "15 16 15\n",
      "d\n",
      "16 16 16\n",
      "d\n",
      "17\n"
     ]
    }
   ],
   "source": [
    "left = max(running_time)\n",
    "right = sum(running_time)\n",
    "middle = None\n",
    "while left <=right:\n",
    "    \n",
    "    middle = (left+right)//2\n",
    "    print(left,right,middle)\n",
    "    blueray_num =1     \n",
    "    remain = middle\n",
    "    for i in running_time:\n",
    "        if remain < i:\n",
    "            blueray_num +=1\n",
    "            remain = middle\n",
    "        remain -= i\n",
    "    if blueray_num <=3:\n",
    "        answer = middle\n",
    "        right = middle -1 # 탐색 범위의 right를 줄이기(middle이 너무커서 더줄여도 된다~) \n",
    "    else: \n",
    "        print(\"d\")\n",
    "        left = middle+1 # 탐색 범위의 left를 늘리기(middle이 작아서 필요한 blueray_num이 넘침 )\n",
    "print(answer)"
   ]
  },
  {
   "cell_type": "markdown",
   "id": "0c99dcc1-42b9-44e5-9ca9-a6c1404bc329",
   "metadata": {},
   "source": [
    "# 모범답안 2 \n",
    "## O(n * log(sum(aa)))\n"
   ]
  },
  {
   "cell_type": "code",
   "execution_count": null,
   "id": "0a2e123a-230a-45de-9672-f1093618e4db",
   "metadata": {},
   "outputs": [],
   "source": [
    "# 구간합의 최대값이 최소가 되도록 \n",
    "\n",
    "#aa= [1,2,3,4,5,6,7,8,9]\n",
    "#abs_blue = 3 \n",
    "\n",
    "import sys\n",
    "m, n = list(map(int,input().split()))\n",
    "\n",
    "aa= list(map(int,input().split()))\n",
    "\n",
    "start = max(aa)\n",
    "end = sum(aa)\n",
    "mid = None\n",
    "\n",
    "\n",
    "def count_blue(mid,aa):\n",
    "    sum_blue = 0\n",
    "    cc = 1\n",
    "    for aaa in aa:\n",
    "        if aaa > mid :\n",
    "            cc = 1e9\n",
    "            break\n",
    "        if sum_blue + aaa <= mid:\n",
    "            sum_blue += aaa\n",
    "        else:\n",
    "            sum_blue = aaa\n",
    "            cc +=1\n",
    "    return cc\n",
    "\n",
    "\n",
    "\n",
    "\n",
    "while start <= end:\n",
    "    mid = (start+end)//2\n",
    "    need_blue = count_blue(mid,aa)\n",
    "    #print(need_blue)\n",
    "    if need_blue >abs_blue: # 필요한 블루레이 갯수가 abs_blue 보다 많다? mid를 늘려야됨 \n",
    "        start = mid+1\n",
    "    else: # mid 를 줄여야됨 \n",
    "        answer = mid \n",
    "        end = mid -1 \n",
    "print(answer)"
   ]
  }
 ],
 "metadata": {
  "kernelspec": {
   "display_name": "Python 3 (ipykernel)",
   "language": "python",
   "name": "python3"
  },
  "language_info": {
   "codemirror_mode": {
    "name": "ipython",
    "version": 3
   },
   "file_extension": ".py",
   "mimetype": "text/x-python",
   "name": "python",
   "nbconvert_exporter": "python",
   "pygments_lexer": "ipython3",
   "version": "3.8.5"
  }
 },
 "nbformat": 4,
 "nbformat_minor": 5
}
