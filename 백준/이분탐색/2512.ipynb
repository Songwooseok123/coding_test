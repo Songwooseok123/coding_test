{
 "cells": [
  {
   "cell_type": "markdown",
   "id": "be9e367d-afb0-4287-bb20-ba2bb8fec659",
   "metadata": {},
   "source": [
    "# 나의 답안 "
   ]
  },
  {
   "cell_type": "code",
   "execution_count": 1,
   "id": "f11e673d-a295-4388-8fde-4f43538a9124",
   "metadata": {
    "collapsed": true,
    "jupyter": {
     "outputs_hidden": true
    }
   },
   "outputs": [
    {
     "name": "stdin",
     "output_type": "stream",
     "text": [
      " 4\n"
     ]
    },
    {
     "ename": "KeyboardInterrupt",
     "evalue": "Interrupted by user",
     "output_type": "error",
     "traceback": [
      "\u001b[1;31m---------------------------------------------------------------------------\u001b[0m",
      "\u001b[1;31mKeyboardInterrupt\u001b[0m                         Traceback (most recent call last)",
      "Input \u001b[1;32mIn [1]\u001b[0m, in \u001b[0;36m<cell line: 2>\u001b[1;34m()\u001b[0m\n\u001b[0;32m      1\u001b[0m \u001b[38;5;28;01mimport\u001b[39;00m \u001b[38;5;21;01msys\u001b[39;00m\n\u001b[1;32m----> 2\u001b[0m n \u001b[38;5;241m=\u001b[39m \u001b[38;5;28mint\u001b[39m(\u001b[38;5;28;43minput\u001b[39;49m\u001b[43m(\u001b[49m\u001b[43m)\u001b[49m)\n\u001b[0;32m      3\u001b[0m \u001b[38;5;66;03m#yy = list(map(int,input().split()))\u001b[39;00m\n\u001b[0;32m      4\u001b[0m yy \u001b[38;5;241m=\u001b[39m \u001b[38;5;28mlist\u001b[39m(\u001b[38;5;28mmap\u001b[39m(\u001b[38;5;28mint\u001b[39m,sys\u001b[38;5;241m.\u001b[39mstdin\u001b[38;5;241m.\u001b[39mreadline()\u001b[38;5;241m.\u001b[39msplit()))\n",
      "File \u001b[1;32m~\\miniconda3\\lib\\site-packages\\ipykernel\\kernelbase.py:1282\u001b[0m, in \u001b[0;36mKernel.raw_input\u001b[1;34m(self, prompt)\u001b[0m\n\u001b[0;32m   1280\u001b[0m     msg \u001b[38;5;241m=\u001b[39m \u001b[38;5;124m\"\u001b[39m\u001b[38;5;124mraw_input was called, but this frontend does not support input requests.\u001b[39m\u001b[38;5;124m\"\u001b[39m\n\u001b[0;32m   1281\u001b[0m     \u001b[38;5;28;01mraise\u001b[39;00m StdinNotImplementedError(msg)\n\u001b[1;32m-> 1282\u001b[0m \u001b[38;5;28;01mreturn\u001b[39;00m \u001b[38;5;28;43mself\u001b[39;49m\u001b[38;5;241;43m.\u001b[39;49m\u001b[43m_input_request\u001b[49m\u001b[43m(\u001b[49m\n\u001b[0;32m   1283\u001b[0m \u001b[43m    \u001b[49m\u001b[38;5;28;43mstr\u001b[39;49m\u001b[43m(\u001b[49m\u001b[43mprompt\u001b[49m\u001b[43m)\u001b[49m\u001b[43m,\u001b[49m\n\u001b[0;32m   1284\u001b[0m \u001b[43m    \u001b[49m\u001b[38;5;28;43mself\u001b[39;49m\u001b[38;5;241;43m.\u001b[39;49m\u001b[43m_parent_ident\u001b[49m\u001b[43m[\u001b[49m\u001b[38;5;124;43m\"\u001b[39;49m\u001b[38;5;124;43mshell\u001b[39;49m\u001b[38;5;124;43m\"\u001b[39;49m\u001b[43m]\u001b[49m\u001b[43m,\u001b[49m\n\u001b[0;32m   1285\u001b[0m \u001b[43m    \u001b[49m\u001b[38;5;28;43mself\u001b[39;49m\u001b[38;5;241;43m.\u001b[39;49m\u001b[43mget_parent\u001b[49m\u001b[43m(\u001b[49m\u001b[38;5;124;43m\"\u001b[39;49m\u001b[38;5;124;43mshell\u001b[39;49m\u001b[38;5;124;43m\"\u001b[39;49m\u001b[43m)\u001b[49m\u001b[43m,\u001b[49m\n\u001b[0;32m   1286\u001b[0m \u001b[43m    \u001b[49m\u001b[43mpassword\u001b[49m\u001b[38;5;241;43m=\u001b[39;49m\u001b[38;5;28;43;01mFalse\u001b[39;49;00m\u001b[43m,\u001b[49m\n\u001b[0;32m   1287\u001b[0m \u001b[43m\u001b[49m\u001b[43m)\u001b[49m\n",
      "File \u001b[1;32m~\\miniconda3\\lib\\site-packages\\ipykernel\\kernelbase.py:1325\u001b[0m, in \u001b[0;36mKernel._input_request\u001b[1;34m(self, prompt, ident, parent, password)\u001b[0m\n\u001b[0;32m   1322\u001b[0m \u001b[38;5;28;01mexcept\u001b[39;00m \u001b[38;5;167;01mKeyboardInterrupt\u001b[39;00m:\n\u001b[0;32m   1323\u001b[0m     \u001b[38;5;66;03m# re-raise KeyboardInterrupt, to truncate traceback\u001b[39;00m\n\u001b[0;32m   1324\u001b[0m     msg \u001b[38;5;241m=\u001b[39m \u001b[38;5;124m\"\u001b[39m\u001b[38;5;124mInterrupted by user\u001b[39m\u001b[38;5;124m\"\u001b[39m\n\u001b[1;32m-> 1325\u001b[0m     \u001b[38;5;28;01mraise\u001b[39;00m \u001b[38;5;167;01mKeyboardInterrupt\u001b[39;00m(msg) \u001b[38;5;28;01mfrom\u001b[39;00m \u001b[38;5;28mNone\u001b[39m\n\u001b[0;32m   1326\u001b[0m \u001b[38;5;28;01mexcept\u001b[39;00m \u001b[38;5;167;01mException\u001b[39;00m:\n\u001b[0;32m   1327\u001b[0m     \u001b[38;5;28mself\u001b[39m\u001b[38;5;241m.\u001b[39mlog\u001b[38;5;241m.\u001b[39mwarning(\u001b[38;5;124m\"\u001b[39m\u001b[38;5;124mInvalid Message:\u001b[39m\u001b[38;5;124m\"\u001b[39m, exc_info\u001b[38;5;241m=\u001b[39m\u001b[38;5;28;01mTrue\u001b[39;00m)\n",
      "\u001b[1;31mKeyboardInterrupt\u001b[0m: Interrupted by user"
     ]
    }
   ],
   "source": [
    "import sys\n",
    "n = int(input())\n",
    "#yy = list(map(int,input().split()))\n",
    "yy = list(map(int,sys.stdin.readline().split()))\n",
    "total_y = int(input())"
   ]
  },
  {
   "cell_type": "code",
   "execution_count": 7,
   "id": "87678afe-4cba-40fe-bcd4-d83c6569fcb3",
   "metadata": {},
   "outputs": [],
   "source": [
    "n = 4\n",
    "yy = [120,110,140,150]\n",
    "total_y = 485"
   ]
  },
  {
   "cell_type": "code",
   "execution_count": 5,
   "id": "e042f0a2-5fce-46cf-a3ea-073488ed3a1b",
   "metadata": {},
   "outputs": [],
   "source": [
    "n = 5\n",
    "yy = [70,80,30,40,100]\n",
    "total_y = 450"
   ]
  },
  {
   "cell_type": "code",
   "execution_count": 19,
   "id": "e5526705-b428-45a8-bf98-7218cef924a4",
   "metadata": {
    "scrolled": true
   },
   "outputs": [
    {
     "name": "stdout",
     "output_type": "stream",
     "text": [
      "127\n",
      "24\n"
     ]
    }
   ],
   "source": [
    "sy = max(yy)\n",
    "sums = float(\"inf\")\n",
    "c= 0 \n",
    "while sums > total_y:\n",
    "    c +=1\n",
    "    sums =0\n",
    "    for yyy in yy:\n",
    "        if yyy >sy:\n",
    "            sums += sy\n",
    "        else: \n",
    "            sums += yyy\n",
    "    sy =sy-1 \n",
    "print(sy+1)   \n",
    "print(c)"
   ]
  },
  {
   "cell_type": "markdown",
   "id": "e42f8657-c67c-4b48-858e-132d1693650b",
   "metadata": {},
   "source": [
    "# 모범답안\n",
    "- 이분탐색법적 사고가 필요함\n",
    "- left, right, middle 을 업데이트 하기\n",
    "- middle을 max값에서 1개씩 줄여가면서 찾는것보단, 중강값을 기준으로 오른쪽에 있는지 왼쪽에있는지 판단하며 찾는게 반복문을 적게 돔. "
   ]
  },
  {
   "cell_type": "code",
   "execution_count": 16,
   "id": "8da3e9f1-5a47-4ecc-b797-b61352e23e02",
   "metadata": {},
   "outputs": [
    {
     "name": "stdout",
     "output_type": "stream",
     "text": [
      "127\n"
     ]
    }
   ],
   "source": [
    "n = 4\n",
    "yy = [120,110,140,150]\n",
    "total_y = 485\n",
    "left = 0\n",
    "right = max(yy)\n",
    "nnn = 0\n",
    "c= 0\n",
    "while left <=right:\n",
    "    c +=1\n",
    "    nnn +=1\n",
    "    middle = (left+right)//2\n",
    "    sums = 0\n",
    "    for yyy in yy:\n",
    "        sums += min(middle, yyy)\n",
    "    if sums<=total_y:\n",
    "        left = middle+1\n",
    "        middle = (left+right)//2        \n",
    "    else: \n",
    "        right = middle-1\n",
    "        middle = (left+right)//2\n",
    "print(middle)        "
   ]
  },
  {
   "cell_type": "code",
   "execution_count": 17,
   "id": "b91f61e6-a446-4cf1-9fb7-fbca4f80723a",
   "metadata": {},
   "outputs": [
    {
     "data": {
      "text/plain": [
       "7"
      ]
     },
     "execution_count": 17,
     "metadata": {},
     "output_type": "execute_result"
    }
   ],
   "source": [
    "c"
   ]
  },
  {
   "cell_type": "markdown",
   "id": "746e4813-4885-4f33-a901-9dcb7e01ccb7",
   "metadata": {},
   "source": [
    "# 모범답안 2 "
   ]
  },
  {
   "cell_type": "code",
   "execution_count": null,
   "id": "7386bbb3-464b-4f7c-b623-bc5db14ef541",
   "metadata": {},
   "outputs": [],
   "source": [
    "import sys\n",
    "n = int(input())\n",
    "#yy = list(map(int,input().split()))\n",
    "a = list(map(int,input().split()))\n",
    "total_abs = int(input())\n",
    "\n",
    "def get_total(a, mio):\n",
    "    #upp = 120 \n",
    "    sum_aa=0\n",
    "    for aa in a:\n",
    "        if aa <= mio:\n",
    "            zzz = aa\n",
    "            \n",
    "        else:\n",
    "            zzz=mio\n",
    "        #print(zzz)\n",
    "        sum_aa +=zzz\n",
    "    \n",
    "    return sum_aa\n",
    "\n",
    "\n",
    "start = 0\n",
    "end = max(a)\n",
    "mid = None\n",
    "cc= 0\n",
    "while start <= end:\n",
    "    cc+=1\n",
    "    mid = (start+end)//2\n",
    "    #print(mid)\n",
    "    getted_total = get_total(a,mid)\n",
    "    if total_abs>= getted_total:\n",
    "        answer = mid\n",
    "        start = mid+1\n",
    "    else:\n",
    "        end = mid -1\n",
    "    #print(answer,total)\n",
    "print(answer)   \n",
    "    "
   ]
  }
 ],
 "metadata": {
  "kernelspec": {
   "display_name": "Python 3 (ipykernel)",
   "language": "python",
   "name": "python3"
  },
  "language_info": {
   "codemirror_mode": {
    "name": "ipython",
    "version": 3
   },
   "file_extension": ".py",
   "mimetype": "text/x-python",
   "name": "python",
   "nbconvert_exporter": "python",
   "pygments_lexer": "ipython3",
   "version": "3.8.5"
  }
 },
 "nbformat": 4,
 "nbformat_minor": 5
}
