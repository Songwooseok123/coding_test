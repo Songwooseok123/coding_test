{
 "cells": [
  {
   "cell_type": "code",
   "execution_count": 8,
   "id": "2beced7c-e659-40b1-a3d7-bf0909d8b99d",
   "metadata": {},
   "outputs": [
    {
     "name": "stdout",
     "output_type": "stream",
     "text": [
      "['__repr__', '__hash__', '__str__', '__getattribute__', '__lt__', '__le__', '__eq__', '__ne__', '__gt__', '__ge__', '__iter__', '__mod__', '__rmod__', '__len__', '__getitem__', '__add__', '__mul__', '__rmul__', '__contains__', '__new__', 'encode', 'replace', 'split', 'rsplit', 'join', 'capitalize', 'casefold', 'title', 'center', 'count', 'expandtabs', 'find', 'partition', 'index', 'ljust', 'lower', 'lstrip', 'rfind', 'rindex', 'rjust', 'rstrip', 'rpartition', 'splitlines', 'strip', 'swapcase', 'translate', 'upper', 'startswith', 'endswith', 'isascii', 'islower', 'isupper', 'istitle', 'isspace', 'isdecimal', 'isdigit', 'isnumeric', 'isalpha', 'isalnum', 'isidentifier', 'isprintable', 'zfill', 'format', 'format_map', '__format__', 'maketrans', '__sizeof__', '__getnewargs__', '__doc__', '__setattr__', '__delattr__', '__init__', '__reduce_ex__', '__reduce__', '__subclasshook__', '__init_subclass__', '__dir__', '__class__']\n"
     ]
    }
   ],
   "source": [
    "a= 10\n",
    "b= 'aaa'\n",
    "print(b.__dir__()) "
   ]
  },
  {
   "cell_type": "markdown",
   "id": "5f2ac97c-b66a-46e0-ab8c-e119055ae054",
   "metadata": {},
   "source": [
    "# 4949"
   ]
  },
  {
   "cell_type": "code",
   "execution_count": 9,
   "id": "cc0c6b05-6c8f-4bf5-92dc-8b1c42bd1a04",
   "metadata": {},
   "outputs": [
    {
     "name": "stdin",
     "output_type": "stream",
     "text": [
      " .\n"
     ]
    },
    {
     "data": {
      "text/plain": [
       "['So when I die (the [first] I will see in (heaven) is a score list).',\n",
       " '[ first in ] ( first out ).',\n",
       " 'Half Moon tonight (At least it is better than no Moon at all].',\n",
       " 'A rope may form )( a trail in a maze.',\n",
       " 'Help( I[m being held prisoner in a fortune cookie factory)].',\n",
       " '([ (([( [ ] ) ( ) (( ))] )) ]).']"
      ]
     },
     "execution_count": 9,
     "metadata": {},
     "output_type": "execute_result"
    }
   ],
   "source": [
    "import sys\n",
    "while True:\n",
    "    #st = sys.stdin.readline()\n",
    "    st = input()\n",
    "    if st =='.':\n",
    "        break\n",
    "st1= 'So when I die (the [first] I will see in (heaven) is a score list).'\n",
    "st2= '[ first in ] ( first out ).'\n",
    "st3='Half Moon tonight (At least it is better than no Moon at all].'\n",
    "st4='A rope may form )( a trail in a maze.'\n",
    "st5='Help( I[m being held prisoner in a fortune cookie factory)].'\n",
    "st6='([ (([( [ ] ) ( ) (( ))] )) ]).'\n",
    "sts = [st1,st2,st3,st4,st5,st6]\n",
    "sts"
   ]
  },
  {
   "cell_type": "code",
   "execution_count": 53,
   "id": "a4e937f3-3fd0-4d8b-8a8f-c87d05840dad",
   "metadata": {},
   "outputs": [
    {
     "name": "stdin",
     "output_type": "stream",
     "text": [
      " So when I die (the [first] I will see in (heaven) is a score list).\n"
     ]
    },
    {
     "name": "stdout",
     "output_type": "stream",
     "text": [
      "yes\n"
     ]
    },
    {
     "name": "stdin",
     "output_type": "stream",
     "text": [
      " ([ (([( [ ] ) ( ) (( ))] )) ]).\n"
     ]
    },
    {
     "name": "stdout",
     "output_type": "stream",
     "text": [
      "yes\n"
     ]
    },
    {
     "name": "stdin",
     "output_type": "stream",
     "text": [
      " Help( I[m being held prisoner in a fortune cookie factory)].\n"
     ]
    },
    {
     "name": "stdout",
     "output_type": "stream",
     "text": [
      "no\n"
     ]
    },
    {
     "ename": "KeyboardInterrupt",
     "evalue": "Interrupted by user",
     "output_type": "error",
     "traceback": [
      "\u001b[1;31m---------------------------------------------------------------------------\u001b[0m",
      "\u001b[1;31mKeyboardInterrupt\u001b[0m                         Traceback (most recent call last)",
      "Input \u001b[1;32mIn [53]\u001b[0m, in \u001b[0;36m<cell line: 4>\u001b[1;34m()\u001b[0m\n\u001b[0;32m      1\u001b[0m \u001b[38;5;28;01mimport\u001b[39;00m \u001b[38;5;21;01msys\u001b[39;00m\n\u001b[0;32m      2\u001b[0m \u001b[38;5;28;01mwhile\u001b[39;00m \u001b[38;5;28;01mTrue\u001b[39;00m:\n\u001b[0;32m      3\u001b[0m     \u001b[38;5;66;03m#st = sys.stdin.readline()\u001b[39;00m\n\u001b[1;32m----> 4\u001b[0m     st \u001b[38;5;241m=\u001b[39m \u001b[38;5;28;43minput\u001b[39;49m\u001b[43m(\u001b[49m\u001b[43m)\u001b[49m\n\u001b[0;32m      5\u001b[0m     \u001b[38;5;28;01mif\u001b[39;00m st \u001b[38;5;241m==\u001b[39m\u001b[38;5;124m'\u001b[39m\u001b[38;5;124m.\u001b[39m\u001b[38;5;124m'\u001b[39m:\n\u001b[0;32m      6\u001b[0m         \u001b[38;5;28;01mbreak\u001b[39;00m\n",
      "File \u001b[1;32m~\\miniconda3\\lib\\site-packages\\ipykernel\\kernelbase.py:1282\u001b[0m, in \u001b[0;36mKernel.raw_input\u001b[1;34m(self, prompt)\u001b[0m\n\u001b[0;32m   1280\u001b[0m     msg \u001b[38;5;241m=\u001b[39m \u001b[38;5;124m\"\u001b[39m\u001b[38;5;124mraw_input was called, but this frontend does not support input requests.\u001b[39m\u001b[38;5;124m\"\u001b[39m\n\u001b[0;32m   1281\u001b[0m     \u001b[38;5;28;01mraise\u001b[39;00m StdinNotImplementedError(msg)\n\u001b[1;32m-> 1282\u001b[0m \u001b[38;5;28;01mreturn\u001b[39;00m \u001b[38;5;28;43mself\u001b[39;49m\u001b[38;5;241;43m.\u001b[39;49m\u001b[43m_input_request\u001b[49m\u001b[43m(\u001b[49m\n\u001b[0;32m   1283\u001b[0m \u001b[43m    \u001b[49m\u001b[38;5;28;43mstr\u001b[39;49m\u001b[43m(\u001b[49m\u001b[43mprompt\u001b[49m\u001b[43m)\u001b[49m\u001b[43m,\u001b[49m\n\u001b[0;32m   1284\u001b[0m \u001b[43m    \u001b[49m\u001b[38;5;28;43mself\u001b[39;49m\u001b[38;5;241;43m.\u001b[39;49m\u001b[43m_parent_ident\u001b[49m\u001b[43m[\u001b[49m\u001b[38;5;124;43m\"\u001b[39;49m\u001b[38;5;124;43mshell\u001b[39;49m\u001b[38;5;124;43m\"\u001b[39;49m\u001b[43m]\u001b[49m\u001b[43m,\u001b[49m\n\u001b[0;32m   1285\u001b[0m \u001b[43m    \u001b[49m\u001b[38;5;28;43mself\u001b[39;49m\u001b[38;5;241;43m.\u001b[39;49m\u001b[43mget_parent\u001b[49m\u001b[43m(\u001b[49m\u001b[38;5;124;43m\"\u001b[39;49m\u001b[38;5;124;43mshell\u001b[39;49m\u001b[38;5;124;43m\"\u001b[39;49m\u001b[43m)\u001b[49m\u001b[43m,\u001b[49m\n\u001b[0;32m   1286\u001b[0m \u001b[43m    \u001b[49m\u001b[43mpassword\u001b[49m\u001b[38;5;241;43m=\u001b[39;49m\u001b[38;5;28;43;01mFalse\u001b[39;49;00m\u001b[43m,\u001b[49m\n\u001b[0;32m   1287\u001b[0m \u001b[43m\u001b[49m\u001b[43m)\u001b[49m\n",
      "File \u001b[1;32m~\\miniconda3\\lib\\site-packages\\ipykernel\\kernelbase.py:1325\u001b[0m, in \u001b[0;36mKernel._input_request\u001b[1;34m(self, prompt, ident, parent, password)\u001b[0m\n\u001b[0;32m   1322\u001b[0m \u001b[38;5;28;01mexcept\u001b[39;00m \u001b[38;5;167;01mKeyboardInterrupt\u001b[39;00m:\n\u001b[0;32m   1323\u001b[0m     \u001b[38;5;66;03m# re-raise KeyboardInterrupt, to truncate traceback\u001b[39;00m\n\u001b[0;32m   1324\u001b[0m     msg \u001b[38;5;241m=\u001b[39m \u001b[38;5;124m\"\u001b[39m\u001b[38;5;124mInterrupted by user\u001b[39m\u001b[38;5;124m\"\u001b[39m\n\u001b[1;32m-> 1325\u001b[0m     \u001b[38;5;28;01mraise\u001b[39;00m \u001b[38;5;167;01mKeyboardInterrupt\u001b[39;00m(msg) \u001b[38;5;28;01mfrom\u001b[39;00m \u001b[38;5;28mNone\u001b[39m\n\u001b[0;32m   1326\u001b[0m \u001b[38;5;28;01mexcept\u001b[39;00m \u001b[38;5;167;01mException\u001b[39;00m:\n\u001b[0;32m   1327\u001b[0m     \u001b[38;5;28mself\u001b[39m\u001b[38;5;241m.\u001b[39mlog\u001b[38;5;241m.\u001b[39mwarning(\u001b[38;5;124m\"\u001b[39m\u001b[38;5;124mInvalid Message:\u001b[39m\u001b[38;5;124m\"\u001b[39m, exc_info\u001b[38;5;241m=\u001b[39m\u001b[38;5;28;01mTrue\u001b[39;00m)\n",
      "\u001b[1;31mKeyboardInterrupt\u001b[0m: Interrupted by user"
     ]
    }
   ],
   "source": [
    "import sys\n",
    "while True:\n",
    "    #st = sys.stdin.readline()\n",
    "    st = input()\n",
    "    if st =='.':\n",
    "        break\n",
    "\n",
    "    open_list=[]\n",
    "    balanced =False\n",
    "    for i in st:\n",
    "        #print(open_list)\n",
    "        if i in ['[','(']:\n",
    "            open_list.append(i)\n",
    "        if i == ']':\n",
    "            if open_list == []:\n",
    "                balanced = False\n",
    "                break\n",
    "            open_list_last = open_list.pop(-1)\n",
    "            if open_list_last !='[':\n",
    "                balanced =False\n",
    "                break\n",
    "            else: \n",
    "                balanced =True\n",
    "        if i == ')':\n",
    "            if open_list == []:\n",
    "                balanced = False\n",
    "                break\n",
    "            open_list_last = open_list.pop(-1)\n",
    "            if open_list_last !='(':\n",
    "                balanced =False\n",
    "                break\n",
    "            else: \n",
    "                balanced =True\n",
    "    print('yes' if balanced ==True and open_list = [] else 'no')\n",
    "    "
   ]
  },
  {
   "cell_type": "code",
   "execution_count": 55,
   "id": "da5fa88c-c4b0-4c3b-877d-d93b6ddb0a3e",
   "metadata": {},
   "outputs": [
    {
     "data": {
      "text/plain": [
       "'[ first in ] ( first out ).'"
      ]
     },
     "execution_count": 55,
     "metadata": {},
     "output_type": "execute_result"
    }
   ],
   "source": [
    "st =sts[1]\n",
    "st"
   ]
  },
  {
   "cell_type": "code",
   "execution_count": 60,
   "id": "e1c3a690-4e3b-4861-b555-d0090ca74f8e",
   "metadata": {
    "scrolled": true
   },
   "outputs": [
    {
     "name": "stdout",
     "output_type": "stream",
     "text": [
      "yes\n"
     ]
    }
   ],
   "source": [
    "st =sts[1]\n",
    "    open_list=[]\n",
    "    balanced =False\n",
    "    for i in st:\n",
    "        #print(open_list)\n",
    "        if i in ['[','(']:\n",
    "            open_list.append(i)\n",
    "        elif i == ']':\n",
    "            if open_list == []:\n",
    "                balanced = False\n",
    "                break\n",
    "            open_list_last = open_list.pop()\n",
    "            if open_list_last !='[':\n",
    "                balanced =False\n",
    "                break\n",
    "            else: \n",
    "                balanced =True\n",
    "        elif i == ')':\n",
    "            if open_list == []:\n",
    "                balanced = False\n",
    "                break\n",
    "            open_list_last = open_list.pop()\n",
    "            if open_list_last !='(':\n",
    "                balanced =False\n",
    "                break\n",
    "            else: \n",
    "                balanced =True\n",
    "    print('yes' if balanced ==True and open_list==[] else 'no')     "
   ]
  },
  {
   "cell_type": "code",
   "execution_count": 29,
   "id": "232235ea-9e73-4a2b-ab96-87c9cbdba5e3",
   "metadata": {},
   "outputs": [
    {
     "data": {
      "text/plain": [
       "[')', ')', '(', ']', '[', '(']"
      ]
     },
     "execution_count": 29,
     "metadata": {},
     "output_type": "execute_result"
    }
   ],
   "source": [
    "re = open_list[::-1]\n"
   ]
  },
  {
   "cell_type": "code",
   "execution_count": 37,
   "id": "4b8a360b-73d7-43e3-920b-836a8d46d864",
   "metadata": {},
   "outputs": [
    {
     "ename": "IndexError",
     "evalue": "pop from empty list",
     "output_type": "error",
     "traceback": [
      "\u001b[1;31m---------------------------------------------------------------------------\u001b[0m",
      "\u001b[1;31mIndexError\u001b[0m                                Traceback (most recent call last)",
      "Input \u001b[1;32mIn [37]\u001b[0m, in \u001b[0;36m<cell line: 2>\u001b[1;34m()\u001b[0m\n\u001b[0;32m      1\u001b[0m a\u001b[38;5;241m=\u001b[39m[]\n\u001b[1;32m----> 2\u001b[0m \u001b[43ma\u001b[49m\u001b[38;5;241;43m.\u001b[39;49m\u001b[43mpop\u001b[49m\u001b[43m(\u001b[49m\u001b[43m)\u001b[49m\n",
      "\u001b[1;31mIndexError\u001b[0m: pop from empty list"
     ]
    }
   ],
   "source": [
    "a=[]\n",
    "a.pop()"
   ]
  },
  {
   "cell_type": "code",
   "execution_count": 19,
   "id": "0a1b1805-17f3-476b-9fc0-4ccc6636bb91",
   "metadata": {},
   "outputs": [
    {
     "data": {
      "text/plain": [
       "[']', ')', ')']"
      ]
     },
     "execution_count": 19,
     "metadata": {},
     "output_type": "execute_result"
    }
   ],
   "source": [
    "for i in re:\n",
    "    if i =='(':\n",
    "        open_list.pop(')')\n",
    "    if i =='(':\n",
    "        open_list.pop(')')"
   ]
  },
  {
   "cell_type": "code",
   "execution_count": 28,
   "id": "12d60d72-4595-41a8-9923-8ea9bd135f36",
   "metadata": {},
   "outputs": [
    {
     "data": {
      "text/plain": [
       "True"
      ]
     },
     "execution_count": 28,
     "metadata": {},
     "output_type": "execute_result"
    }
   ],
   "source": [
    "aaa =deque()\n",
    "aaa ==deque([])\n"
   ]
  },
  {
   "cell_type": "markdown",
   "id": "427e5ab0-f8dd-4c07-909c-02fe0554d418",
   "metadata": {},
   "source": [
    "# 18258"
   ]
  },
  {
   "cell_type": "code",
   "execution_count": 29,
   "id": "a7b2ff23-add1-4c7d-ae74-eab511ab8918",
   "metadata": {},
   "outputs": [
    {
     "name": "stdin",
     "output_type": "stream",
     "text": [
      " push 1\n",
      " push 2\n",
      " front\n"
     ]
    },
    {
     "name": "stdout",
     "output_type": "stream",
     "text": [
      "1\n"
     ]
    },
    {
     "name": "stdin",
     "output_type": "stream",
     "text": [
      " back\n"
     ]
    },
    {
     "name": "stdout",
     "output_type": "stream",
     "text": [
      "2\n"
     ]
    },
    {
     "name": "stdin",
     "output_type": "stream",
     "text": [
      " size\n"
     ]
    },
    {
     "name": "stdout",
     "output_type": "stream",
     "text": [
      "2\n"
     ]
    },
    {
     "name": "stdin",
     "output_type": "stream",
     "text": [
      " empty\n"
     ]
    },
    {
     "name": "stdout",
     "output_type": "stream",
     "text": [
      "0\n"
     ]
    },
    {
     "name": "stdin",
     "output_type": "stream",
     "text": [
      " pop\n"
     ]
    },
    {
     "name": "stdout",
     "output_type": "stream",
     "text": [
      "1\n"
     ]
    },
    {
     "name": "stdin",
     "output_type": "stream",
     "text": [
      " pop\n"
     ]
    },
    {
     "name": "stdout",
     "output_type": "stream",
     "text": [
      "2\n"
     ]
    },
    {
     "name": "stdin",
     "output_type": "stream",
     "text": [
      " pop\n"
     ]
    },
    {
     "name": "stdout",
     "output_type": "stream",
     "text": [
      "-1\n"
     ]
    },
    {
     "name": "stdin",
     "output_type": "stream",
     "text": [
      " size\n"
     ]
    },
    {
     "name": "stdout",
     "output_type": "stream",
     "text": [
      "0\n"
     ]
    },
    {
     "name": "stdin",
     "output_type": "stream",
     "text": [
      " empty\n"
     ]
    },
    {
     "name": "stdout",
     "output_type": "stream",
     "text": [
      "1\n"
     ]
    },
    {
     "name": "stdin",
     "output_type": "stream",
     "text": [
      " pop\n"
     ]
    },
    {
     "name": "stdout",
     "output_type": "stream",
     "text": [
      "-1\n"
     ]
    },
    {
     "name": "stdin",
     "output_type": "stream",
     "text": [
      " push 3\n",
      " empty\n"
     ]
    },
    {
     "name": "stdout",
     "output_type": "stream",
     "text": [
      "0\n"
     ]
    },
    {
     "name": "stdin",
     "output_type": "stream",
     "text": [
      " front\n"
     ]
    },
    {
     "name": "stdout",
     "output_type": "stream",
     "text": [
      "3\n"
     ]
    }
   ],
   "source": [
    "import sys\n",
    "a= int(input())\n",
    "from collections import deque\n",
    "aaa = deque()\n",
    "for i in range(a):\n",
    "    order = input()\n",
    "    if order.startswith('push'):\n",
    "        aaa.append(int(order[5:]))\n",
    "    elif order== 'pop':\n",
    "        if len(aaa) == 0:\n",
    "            print(-1)\n",
    "        else:\n",
    "            poped = aaa.popleft()\n",
    "            print(poped)\n",
    "    elif order =='size':\n",
    "        print(len(aaa))\n",
    "    elif order =='empty':\n",
    "        print(1 if len(aaa)==0 else 0)\n",
    "    elif order == 'front':\n",
    "        if len(aaa) == 0:\n",
    "            print(-1)\n",
    "        else:\n",
    "    \n",
    "            print(aaa[0])\n",
    "    else :\n",
    "        if len(aaa) == 0:\n",
    "            print(-1)\n",
    "        else:\n",
    "        \n",
    "            print(aaa[-1])\n",
    "        \n",
    "    "
   ]
  },
  {
   "cell_type": "code",
   "execution_count": 5,
   "id": "cd9b1061-05a8-4de3-ad6d-d85703fca9d1",
   "metadata": {},
   "outputs": [
    {
     "data": {
      "text/plain": [
       "13"
      ]
     },
     "execution_count": 5,
     "metadata": {},
     "output_type": "execute_result"
    }
   ],
   "source": [
    "aaa ='push 13'\n",
    "int(aaa[5:])"
   ]
  },
  {
   "cell_type": "code",
   "execution_count": 10,
   "id": "c5d71354-3e17-4000-b3d8-21a6cc7ded34",
   "metadata": {},
   "outputs": [
    {
     "data": {
      "text/plain": [
       "deque([4, 4, 3, 3, 4, 4, 4, 4])"
      ]
     },
     "execution_count": 10,
     "metadata": {},
     "output_type": "execute_result"
    }
   ],
   "source": [
    "from collections import deque\n",
    "aaa = deque()\n",
    "aaa.append(4)\n",
    "aaa.append(4)\n",
    "aaa.append(3)\n",
    "aaa.append(3)\n",
    "aaa.append(4)\n",
    "aaa.append(4)\n",
    "aaa.append(4)\n",
    "aaa.append(4)\n",
    "aaa"
   ]
  },
  {
   "cell_type": "code",
   "execution_count": 22,
   "id": "fca5d242-03ec-447d-aff3-d78605c57198",
   "metadata": {},
   "outputs": [
    {
     "data": {
      "text/plain": [
       "4"
      ]
     },
     "execution_count": 22,
     "metadata": {},
     "output_type": "execute_result"
    }
   ],
   "source": [
    "len(aaa)\n",
    " "
   ]
  },
  {
   "cell_type": "code",
   "execution_count": 19,
   "id": "4ee4f76b-85cc-4749-af59-3644c8fcb96c",
   "metadata": {},
   "outputs": [
    {
     "name": "stdout",
     "output_type": "stream",
     "text": [
      "3\n"
     ]
    }
   ],
   "source": [
    "dasf =[]\n",
    "z =aaa.popleft()\n",
    "print(3)"
   ]
  },
  {
   "cell_type": "code",
   "execution_count": 21,
   "id": "1a725b53-3014-4bb6-9d38-8dc477d2e427",
   "metadata": {},
   "outputs": [
    {
     "data": {
      "text/plain": [
       "3"
      ]
     },
     "execution_count": 21,
     "metadata": {},
     "output_type": "execute_result"
    }
   ],
   "source": [
    "z"
   ]
  },
  {
   "cell_type": "markdown",
   "id": "ba57e35c-49ff-4f2b-82e4-855e2190ebbe",
   "metadata": {},
   "source": [
    "# 2343"
   ]
  },
  {
   "cell_type": "code",
   "execution_count": 163,
   "id": "87d44b1b-91ea-48a0-9ddb-7aee5eb8f4b0",
   "metadata": {
    "scrolled": true
   },
   "outputs": [
    {
     "ename": "KeyboardInterrupt",
     "evalue": "",
     "output_type": "error",
     "traceback": [
      "\u001b[1;31m---------------------------------------------------------------------------\u001b[0m",
      "\u001b[1;31mKeyboardInterrupt\u001b[0m                         Traceback (most recent call last)",
      "Input \u001b[1;32mIn [163]\u001b[0m, in \u001b[0;36m<cell line: 10>\u001b[1;34m()\u001b[0m\n\u001b[0;32m     29\u001b[0m         fflag \u001b[38;5;241m=\u001b[39m \u001b[38;5;28;01mFalse\u001b[39;00m\n\u001b[0;32m     30\u001b[0m         \u001b[38;5;28;01mbreak\u001b[39;00m\n\u001b[1;32m---> 32\u001b[0m \u001b[38;5;28;01mif\u001b[39;00m \u001b[43mtemp_storage\u001b[49m \u001b[38;5;241m!=\u001b[39m \u001b[38;5;241m0\u001b[39m: \n\u001b[0;32m     33\u001b[0m     storages\u001b[38;5;241m.\u001b[39mappend(temp_storage)\n\u001b[0;32m     34\u001b[0m     used_blue \u001b[38;5;241m+\u001b[39m\u001b[38;5;241m=\u001b[39m\u001b[38;5;241m1\u001b[39m\n",
      "\u001b[1;31mKeyboardInterrupt\u001b[0m: "
     ]
    }
   ],
   "source": [
    "import sys\n",
    "#n,m = list(map(int,sys.stdin.readline().split()))\n",
    "#ggg = list(map(int,sys.stdin.readline().split()))\n",
    "n,blue_num = 9,3\n",
    "ggg = [1,2,3,4,5,6,7,8,9]\n",
    "#blue_candi = max(ggg)\n",
    "blue_candi =10\n",
    "fflag = False\n",
    "\n",
    "while fflag ==False:\n",
    "    temp_storage = 0\n",
    "    used_blue = 0 \n",
    "    storages=[]\n",
    "    \n",
    "    for i in range(len(ggg)):\n",
    "        #print(i)\n",
    "        temp_storage = temp_storage+ggg[i]\n",
    "        #print(temp_storage) #17\n",
    "        if temp_storage==blue_candi:\n",
    "            storages.append(temp_storage)\n",
    "            temp_storage =0\n",
    "            used_blue +=1\n",
    "            #print(\"d\")\n",
    "        elif temp_storage >blue_candi:\n",
    "            storages.append(temp_storage - ggg[i])\n",
    "            temp_storage =ggg[i]\n",
    "            used_blue +=1\n",
    "        if i != n-1 and used_blue>= blue_num:\n",
    "            fflag = False\n",
    "            break\n",
    "    \n",
    "    if temp_storage != 0: \n",
    "        storages.append(temp_storage)\n",
    "        used_blue +=1\n",
    "    \n",
    "    if i==n and used_blue == blue_num:\n",
    "        fflag = True\n",
    "    else:\n",
    "        blue_candi +=1\n",
    "        "
   ]
  },
  {
   "cell_type": "code",
   "execution_count": 164,
   "id": "24df6881-333f-4d4c-9def-8d7beab3eb96",
   "metadata": {},
   "outputs": [
    {
     "data": {
      "text/plain": [
       "0"
      ]
     },
     "execution_count": 164,
     "metadata": {},
     "output_type": "execute_result"
    }
   ],
   "source": [
    "used_blue"
   ]
  },
  {
   "cell_type": "code",
   "execution_count": 159,
   "id": "c6addc16-3e1f-4049-a511-37d131d5c883",
   "metadata": {},
   "outputs": [
    {
     "data": {
      "text/plain": [
       "4"
      ]
     },
     "execution_count": 159,
     "metadata": {},
     "output_type": "execute_result"
    }
   ],
   "source": [
    "i"
   ]
  },
  {
   "cell_type": "code",
   "execution_count": 153,
   "id": "9aaad740-e839-4486-abf4-862f9e3baf0e",
   "metadata": {},
   "outputs": [],
   "source": [
    "temp_storage = 0\n",
    "used_blue = 0 \n",
    "storages=[]\n",
    "\n",
    "for i in range(len(ggg)):\n",
    "    #print(i)\n",
    "    temp_storage = temp_storage+ggg[i]\n",
    "    #print(temp_storage) #17\n",
    "    if temp_storage==blue_candi:\n",
    "        storages.append(temp_storage)\n",
    "        temp_storage =0\n",
    "        used_blue +=1\n",
    "        #print(\"d\")\n",
    "    elif temp_storage >blue_candi:\n",
    "        storages.append(temp_storage - ggg[i])\n",
    "        temp_storage =ggg[i]\n",
    "        used_blue +=1\n",
    "    if i != n-1 and used_blue== blue_num:\n",
    "        blue_candi +=1\n",
    "         \n",
    "        fflag = False\n",
    "        break\n",
    "\n",
    "if temp_storage != 0: \n",
    "    storages.append(temp_storage)\n",
    "    used_blue +=1\n",
    "\n",
    "if i==n and used_blue == blue_num:\n",
    "        fflag = True"
   ]
  },
  {
   "cell_type": "code",
   "execution_count": 161,
   "id": "f7e6a338-0349-4d12-a55e-e0d88748bb44",
   "metadata": {},
   "outputs": [
    {
     "data": {
      "text/plain": [
       "15"
      ]
     },
     "execution_count": 161,
     "metadata": {},
     "output_type": "execute_result"
    }
   ],
   "source": [
    "blue_candi"
   ]
  },
  {
   "cell_type": "code",
   "execution_count": 150,
   "id": "5bdd1627-0a60-4a21-9a89-600ac68ad4ee",
   "metadata": {},
   "outputs": [
    {
     "data": {
      "text/plain": [
       "8"
      ]
     },
     "execution_count": 150,
     "metadata": {},
     "output_type": "execute_result"
    }
   ],
   "source": [
    "i"
   ]
  },
  {
   "cell_type": "code",
   "execution_count": 132,
   "id": "c9c12d64-2c72-4600-a9d1-eb0ec4de6f1b",
   "metadata": {},
   "outputs": [
    {
     "data": {
      "text/plain": [
       "False"
      ]
     },
     "execution_count": 132,
     "metadata": {},
     "output_type": "execute_result"
    }
   ],
   "source": [
    "fflag"
   ]
  },
  {
   "cell_type": "code",
   "execution_count": 130,
   "id": "687a1cab-e9c5-49cd-aa95-05abc3d55860",
   "metadata": {},
   "outputs": [
    {
     "data": {
      "text/plain": [
       "11"
      ]
     },
     "execution_count": 130,
     "metadata": {},
     "output_type": "execute_result"
    }
   ],
   "source": [
    "blue_candi"
   ]
  },
  {
   "cell_type": "code",
   "execution_count": 129,
   "id": "d7a8e794-1dda-454a-9b1f-9bb3cd253143",
   "metadata": {},
   "outputs": [
    {
     "data": {
      "text/plain": [
       "3"
      ]
     },
     "execution_count": 129,
     "metadata": {},
     "output_type": "execute_result"
    }
   ],
   "source": [
    "blue_num"
   ]
  },
  {
   "cell_type": "code",
   "execution_count": 128,
   "id": "5698ef46-80b0-407e-9738-81c4178acea1",
   "metadata": {},
   "outputs": [
    {
     "data": {
      "text/plain": [
       "4468339"
      ]
     },
     "execution_count": 128,
     "metadata": {},
     "output_type": "execute_result"
    }
   ],
   "source": [
    "used_blue"
   ]
  },
  {
   "cell_type": "code",
   "execution_count": 121,
   "id": "7e71ce75-9fc3-41ad-af4e-4bb3b750b7b3",
   "metadata": {},
   "outputs": [
    {
     "data": {
      "text/plain": [
       "7"
      ]
     },
     "execution_count": 121,
     "metadata": {},
     "output_type": "execute_result"
    }
   ],
   "source": [
    "temp_storage "
   ]
  },
  {
   "cell_type": "code",
   "execution_count": 122,
   "id": "0a662dfd-5df2-4113-b7b6-6d761e924fc1",
   "metadata": {},
   "outputs": [
    {
     "data": {
      "text/plain": [
       "[10, 5, 6, 7]"
      ]
     },
     "execution_count": 122,
     "metadata": {},
     "output_type": "execute_result"
    }
   ],
   "source": [
    "storages"
   ]
  },
  {
   "cell_type": "code",
   "execution_count": 20,
   "id": "5546a430-7bc4-478b-a686-29f16214027f",
   "metadata": {},
   "outputs": [
    {
     "name": "stdout",
     "output_type": "stream",
     "text": [
      "1 1\n",
      "2 3\n",
      "3 6\n",
      "4 0\n",
      "5 5\n",
      "6 0\n",
      "7 7\n",
      "8 0\n"
     ]
    }
   ],
   "source": [
    "n,blue_num = 9,3\n",
    "ggg = [1,2,3,4,5,6,7,8,9]\n",
    "blue_candi = max(ggg)\n",
    "used_blue_num =0\n",
    "temp_storage = 0\n",
    "i = 0\n",
    "while i !=8:\n",
    "    temp_storage = temp_storage+ggg[i]\n",
    "    i +=1\n",
    "    if temp_storage > blue_candi:\n",
    "        temp_storage = 0\n",
    "        used_blue_num +=1\n",
    "    print(i, temp_storage)"
   ]
  },
  {
   "cell_type": "code",
   "execution_count": 22,
   "id": "d5e9d8c6-b0da-461f-893f-4f5b12363c27",
   "metadata": {},
   "outputs": [
    {
     "data": {
      "text/plain": [
       "5"
      ]
     },
     "execution_count": 22,
     "metadata": {},
     "output_type": "execute_result"
    }
   ],
   "source": [
    "used_blue_num"
   ]
  },
  {
   "cell_type": "code",
   "execution_count": 14,
   "id": "dcdf8e75-4e92-4374-88e3-e797c189dd41",
   "metadata": {},
   "outputs": [
    {
     "data": {
      "text/plain": [
       "3"
      ]
     },
     "execution_count": 14,
     "metadata": {},
     "output_type": "execute_result"
    }
   ],
   "source": [
    "used_blue_num"
   ]
  },
  {
   "cell_type": "code",
   "execution_count": null,
   "id": "3fc6b39f-0084-4bf4-96b0-39baadd80419",
   "metadata": {},
   "outputs": [],
   "source": []
  },
  {
   "cell_type": "code",
   "execution_count": null,
   "id": "e3dfa725-ef3d-4c4a-833a-c5cb664d76b8",
   "metadata": {},
   "outputs": [],
   "source": []
  },
  {
   "cell_type": "code",
   "execution_count": null,
   "id": "a35d9730-03c9-48da-9c63-3775472168ea",
   "metadata": {},
   "outputs": [],
   "source": []
  },
  {
   "cell_type": "code",
   "execution_count": null,
   "id": "62cc82ed-35c4-4276-bd72-3eebaf1977a7",
   "metadata": {},
   "outputs": [],
   "source": []
  },
  {
   "cell_type": "markdown",
   "id": "0c34e805-f261-48cc-b196-97513db4b950",
   "metadata": {},
   "source": [
    "# 1946"
   ]
  },
  {
   "cell_type": "code",
   "execution_count": null,
   "id": "5e655f25-53a3-4232-9744-2365d554fa8e",
   "metadata": {},
   "outputs": [],
   "source": []
  },
  {
   "cell_type": "code",
   "execution_count": null,
   "id": "da589925-d398-411f-b3f2-2e1dacb13e9d",
   "metadata": {},
   "outputs": [],
   "source": []
  },
  {
   "cell_type": "code",
   "execution_count": null,
   "id": "c876034c-6b7e-4091-bf4b-3c0f4f8dce8d",
   "metadata": {},
   "outputs": [],
   "source": []
  },
  {
   "cell_type": "markdown",
   "id": "000bb9f3-7991-4fc4-9a58-f26a38b67760",
   "metadata": {},
   "source": [
    "# 2003"
   ]
  },
  {
   "cell_type": "code",
   "execution_count": null,
   "id": "7572b5c4-678d-42e0-9a4a-a9582f3d0d8e",
   "metadata": {},
   "outputs": [],
   "source": []
  },
  {
   "cell_type": "code",
   "execution_count": null,
   "id": "8f8fb01d-8a79-43cd-af2a-0b40ee0357f7",
   "metadata": {},
   "outputs": [],
   "source": []
  },
  {
   "cell_type": "code",
   "execution_count": null,
   "id": "527ef780-3324-4178-8f4e-4694ed49bf21",
   "metadata": {},
   "outputs": [],
   "source": []
  },
  {
   "cell_type": "code",
   "execution_count": null,
   "id": "d351b3dc-7d1f-4695-9aa1-c380cedc3257",
   "metadata": {},
   "outputs": [],
   "source": []
  },
  {
   "cell_type": "code",
   "execution_count": null,
   "id": "702aef30-6f5e-47d7-b3f0-aaabc1e4fbd7",
   "metadata": {},
   "outputs": [],
   "source": []
  }
 ],
 "metadata": {
  "kernelspec": {
   "display_name": "Python 3 (ipykernel)",
   "language": "python",
   "name": "python3"
  },
  "language_info": {
   "codemirror_mode": {
    "name": "ipython",
    "version": 3
   },
   "file_extension": ".py",
   "mimetype": "text/x-python",
   "name": "python",
   "nbconvert_exporter": "python",
   "pygments_lexer": "ipython3",
   "version": "3.8.5"
  }
 },
 "nbformat": 4,
 "nbformat_minor": 5
}
