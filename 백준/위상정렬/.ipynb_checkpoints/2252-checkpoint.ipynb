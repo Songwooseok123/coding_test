{
 "cells": [
  {
   "cell_type": "code",
   "execution_count": 13,
   "id": "5d10b372-ce66-4ddd-893c-3764a1eae3dc",
   "metadata": {},
   "outputs": [
    {
     "name": "stdin",
     "output_type": "stream",
     "text": [
      " 3 2\n",
      " 1 3\n",
      " 2 3\n"
     ]
    },
    {
     "name": "stdout",
     "output_type": "stream",
     "text": [
      "[[2], [2], []]\n",
      "[0, 0, 2]\n"
     ]
    }
   ],
   "source": [
    "n,m = list(map(int,input().split()))\n",
    "adj = [[] for _ in range(n)]\n",
    "need_lecture = [0]*n\n",
    "for i in range(m):\n",
    "    a,b = list(map(int,input().split()))\n",
    "    adj[a-1].append(b-1)\n",
    "    need_lecture[b-1] += 1\n",
    "print(adj)\n",
    "print(need_lecture)"
   ]
  },
  {
   "cell_type": "code",
   "execution_count": 15,
   "id": "7e7e6015-dcea-4752-8506-e7ef4c94accc",
   "metadata": {},
   "outputs": [
    {
     "name": "stdout",
     "output_type": "stream",
     "text": [
      "1 2 3\n"
     ]
    }
   ],
   "source": [
    "from collections import deque\n",
    "\n",
    "\n",
    "queue =deque() # 수강 가능 목록\n",
    "for i in range(n):\n",
    "    if need_lecture[i] ==0:\n",
    "        queue.append(i)\n",
    "\n",
    "answer = []\n",
    "while queue:\n",
    "    lec = queue.popleft()\n",
    "    answer.append(lec+1)\n",
    "\n",
    "    for j in adj[lec]:\n",
    "        need_lecture[j] -=1\n",
    "        if need_lecture[j] ==0:\n",
    "            queue.append(j)\n",
    "\n",
    "print(*answer)"
   ]
  },
  {
   "cell_type": "code",
   "execution_count": 9,
   "id": "60c01fbc-7d3b-42f1-9471-3de780f79df3",
   "metadata": {},
   "outputs": [
    {
     "data": {
      "text/plain": [
       "[(0, 0), (0, 1), (2, 2)]"
      ]
     },
     "execution_count": 9,
     "metadata": {},
     "output_type": "execute_result"
    }
   ],
   "source": [
    "need_lec_count"
   ]
  },
  {
   "cell_type": "code",
   "execution_count": null,
   "id": "f21fdae5-1064-473b-823e-daed14a41cb4",
   "metadata": {},
   "outputs": [],
   "source": []
  }
 ],
 "metadata": {
  "kernelspec": {
   "display_name": "Python 3 (ipykernel)",
   "language": "python",
   "name": "python3"
  },
  "language_info": {
   "codemirror_mode": {
    "name": "ipython",
    "version": 3
   },
   "file_extension": ".py",
   "mimetype": "text/x-python",
   "name": "python",
   "nbconvert_exporter": "python",
   "pygments_lexer": "ipython3",
   "version": "3.8.5"
  }
 },
 "nbformat": 4,
 "nbformat_minor": 5
}
