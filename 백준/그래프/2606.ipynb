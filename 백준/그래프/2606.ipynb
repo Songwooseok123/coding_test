{
 "cells": [
  {
   "cell_type": "markdown",
   "id": "2c739661-4956-4602-900c-556b8c6f9327",
   "metadata": {},
   "source": [
    "# 나의 답안\n",
    "- 모르겠음"
   ]
  },
  {
   "cell_type": "code",
   "execution_count": 7,
   "id": "21122ffc-dfd3-464a-913b-66d58083a1e1",
   "metadata": {},
   "outputs": [
    {
     "name": "stdin",
     "output_type": "stream",
     "text": [
      " 7\n",
      " 6\n",
      " 1 2\n",
      " 2 3\n",
      " 1 5\n",
      " 5 2\n",
      " 5 6\n",
      " 4 7\n"
     ]
    }
   ],
   "source": [
    "n = int(input()) # 컴퓨터수\n",
    "link_n = int(input())\n",
    "adj_list = [[] for i in range(n)]\n",
    "for i in range(link_n):\n",
    "    a,b = list(map(int,input().split()))\n",
    "    adj_list[a-1].append(b-1)\n",
    "    adj_list[b-1].append(a-1)\n",
    "    "
   ]
  },
  {
   "cell_type": "code",
   "execution_count": 2,
   "id": "6bbab02b-62aa-4138-8c0a-25b4163feb28",
   "metadata": {},
   "outputs": [],
   "source": [
    "black = [0]*n\n",
    "black[0] =-1\n",
    "for aa in adj_list[0]: # 1,4\n",
    "    black[aa]=1\n",
    "    "
   ]
  },
  {
   "cell_type": "code",
   "execution_count": 11,
   "id": "4323ce38-d3a2-4ba8-a802-375a1bdb28db",
   "metadata": {},
   "outputs": [
    {
     "data": {
      "text/plain": [
       "[[1, 4], [0, 2, 4], [1], [6], [0, 1, 5], [4], [3]]"
      ]
     },
     "execution_count": 11,
     "metadata": {},
     "output_type": "execute_result"
    }
   ],
   "source": [
    "adj_list[0]"
   ]
  },
  {
   "cell_type": "code",
   "execution_count": 10,
   "id": "2a64b892-e79b-49d9-809c-d23229e6eaad",
   "metadata": {},
   "outputs": [
    {
     "data": {
      "text/plain": [
       "[0, 2, 4]"
      ]
     },
     "execution_count": 10,
     "metadata": {},
     "output_type": "execute_result"
    }
   ],
   "source": [
    "adj_list[1]"
   ]
  },
  {
   "cell_type": "markdown",
   "id": "467e69ed-7b92-474e-94d2-f8da298cde31",
   "metadata": {},
   "source": [
    "# 모범답안\n",
    "1. 인접 리스트 만들고\n",
    "2. 바이러스가 감염된 배열 black을 만듬\n",
    "3. black을 돌면서 black을 칠한다.\n",
    "4. 새로운 감염이 있을 수 있으니까 while 문으로처리해야함\n",
    "5. 종료 조건을 갖추는걸 못해냈음 "
   ]
  },
  {
   "cell_type": "code",
   "execution_count": null,
   "id": "ed993c38-b194-43fa-91ef-2c90cbb7c3cc",
   "metadata": {},
   "outputs": [],
   "source": [
    "n = int(input()) # 컴퓨터수\n",
    "link_n = int(input())\n",
    "adj_list = [[] for i in range(n)]\n",
    "for i in range(link_n):\n",
    "    a,b = list(map(int,input().split()))\n",
    "    adj_list[a-1].append(b-1)\n",
    "    adj_list[b-1].append(a-1)\n"
   ]
  },
  {
   "cell_type": "code",
   "execution_count": 18,
   "id": "45a58298-4639-45d9-8321-8eb59eb394bf",
   "metadata": {},
   "outputs": [
    {
     "data": {
      "text/plain": [
       "[[1, 4], [0, 2, 4], [1], [6], [0, 1, 5], [4], [3]]"
      ]
     },
     "execution_count": 18,
     "metadata": {},
     "output_type": "execute_result"
    }
   ],
   "source": [
    "adj_list"
   ]
  },
  {
   "cell_type": "code",
   "execution_count": 28,
   "id": "68228e46-228f-4a0f-9e8c-3bb873c606c6",
   "metadata": {},
   "outputs": [
    {
     "name": "stdout",
     "output_type": "stream",
     "text": [
      "6 [1, 1, 1, 0, 1, 1, 0]\n",
      "4\n"
     ]
    }
   ],
   "source": [
    "black = [0]*n\n",
    "black[0] =1\n",
    "\n",
    "\n",
    "while True:\n",
    "    new_black = False # 이번 차례에서 새로운 감염이 일어났는지 \n",
    "    for i in range(n): # black 갯수임  /\n",
    "        if black[i] ==0: # 복잡도는 확인하는 거니까 O(1)-> FOR문 돌아서 N번 확인해야 되므로 O(N)\n",
    "            continue\n",
    "        \n",
    "        for j in adj_list[i]:  # 여기 FOR문 때문에 O(N* 간선 수 ) 가 될것 같지만, 이미 감염된 노드는 다시 감염을안시킴 따라서 간선 갯수만큼만 보면 됨 -> 이중 FOR문 합처서 O(E)\n",
    "            if black[j] ==0:\n",
    "                black[j]=1\n",
    "                new_black = True\n",
    "    if new_black ==False:\n",
    "        break\n",
    "    #print(black_index,black)\n",
    "print(sum(black)-1)"
   ]
  },
  {
   "cell_type": "code",
   "execution_count": 17,
   "id": "1f171574-e5cb-4600-881b-f8dfdf733699",
   "metadata": {},
   "outputs": [
    {
     "data": {
      "text/plain": [
       "[1, 0, 1, 0, 1, 0, 0]"
      ]
     },
     "execution_count": 17,
     "metadata": {},
     "output_type": "execute_result"
    }
   ],
   "source": [
    "black"
   ]
  },
  {
   "cell_type": "code",
   "execution_count": null,
   "id": "d6a1b6c7-5c1d-4f03-95fb-765523045a26",
   "metadata": {},
   "outputs": [],
   "source": []
  }
 ],
 "metadata": {
  "kernelspec": {
   "display_name": "Python 3 (ipykernel)",
   "language": "python",
   "name": "python3"
  },
  "language_info": {
   "codemirror_mode": {
    "name": "ipython",
    "version": 3
   },
   "file_extension": ".py",
   "mimetype": "text/x-python",
   "name": "python",
   "nbconvert_exporter": "python",
   "pygments_lexer": "ipython3",
   "version": "3.8.5"
  }
 },
 "nbformat": 4,
 "nbformat_minor": 5
}
