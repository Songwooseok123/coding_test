{
 "cells": [
  {
   "cell_type": "markdown",
   "id": "467e69ed-7b92-474e-94d2-f8da298cde31",
   "metadata": {},
   "source": [
    "# 모범답안\n",
    "1. 인접 리스트 만들고\n",
    "2. 바이러스가 감염된 배열 black을 만듬\n",
    "3. black을 돌면서 black을 칠한다.\n",
    "4. 새로운 감염이 있을 수 있으니까 while 문으로처리해야함\n",
    "5. 종료 조건을 갖추는걸 못해냈음 "
   ]
  },
  {
   "cell_type": "code",
   "execution_count": null,
   "id": "ed993c38-b194-43fa-91ef-2c90cbb7c3cc",
   "metadata": {},
   "outputs": [],
   "source": [
    "n = int(input()) # 컴퓨터수\n",
    "link_n = int(input())\n",
    "adj_list = [[] for i in range(n)]\n",
    "for i in range(link_n):\n",
    "    a,b = list(map(int,input().split()))\n",
    "    adj_list[a-1].append(b-1)\n",
    "    adj_list[b-1].append(a-1)\n"
   ]
  },
  {
   "cell_type": "code",
   "execution_count": 18,
   "id": "45a58298-4639-45d9-8321-8eb59eb394bf",
   "metadata": {},
   "outputs": [
    {
     "data": {
      "text/plain": [
       "[[1, 4], [0, 2, 4], [1], [6], [0, 1, 5], [4], [3]]"
      ]
     },
     "execution_count": 18,
     "metadata": {},
     "output_type": "execute_result"
    }
   ],
   "source": [
    "adj_list"
   ]
  },
  {
   "cell_type": "code",
   "execution_count": 28,
   "id": "68228e46-228f-4a0f-9e8c-3bb873c606c6",
   "metadata": {},
   "outputs": [
    {
     "name": "stdout",
     "output_type": "stream",
     "text": [
      "6 [1, 1, 1, 0, 1, 1, 0]\n",
      "4\n"
     ]
    }
   ],
   "source": [
    "black = [0]*n\n",
    "black[0] =1\n",
    "\n",
    "\n",
    "while True:\n",
    "    new_black = False # 이번 차례에서 새로운 감염이 일어났는지 \n",
    "    for i in range(n): # black 갯수임  /\n",
    "        if black[i] ==0: # 복잡도는 확인하는 거니까 O(1)-> FOR문 돌아서 N번 확인해야 되므로 O(N)\n",
    "            continue\n",
    "        \n",
    "        for j in adj_list[i]:  # 여기 FOR문 때문에 O(N* 간선 수 ) 가 될것 같지만, 이미 감염된 노드는 다시 감염을안시킴 따라서 간선 갯수만큼만 보면 됨 -> 이중 FOR문 합처서 O(E)\n",
    "            if black[j] ==0:\n",
    "                black[j]=1\n",
    "                new_black = True\n",
    "    if new_black ==False:\n",
    "        break\n",
    "    #print(black_index,black)\n",
    "print(sum(black)-1)"
   ]
  },
  {
   "cell_type": "code",
   "execution_count": 17,
   "id": "1f171574-e5cb-4600-881b-f8dfdf733699",
   "metadata": {},
   "outputs": [
    {
     "data": {
      "text/plain": [
       "[1, 0, 1, 0, 1, 0, 0]"
      ]
     },
     "execution_count": 17,
     "metadata": {},
     "output_type": "execute_result"
    }
   ],
   "source": [
    "black"
   ]
  },
  {
   "cell_type": "markdown",
   "id": "b4f9b82b-987b-4656-95b7-b136e6f44d1f",
   "metadata": {},
   "source": [
    "# BFS로 풀면 "
   ]
  },
  {
   "cell_type": "code",
   "execution_count": null,
   "id": "d7f48768-8902-401d-b579-45f3c30f985a",
   "metadata": {},
   "outputs": [],
   "source": [
    "v = int(input())\n",
    "e = int(input())\n",
    "\n",
    "adj  = [[] for i in range(v)]\n",
    "for i in range(e):\n",
    "    a,b = list(map(int,input().split()))\n",
    "    adj[a-1].append(b-1)\n",
    "    adj[b-1].append(a-1)\n",
    "adj\n",
    "# bfs로 풀면\n",
    "from collections import deque\n",
    "\n",
    "visit = [False] *v\n",
    "queue = deque()\n",
    "queue.append(0)\n",
    "visit[0] =True\n",
    "\n",
    "while queue:\n",
    "    node = queue.popleft()\n",
    "    for j in adj[node]:\n",
    "        if visit[j] ==False:       \n",
    "            queue.append(j)\n",
    "            visit[j] = True\n",
    "            #print(visit,j)\n",
    "    #print(queue)\n",
    "print(sum(visit)-1)    "
   ]
  },
  {
   "cell_type": "markdown",
   "id": "a04c4742-b5a4-4ec2-83b2-3133beebb33c",
   "metadata": {},
   "source": [
    "# DFS로 풀면"
   ]
  },
  {
   "cell_type": "code",
   "execution_count": null,
   "id": "225a9582-b570-4090-822a-6508839acf26",
   "metadata": {},
   "outputs": [],
   "source": [
    "v = int(input())\n",
    "e = int(input())\n",
    "\n",
    "adj  = [[] for i in range(v)]\n",
    "for i in range(e):\n",
    "    a,b = list(map(int,input().split()))\n",
    "    adj[a-1].append(b-1)\n",
    "    adj[b-1].append(a-1)\n",
    "adj\n",
    "# dfs로 풀면\n",
    "\n",
    "visit = [False]*v\n",
    "def dfs(node):\n",
    "    visit[node] =True\n",
    "    for j in adj[node]:\n",
    "        if visit[j]==False:\n",
    "            dfs(j)\n",
    "\n",
    "dfs(0)\n",
    "print(sum(visit)-1)"
   ]
  }
 ],
 "metadata": {
  "kernelspec": {
   "display_name": "Python 3 (ipykernel)",
   "language": "python",
   "name": "python3"
  },
  "language_info": {
   "codemirror_mode": {
    "name": "ipython",
    "version": 3
   },
   "file_extension": ".py",
   "mimetype": "text/x-python",
   "name": "python",
   "nbconvert_exporter": "python",
   "pygments_lexer": "ipython3",
   "version": "3.8.5"
  }
 },
 "nbformat": 4,
 "nbformat_minor": 5
}
