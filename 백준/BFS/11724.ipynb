{
 "cells": [
  {
   "cell_type": "code",
   "execution_count": 2,
   "id": "42f773e3-4068-4208-8754-e1d09c1731d7",
   "metadata": {},
   "outputs": [
    {
     "name": "stdin",
     "output_type": "stream",
     "text": [
      " 6 5\n",
      " 1 2\n",
      " 2 5\n",
      " 5 1\n",
      " 3 4\n",
      " 4 6\n"
     ]
    }
   ],
   "source": [
    "n,m = list(map(int,input().split()))\n",
    "\n",
    "adj = [[] for _ in range(n)]\n",
    "for i in range(m):\n",
    "    a,b = list(map(int,input().split()))\n",
    "    adj[a-1].append(b-1)\n",
    "    adj[b-1].append(a-1)\n"
   ]
  },
  {
   "cell_type": "code",
   "execution_count": 3,
   "id": "1c148001-4030-49c8-a9b3-2fe7cfd94292",
   "metadata": {},
   "outputs": [
    {
     "data": {
      "text/plain": [
       "[[1, 4], [0, 4], [3], [2, 5], [1, 0], [3]]"
      ]
     },
     "execution_count": 3,
     "metadata": {},
     "output_type": "execute_result"
    }
   ],
   "source": [
    "adj"
   ]
  },
  {
   "cell_type": "code",
   "execution_count": 10,
   "id": "d633d846-2833-4cd7-9845-60210e5941f7",
   "metadata": {},
   "outputs": [
    {
     "name": "stdout",
     "output_type": "stream",
     "text": [
      "2\n"
     ]
    }
   ],
   "source": [
    "n,m = list(map(int,input().split()))\n",
    "\n",
    "adj = [[] for _ in range(n)]\n",
    "for i in range(m):\n",
    "    a,b = list(map(int,input().split()))\n",
    "    adj[a-1].append(b-1)\n",
    "    adj[b-1].append(a-1)\n",
    "\n",
    "from collections import deque\n",
    "visit = [False] *n\n",
    "\n",
    "\n",
    "count = 0 \n",
    "for i in range(n):\n",
    "    if visit[i]==True:\n",
    "        continue\n",
    "    count +=1    \n",
    "    \n",
    "    queue  = deque()\n",
    "    queue.append(i) # 처음 노드 큐에 넣고 \n",
    "    visit[i] = True # 처음 노드 방문 처리\n",
    "    \n",
    "    while queue:\n",
    "        u  = queue.popleft() # 하나 꺼내고 \n",
    "        for j in adj[u]: # 꺼낸 애와 인접한 애들  중에서 방문 하지 않은 애들만 도달 가능 노드 목록에 다 추가 \n",
    "            if visit[j] ==False:\n",
    "                queue.append(j)\n",
    "                visit[j] =True\n",
    "print(count)\n",
    "        \n",
    "    \n",
    "\n"
   ]
  },
  {
   "cell_type": "code",
   "execution_count": null,
   "id": "08982b8b-f6df-4c96-9890-7b9fc777e217",
   "metadata": {},
   "outputs": [],
   "source": []
  }
 ],
 "metadata": {
  "kernelspec": {
   "display_name": "Python 3 (ipykernel)",
   "language": "python",
   "name": "python3"
  },
  "language_info": {
   "codemirror_mode": {
    "name": "ipython",
    "version": 3
   },
   "file_extension": ".py",
   "mimetype": "text/x-python",
   "name": "python",
   "nbconvert_exporter": "python",
   "pygments_lexer": "ipython3",
   "version": "3.8.5"
  }
 },
 "nbformat": 4,
 "nbformat_minor": 5
}
