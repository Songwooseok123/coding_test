{
 "cells": [
  {
   "cell_type": "code",
   "execution_count": 3,
   "id": "68412897-b50e-42c4-b6b9-5499c44ad499",
   "metadata": {},
   "outputs": [
    {
     "name": "stdin",
     "output_type": "stream",
     "text": [
      " 5 5\n",
      " 1 3\n",
      " 1 4\n",
      " 4 5\n",
      " 4 3\n",
      " 3 2\n"
     ]
    }
   ],
   "source": [
    "n,m = list(map(int,input().split()))\n",
    "\n",
    "\n",
    "adj = [[] for _ in range(n)]\n",
    "for i in range(m):\n",
    "    a,b = list(map(int,input().split()))\n",
    "    adj[a-1].append(b-1)\n",
    "    adj[b-1].append(a-1)"
   ]
  },
  {
   "cell_type": "code",
   "execution_count": 16,
   "id": "1a5b364d-5fe8-4c0c-86b4-2cc5c50fcaa0",
   "metadata": {},
   "outputs": [
    {
     "name": "stdout",
     "output_type": "stream",
     "text": [
      "3\n"
     ]
    }
   ],
   "source": [
    "from collections import deque\n",
    "\n",
    "min_cabin =1e9\n",
    "min_person = -1\n",
    "for i in range(n):\n",
    "    visit =[False]*n\n",
    "    short_d = [-1]*n\n",
    "    \n",
    "    \n",
    "    queue = deque()\n",
    "    queue.append(i)\n",
    "    visit[i] = True\n",
    "    short_d[i] = 0\n",
    "    \n",
    "    while queue :\n",
    "        u = queue.popleft()\n",
    "        for j in adj[u]:\n",
    "            if short_d[j] == -1:\n",
    "                short_d[j] = short_d[u]+1\n",
    "            \n",
    "            if visit[j]==False:\n",
    "                queue.append(j)\n",
    "                visit[j] = True\n",
    "    \n",
    "    i_cabin = sum(short_d)\n",
    "    if min_cabin > i_cabin:\n",
    "        min_cabin = i_cabin\n",
    "        min_person = i\n",
    "    elif min_cabin == i_cabin:\n",
    "        min_person = min(min_person,i_cabin)\n",
    "print(min_person+1)"
   ]
  },
  {
   "cell_type": "code",
   "execution_count": 14,
   "id": "7d76e57b-bffc-4cda-a395-a425e0e67ba8",
   "metadata": {},
   "outputs": [
    {
     "data": {
      "text/plain": [
       "3"
      ]
     },
     "execution_count": 14,
     "metadata": {},
     "output_type": "execute_result"
    }
   ],
   "source": [
    "sorted(aa.items(), key =lambda x: x[1])[0][0]+1"
   ]
  },
  {
   "cell_type": "code",
   "execution_count": 9,
   "id": "4bf797a9-3b06-4dbf-9c72-d78ad9e01d5c",
   "metadata": {},
   "outputs": [
    {
     "data": {
      "text/plain": [
       "{0: 6, 1: 8, 2: 5, 3: 5, 4: 8}"
      ]
     },
     "execution_count": 9,
     "metadata": {},
     "output_type": "execute_result"
    }
   ],
   "source": []
  },
  {
   "cell_type": "code",
   "execution_count": 10,
   "id": "ae95a2d3-f01f-45be-969e-f5e9826253c1",
   "metadata": {},
   "outputs": [
    {
     "data": {
      "text/plain": [
       "2"
      ]
     },
     "execution_count": 10,
     "metadata": {},
     "output_type": "execute_result"
    }
   ],
   "source": [
    "import numpy as np\n",
    "np.argmin(aa)+1"
   ]
  },
  {
   "cell_type": "code",
   "execution_count": null,
   "id": "2343109f-d893-48e9-a0fb-517b09134c1c",
   "metadata": {},
   "outputs": [],
   "source": [
    "a= []"
   ]
  }
 ],
 "metadata": {
  "kernelspec": {
   "display_name": "Python 3 (ipykernel)",
   "language": "python",
   "name": "python3"
  },
  "language_info": {
   "codemirror_mode": {
    "name": "ipython",
    "version": 3
   },
   "file_extension": ".py",
   "mimetype": "text/x-python",
   "name": "python",
   "nbconvert_exporter": "python",
   "pygments_lexer": "ipython3",
   "version": "3.8.5"
  }
 },
 "nbformat": 4,
 "nbformat_minor": 5
}
