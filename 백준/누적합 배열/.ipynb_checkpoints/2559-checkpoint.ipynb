{
 "cells": [
  {
   "cell_type": "markdown",
   "id": "66b79d7f-d33e-4c09-b4b2-e4bfa6cdc29e",
   "metadata": {},
   "source": [
    "# 나의 풀이\n",
    "- 정답 "
   ]
  },
  {
   "cell_type": "code",
   "execution_count": null,
   "id": "c84d7369-a007-4200-afc0-99b6d3f83255",
   "metadata": {},
   "outputs": [],
   "source": [
    "n,k = list(map(int,input().split()))\n",
    "temps = list(map(int,input().split()))\n"
   ]
  },
  {
   "cell_type": "code",
   "execution_count": 17,
   "id": "443b9e0b-cc08-4ce0-9b90-0deebb359d19",
   "metadata": {},
   "outputs": [
    {
     "name": "stdout",
     "output_type": "stream",
     "text": [
      "21\n"
     ]
    }
   ],
   "source": [
    "n,k = 10, 2\n",
    "temps = [3 ,-2 ,-4 ,-9, 0, 3, 7, 13, 8, -3]\n",
    "\n",
    "#n,k = 10, 5\n",
    "#temps = [3, -2, -4, -9, 0, 3, 7, 13, 8, -3]\n",
    "\n",
    "psum = [0]*n\n",
    "psum[0] = temps[0]\n",
    "for i in range(1, len(temps)):  # 복잡도 n \n",
    "    psum[i] = psum[i-1]+temps[i]\n",
    "   \n",
    "\n",
    "days_psum = []\n",
    "days_psum.append(psum[k-1])\n",
    "\n",
    "for i in range(n-k): # 복잡도 n \n",
    "    days_psum.append(psum[k+i] -psum[i])\n",
    "print(max(days_psum)) # 복잡도 n "
   ]
  },
  {
   "cell_type": "code",
   "execution_count": 7,
   "id": "88e70a44-03fc-4479-9fbf-7577ce624ee4",
   "metadata": {},
   "outputs": [
    {
     "data": {
      "text/plain": [
       "[3, 1, -3, -12, -12, -9, -2, 11, 19, 16]"
      ]
     },
     "execution_count": 7,
     "metadata": {},
     "output_type": "execute_result"
    }
   ],
   "source": [
    "psum"
   ]
  },
  {
   "cell_type": "code",
   "execution_count": 15,
   "id": "06df0bc3-7ac1-45c6-942c-117a0b8b0083",
   "metadata": {},
   "outputs": [
    {
     "data": {
      "text/plain": [
       "[-12, 3, 10, 20, 21, 5]"
      ]
     },
     "execution_count": 15,
     "metadata": {},
     "output_type": "execute_result"
    }
   ],
   "source": [
    "days_psum"
   ]
  },
  {
   "cell_type": "code",
   "execution_count": null,
   "id": "35e8c2ca-2881-475a-94f8-e04ad0837a63",
   "metadata": {},
   "outputs": [],
   "source": []
  }
 ],
 "metadata": {
  "kernelspec": {
   "display_name": "Python 3 (ipykernel)",
   "language": "python",
   "name": "python3"
  },
  "language_info": {
   "codemirror_mode": {
    "name": "ipython",
    "version": 3
   },
   "file_extension": ".py",
   "mimetype": "text/x-python",
   "name": "python",
   "nbconvert_exporter": "python",
   "pygments_lexer": "ipython3",
   "version": "3.8.5"
  }
 },
 "nbformat": 4,
 "nbformat_minor": 5
}
