{
 "cells": [
  {
   "cell_type": "markdown",
   "id": "f7ff845c-75f1-4914-a14a-ccfa6a7f7db4",
   "metadata": {},
   "source": [
    "# 나의 답안\n",
    "- 정답 "
   ]
  },
  {
   "cell_type": "code",
   "execution_count": null,
   "id": "7014f56a-b6cb-421a-8644-b48b92d019f2",
   "metadata": {},
   "outputs": [],
   "source": [
    "n, k,b = list(map(int,input().split()))\n",
    "broken = [1]*n\n",
    "for i in range(b):\n",
    "    broken[int(input())-1] = 0\n",
    "psum  = [0]*n\n",
    "\n",
    "for i in range(1,n):\n",
    "    psum[i] = psum[i-1]+broken[i]\n",
    "\n",
    "\n",
    "part_sum = psum[k-1]\n",
    "for i in range(n-k):\n",
    "    temp_part_sum = psum[i+k]-psum[i]\n",
    "    part_sum = max(part_sum,temp_part_sum)\n",
    "print(k - part_sum)"
   ]
  },
  {
   "cell_type": "code",
   "execution_count": null,
   "id": "13f63579-03c2-4f7b-aad1-e75547d5bc2a",
   "metadata": {},
   "outputs": [],
   "source": []
  }
 ],
 "metadata": {
  "kernelspec": {
   "display_name": "Python 3 (ipykernel)",
   "language": "python",
   "name": "python3"
  },
  "language_info": {
   "codemirror_mode": {
    "name": "ipython",
    "version": 3
   },
   "file_extension": ".py",
   "mimetype": "text/x-python",
   "name": "python",
   "nbconvert_exporter": "python",
   "pygments_lexer": "ipython3",
   "version": "3.8.5"
  }
 },
 "nbformat": 4,
 "nbformat_minor": 5
}
