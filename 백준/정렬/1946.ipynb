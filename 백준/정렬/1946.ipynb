{
 "cells": [
  {
   "cell_type": "markdown",
   "id": "22baef46-f5ed-4d9e-9545-a70c4611802d",
   "metadata": {},
   "source": [
    "# 나의 답안 1 \n",
    "- 시간초과 "
   ]
  },
  {
   "cell_type": "code",
   "execution_count": 25,
   "id": "a6edacee-fb0b-43da-b670-fbda7020c48e",
   "metadata": {},
   "outputs": [],
   "source": [
    "test_case = [[3, 6],[7, 3], [4, 2],[1, 4], [5, 7], [2, 5],[6, 1]]\n",
    "#test_case = [[3,2],[1,4],[4,1],[2,3],[5,5]]\n"
   ]
  },
  {
   "cell_type": "code",
   "execution_count": 1,
   "id": "d2c3d185-9e21-4414-86a4-570aed05baed",
   "metadata": {},
   "outputs": [
    {
     "ename": "ValueError",
     "evalue": "invalid literal for int() with base 10: ''",
     "output_type": "error",
     "traceback": [
      "\u001b[1;31m---------------------------------------------------------------------------\u001b[0m",
      "\u001b[1;31mValueError\u001b[0m                                Traceback (most recent call last)",
      "Input \u001b[1;32mIn [1]\u001b[0m, in \u001b[0;36m<cell line: 21>\u001b[1;34m()\u001b[0m\n\u001b[0;32m     16\u001b[0m             test_case\u001b[38;5;241m.\u001b[39mremove(\u001b[38;5;28mlist\u001b[39m(rl))\n\u001b[0;32m     17\u001b[0m     \u001b[38;5;28mprint\u001b[39m(cc\u001b[38;5;241m+\u001b[39m\u001b[38;5;241m1\u001b[39m)  \n\u001b[1;32m---> 21\u001b[0m T \u001b[38;5;241m=\u001b[39m \u001b[38;5;28;43mint\u001b[39;49m\u001b[43m(\u001b[49m\u001b[43msys\u001b[49m\u001b[38;5;241;43m.\u001b[39;49m\u001b[43mstdin\u001b[49m\u001b[38;5;241;43m.\u001b[39;49m\u001b[43mreadline\u001b[49m\u001b[43m(\u001b[49m\u001b[43m)\u001b[49m\u001b[43m)\u001b[49m\n\u001b[0;32m     22\u001b[0m \u001b[38;5;28;01mfor\u001b[39;00m i \u001b[38;5;129;01min\u001b[39;00m \u001b[38;5;28mrange\u001b[39m(T):\n\u001b[0;32m     23\u001b[0m     N \u001b[38;5;241m=\u001b[39m \u001b[38;5;28mint\u001b[39m(sys\u001b[38;5;241m.\u001b[39mstdin\u001b[38;5;241m.\u001b[39mreadline())\n",
      "\u001b[1;31mValueError\u001b[0m: invalid literal for int() with base 10: ''"
     ]
    }
   ],
   "source": [
    "def test_case_to_candidate(test_case):\n",
    "    test_case.sort()\n",
    "    cc = 0\n",
    "    while len(test_case)>1:\n",
    "        query = test_case[0]\n",
    "        cc +=1\n",
    "        test_case.remove(query)\n",
    "        remove_list = []\n",
    "        for i in range(len(test_case)):\n",
    "            a=[query[0]-test_case[i][0],query[1]-test_case[i][1]]\n",
    "            if a[0]*a[1]>0:\n",
    "                remove_list.append(test_case[i])\n",
    "        for rl in remove_list:\n",
    "            test_case.remove(list(rl))\n",
    "    print(cc+1)   \n",
    "\n",
    "\n",
    "\n",
    "T = int(sys.stdin.readline())\n",
    "for i in range(T):\n",
    "    N = int(sys.stdin.readline())\n",
    "    test_case = []\n",
    "    for i in range(N):\n",
    "        s,m = list(map(int,sys.stdin.readline().split()))\n",
    "        test_case.append([s,m])\n",
    "    test_case_to_candidate(test_case)"
   ]
  },
  {
   "cell_type": "markdown",
   "id": "4b9fa9d8-36e7-4f94-8bda-aa9600a065d8",
   "metadata": {},
   "source": [
    "# 나의 답안 2 \n",
    "- 시간초과 "
   ]
  },
  {
   "cell_type": "code",
   "execution_count": null,
   "id": "0518943b-ca3a-40bd-a3fd-8a8f618b98eb",
   "metadata": {},
   "outputs": [],
   "source": [
    "def test_case_to_candidate(test_case):\n",
    "    test_case.sort()\n",
    "    cc = 0\n",
    "    for i in range(len(test_case)):\n",
    "        #print(\"########\",i)\n",
    "        flag = True\n",
    "        for ii in range(i):\n",
    "            flag *=(test_case[ii][1]>test_case[i][1])\n",
    "            #print(flag)\n",
    "        if flag==1:\n",
    "            cc+=1\n",
    "    print(cc) \n"
   ]
  },
  {
   "cell_type": "markdown",
   "id": "9f2d84c2-c561-4ec0-aabf-22cc4bfc45c6",
   "metadata": {},
   "source": [
    "# 모범답안\n",
    "- 정렬 후 위에 앞에 애들이랑 비교할 때, 서류심사는 비교할 필요없음\n",
    "- 면접 등수도 앞에 애들 전부랑 비교할 필요없음.\n",
    "  - 대신 최고 등수를 업데이트 해놓으면 됨  "
   ]
  },
  {
   "cell_type": "code",
   "execution_count": null,
   "id": "bc0e78df-c6b6-4814-aeea-83912991ad99",
   "metadata": {},
   "outputs": [],
   "source": [
    "#test_case = [[3, 6],[7, 3], [4, 2],[1, 4], [5, 7], [2, 5],[6, 1]]\n",
    "test_case = [[3,2],[1,4],[4,1],[2,3],[5,5]]\n"
   ]
  },
  {
   "cell_type": "code",
   "execution_count": 53,
   "id": "76c16d22-0544-45ef-b9ad-41f8c036c77f",
   "metadata": {},
   "outputs": [],
   "source": [
    "\n",
    "import sys\n",
    "def test_case_to_candidate(test_case):\n",
    "    test_case.sort()\n",
    "    cc = 0\n",
    "    first_max = test_case[0][1]\n",
    "    for i in range(1,len(test_case)):\n",
    "        if first_max >test_case[i][1]:\n",
    "            cc+=1\n",
    "            first_max = test_case[i][1]\n",
    "    print(cc+1) \n",
    "\n",
    "\n",
    "\n",
    "T = int(sys.stdin.readline())\n",
    "for i in range(T):\n",
    "    N = int(sys.stdin.readline())\n",
    "    test_case = []\n",
    "    for i in range(N):\n",
    "        s,m = list(map(int,sys.stdin.readline().split()))\n",
    "        test_case.append([s,m])\n",
    "    test_case_to_candidate(test_case)"
   ]
  },
  {
   "cell_type": "code",
   "execution_count": 54,
   "id": "f3da8827-6f82-4bfe-93a9-905fda2da21c",
   "metadata": {},
   "outputs": [
    {
     "name": "stdout",
     "output_type": "stream",
     "text": [
      "4\n"
     ]
    }
   ],
   "source": [
    "test_case_to_candidate(test_case)"
   ]
  },
  {
   "cell_type": "markdown",
   "id": "c18d6f1b-aba8-43e6-a3e7-37f198896d8c",
   "metadata": {},
   "source": [
    "# 모범답안 2 "
   ]
  },
  {
   "cell_type": "code",
   "execution_count": null,
   "id": "70059527-05f0-4cc7-8c91-6c1052ff3c2b",
   "metadata": {},
   "outputs": [],
   "source": [
    "a= [[3,2],[1,4],[4,1],[2,3],[5,5]]\n",
    "#a = [[3,6],[7,3],[4,2],[1,4],[5,7],[2,5],[6,1]]\n",
    "\n",
    "t = int(input())\n",
    "\n",
    "for i in range(t):\n",
    "    n = int(input())\n",
    "    a = []\n",
    "    for j in range(n):\n",
    "        a.append(list(map(int,input().split())))\n",
    "    \n",
    "    a.sort(key = lambda x: x[0])\n",
    "    best = a[0][1]\n",
    "    cc =1\n",
    "    for aa in a:\n",
    "        if aa[1]< best:\n",
    "            cc+=1\n",
    "            best =aa[1]\n",
    "    cc"
   ]
  }
 ],
 "metadata": {
  "kernelspec": {
   "display_name": "Python 3 (ipykernel)",
   "language": "python",
   "name": "python3"
  },
  "language_info": {
   "codemirror_mode": {
    "name": "ipython",
    "version": 3
   },
   "file_extension": ".py",
   "mimetype": "text/x-python",
   "name": "python",
   "nbconvert_exporter": "python",
   "pygments_lexer": "ipython3",
   "version": "3.8.5"
  }
 },
 "nbformat": 4,
 "nbformat_minor": 5
}
