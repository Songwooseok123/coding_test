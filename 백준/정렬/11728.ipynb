{
 "cells": [
  {
   "cell_type": "markdown",
   "id": "22baef46-f5ed-4d9e-9545-a70c4611802d",
   "metadata": {},
   "source": [
    "# 나의 답안 1 \n",
    " - sort 함수(nlogn복잡도) 써서 맞았음\n",
    " - n = 1,000,000 천만 이었고\n",
    "   - 2개의 n길이의 list를 합처서 정렬하는 복잡도는\n",
    "   - 2n*log(2n)\n",
    "   - n * log(n)< 1,000,000 * 20 = 20,000,000\n",
    "   - 빠듯한데, 뽀록으로 맞음. "
   ]
  },
  {
   "cell_type": "code",
   "execution_count": null,
   "id": "e56ef53b-3723-4f03-aa5a-3999f4f3c02f",
   "metadata": {},
   "outputs": [],
   "source": [
    "import sys\n",
    "\n",
    "A,B = list(map(int,sys.stdin.readline().split()))\n",
    "\n",
    "l1 = list(map(int,sys.stdin.readline().split()))\n",
    "l2 = list(map(int,sys.stdin.readline().split()))\n",
    "a= l1+l2\n",
    "print(*sorted(a))"
   ]
  },
  {
   "cell_type": "code",
   "execution_count": 7,
   "id": "392f3b42-ee7a-4712-a047-86df3e8eacc5",
   "metadata": {},
   "outputs": [
    {
     "name": "stdout",
     "output_type": "stream",
     "text": [
      "2 3 5 9\n"
     ]
    }
   ],
   "source": [
    "A,B = 2,2\n",
    "l1 = [3,5]\n",
    "l2 = [2,9]\n",
    "a= l1+l2\n",
    "print(*sorted(a))"
   ]
  },
  {
   "cell_type": "code",
   "execution_count": null,
   "id": "b6419892-ae3e-4ee8-a4da-2d415780e129",
   "metadata": {},
   "outputs": [],
   "source": []
  },
  {
   "cell_type": "markdown",
   "id": "4b9fa9d8-36e7-4f94-8bda-aa9600a065d8",
   "metadata": {},
   "source": [
    "# 모범 답안 \n",
    "- A와 B가 이미 정렬 되어있다.\n",
    "- A와 B에서 가장 작은 값 1개씩 뽑아서 비교하고 C에다가 넣어주면 된다.\n",
    "   - while 문 도는거: C에다가 넣어주는 거까지는 log(N+M) 복잡도임\n",
    "   - 왜냐면 그 안에 append와 비교 연산은 0(1)임. "
   ]
  },
  {
   "cell_type": "code",
   "execution_count": 25,
   "id": "ac668270-0291-4ea7-8a55-b9d3d5c7244c",
   "metadata": {},
   "outputs": [
    {
     "name": "stdout",
     "output_type": "stream",
     "text": [
      "1 2 3 4 5 7 9\n"
     ]
    }
   ],
   "source": [
    "A,B = 4,3\n",
    "l1 = [3,5]\n",
    "l2 = [2,9]\n",
    "l1 = [2, 3, 5, 9]\n",
    "l2=[1, 4, 7]\n",
    "c= []\n",
    "\n",
    "pos_a = 0\n",
    "pos_b = 0\n",
    "while pos_a<A and pos_b<B : # 둘 중 하나라도 마지막 pos 까지 가면(다 소진되면) 종료 \n",
    "    \n",
    "    if l1[pos_a] < l2[pos_b]:\n",
    "        c.append(l1[pos_a])\n",
    "        pos_a +=1\n",
    "    else:\n",
    "        c.append(l2[pos_b])\n",
    "        pos_b +=1\n",
    "        \n",
    "if pos_a ==A :\n",
    "    c = c+l2[pos_b:]\n",
    "if pos_b ==B :\n",
    "    c = c+l1[pos_a:]\n",
    "print(*c)"
   ]
  },
  {
   "cell_type": "code",
   "execution_count": 26,
   "id": "98e478ec-e2dc-4667-a882-63fb0ac4bc3f",
   "metadata": {},
   "outputs": [
    {
     "data": {
      "text/plain": [
       "[1, 2, 3, 4, 5, 7, 9]"
      ]
     },
     "execution_count": 26,
     "metadata": {},
     "output_type": "execute_result"
    }
   ],
   "source": [
    "c"
   ]
  },
  {
   "cell_type": "code",
   "execution_count": 27,
   "id": "c1994ec5-dcab-45d7-b433-22798ade74b7",
   "metadata": {},
   "outputs": [
    {
     "data": {
      "text/plain": [
       "3"
      ]
     },
     "execution_count": 27,
     "metadata": {},
     "output_type": "execute_result"
    }
   ],
   "source": [
    "pos_a"
   ]
  },
  {
   "cell_type": "code",
   "execution_count": 28,
   "id": "dff5269a-17b7-48f1-a451-e8eade594c39",
   "metadata": {},
   "outputs": [
    {
     "data": {
      "text/plain": [
       "3"
      ]
     },
     "execution_count": 28,
     "metadata": {},
     "output_type": "execute_result"
    }
   ],
   "source": [
    "pos_b"
   ]
  },
  {
   "cell_type": "code",
   "execution_count": null,
   "id": "b2935ee4-8cd9-456e-8f55-b4477c8ae8a7",
   "metadata": {},
   "outputs": [],
   "source": []
  }
 ],
 "metadata": {
  "kernelspec": {
   "display_name": "Python 3 (ipykernel)",
   "language": "python",
   "name": "python3"
  },
  "language_info": {
   "codemirror_mode": {
    "name": "ipython",
    "version": 3
   },
   "file_extension": ".py",
   "mimetype": "text/x-python",
   "name": "python",
   "nbconvert_exporter": "python",
   "pygments_lexer": "ipython3",
   "version": "3.8.5"
  }
 },
 "nbformat": 4,
 "nbformat_minor": 5
}
