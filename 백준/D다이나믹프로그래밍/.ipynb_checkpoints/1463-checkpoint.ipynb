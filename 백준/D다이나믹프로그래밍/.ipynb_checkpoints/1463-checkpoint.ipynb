{
 "cells": [
  {
   "cell_type": "code",
   "execution_count": 2,
   "id": "e152c249-5132-435d-b7b8-9667c9f904fe",
   "metadata": {},
   "outputs": [
    {
     "name": "stdin",
     "output_type": "stream",
     "text": [
      " 10\n"
     ]
    }
   ],
   "source": [
    "n = int(input())\n",
    "a = [0]*(n+1)\n",
    "a[0] =False\n",
    "a[1] = 0\n",
    "\n",
    "\n",
    "for i in range(2,n+1):\n",
    "    a[i] = a[i-1]+1\n",
    "\n",
    "    if i %2 ==0:\n",
    "        a[i] = min(a[i], 1+a[int(i/2)])\n",
    "    if i %3 ==0:\n",
    "        a[i] = min(a[i],1+a[int(i/3)])\n",
    "print(a[-1])\n",
    "    "
   ]
  },
  {
   "cell_type": "code",
   "execution_count": null,
   "id": "f249aee3-c5e7-4f84-b36f-0cc87c4233ef",
   "metadata": {},
   "outputs": [],
   "source": []
  }
 ],
 "metadata": {
  "kernelspec": {
   "display_name": "Python 3 (ipykernel)",
   "language": "python",
   "name": "python3"
  },
  "language_info": {
   "codemirror_mode": {
    "name": "ipython",
    "version": 3
   },
   "file_extension": ".py",
   "mimetype": "text/x-python",
   "name": "python",
   "nbconvert_exporter": "python",
   "pygments_lexer": "ipython3",
   "version": "3.8.5"
  }
 },
 "nbformat": 4,
 "nbformat_minor": 5
}
