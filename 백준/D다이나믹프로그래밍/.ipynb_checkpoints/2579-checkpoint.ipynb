{
 "cells": [
  {
   "cell_type": "code",
   "execution_count": 23,
   "id": "55da1d7f-70fe-4975-9e5f-2fd102444e8d",
   "metadata": {},
   "outputs": [
    {
     "name": "stdin",
     "output_type": "stream",
     "text": [
      " 1\n",
      " 1\n"
     ]
    }
   ],
   "source": [
    "n = int(input())\n",
    "\n",
    "s = [0]\n",
    "for i in range(n):\n",
    "    s.append(int(input()))\n"
   ]
  },
  {
   "cell_type": "code",
   "execution_count": null,
   "id": "f053bdd1-da3c-433e-9949-6a28f039d670",
   "metadata": {},
   "outputs": [],
   "source": [
    "# a[x] 는 바로 전계단을 밟지 않았을 때\n",
    "# b[x] 는 바로 전계단을 밟았을때. \n",
    "'''\n",
    "a[6]: s[6] + max(a[4],b[4])\n",
    "b[6] : s[6]+s[5] + max(a[3],b[3])\n",
    "'''"
   ]
  },
  {
   "cell_type": "code",
   "execution_count": 24,
   "id": "ed001c4e-85a6-4f70-83d3-96daf30d6c23",
   "metadata": {},
   "outputs": [
    {
     "name": "stdout",
     "output_type": "stream",
     "text": [
      "1\n"
     ]
    }
   ],
   "source": [
    "a= [0]*(n+1)\n",
    "b= [0]*(n+1)\n",
    "a[1] = s[1]\n",
    "b[1]= s[1]\n",
    "for i in range(2,n+1):\n",
    "    a[i]= s[i] + max(a[i-2],b[i-2])\n",
    "\n",
    "    if i>2:\n",
    "        b[i] = s[i]+s[i-1] + max(a[i-3],b[i-3])\n",
    "    else:\n",
    "        b[i] = s[i]+s[i-1]\n",
    "print(max(a[-1],b[-1]))\n"
   ]
  },
  {
   "cell_type": "code",
   "execution_count": null,
   "id": "57390e2a-eaa3-4ba4-9a71-afb32098d005",
   "metadata": {},
   "outputs": [],
   "source": []
  }
 ],
 "metadata": {
  "kernelspec": {
   "display_name": "Python 3 (ipykernel)",
   "language": "python",
   "name": "python3"
  },
  "language_info": {
   "codemirror_mode": {
    "name": "ipython",
    "version": 3
   },
   "file_extension": ".py",
   "mimetype": "text/x-python",
   "name": "python",
   "nbconvert_exporter": "python",
   "pygments_lexer": "ipython3",
   "version": "3.8.5"
  }
 },
 "nbformat": 4,
 "nbformat_minor": 5
}
