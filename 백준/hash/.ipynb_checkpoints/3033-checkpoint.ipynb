{
 "cells": [
  {
   "cell_type": "code",
   "execution_count": 34,
   "id": "8e3359bc-fb10-4fda-bc0d-02e3e1e4dc49",
   "metadata": {},
   "outputs": [
    {
     "name": "stdin",
     "output_type": "stream",
     "text": [
      " 11\n",
      " sabcabcfabc\n"
     ]
    }
   ],
   "source": []
  },
  {
   "cell_type": "code",
   "execution_count": 67,
   "id": "baa5945b-8ecc-4a2e-8dc7-b01f7c9132ac",
   "metadata": {},
   "outputs": [
    {
     "name": "stdin",
     "output_type": "stream",
     "text": [
      " 6\n",
      " avbnhj\n"
     ]
    },
    {
     "name": "stdout",
     "output_type": "stream",
     "text": [
      "None\n"
     ]
    }
   ],
   "source": [
    "n = int(input())\n",
    "s = input()\n",
    "# 해쉬 계산을 위한 준비물(모드, 파워)\n",
    "mod = 1e9 +7\n",
    "po = [0]*n\n",
    "po[0] = 1\n",
    "for i in range(1, n): # power 계산 해놓기 \n",
    "    po[i] = po[i-1]*31 %mod\n",
    "\n",
    "start = 1\n",
    "end = n-1\n",
    "answer =0\n",
    "\n",
    "def found_function(mid):\n",
    "    found = False\n",
    "    # 첫 해쉬값 구하기 \n",
    "    hash_ =0 \n",
    "    for i in range(mid):\n",
    "        hash_ *= 31\n",
    "        hash_ %= mod\n",
    "        hash_ += ord(s[i]) -ord('a')+1\n",
    "        hash_ %= mod \n",
    "    \n",
    "    check = {}\n",
    "    for i in range(len(s)-mid+1):\n",
    "        if hash_ in check:\n",
    "            for j in check[hash_]:\n",
    "                if s[j:j+mid] == s[i:i+mid]:\n",
    "                    found =True\n",
    "                    break\n",
    "            check[hash_].append(i)\n",
    "            if found :\n",
    "                break\n",
    "            #found = True\n",
    "            #break\n",
    "        else:\n",
    "            check[hash_] = [i]\n",
    "        \n",
    "        hash_front = (ord(s[i])-ord('a')+1) * po[mid-1]\n",
    "        hash_front %=mod\n",
    "        hash_ -= hash_front\n",
    "        hash_ +=mod\n",
    "        hash_%= mod\n",
    "    \n",
    "        # 끝자리 더하기\n",
    "        hash_ *=31\n",
    "        hash_ %=mod\n",
    "        if i+mid < len(s):\n",
    "            hash_ += ord(s[i+mid]) - ord('a')+1\n",
    "            hash_ %=mod\n",
    "    return found    \n",
    "    \n",
    "\n",
    "\n",
    "while start<= end:\n",
    "    mid = (start + end)//2\n",
    "\n",
    "    found = found_function(mid)\n",
    "\n",
    "    \n",
    "    if found:\n",
    "        start = mid+1\n",
    "        answer = mid\n",
    "    else: \n",
    "        end = mid -1 \n",
    "\n",
    "print(answer)       \n"
   ]
  },
  {
   "cell_type": "code",
   "execution_count": 37,
   "id": "810878f4-041f-41d7-b1a4-f8944b4c22b0",
   "metadata": {},
   "outputs": [
    {
     "data": {
      "text/plain": [
       "'sabcabcfabc'"
      ]
     },
     "execution_count": 37,
     "metadata": {},
     "output_type": "execute_result"
    }
   ],
   "source": [
    "s"
   ]
  },
  {
   "cell_type": "code",
   "execution_count": 38,
   "id": "8c08894c-aa96-4409-b4a7-648f32df0bbb",
   "metadata": {},
   "outputs": [
    {
     "name": "stdout",
     "output_type": "stream",
     "text": [
      "0\n",
      "1\n",
      "2\n",
      "3\n",
      "4\n",
      "5\n"
     ]
    }
   ],
   "source": [
    "mid = 6\n",
    "for i in range(len(s)-mid+1):\n",
    "    print(i)"
   ]
  },
  {
   "cell_type": "code",
   "execution_count": 41,
   "id": "2398fdc0-3940-4857-93db-2fa156a5ed68",
   "metadata": {},
   "outputs": [],
   "source": [
    "#쉬값 구하기 \n",
    "hash =1"
   ]
  },
  {
   "cell_type": "code",
   "execution_count": 42,
   "id": "7fab8019-07d8-4504-bb3a-1d4e6aa4bbd0",
   "metadata": {},
   "outputs": [
    {
     "data": {
      "text/plain": [
       "1"
      ]
     },
     "execution_count": 42,
     "metadata": {},
     "output_type": "execute_result"
    }
   ],
   "source": [
    "hash"
   ]
  },
  {
   "cell_type": "code",
   "execution_count": null,
   "id": "e50324d6-2fc3-47dd-b473-8c8056ab7d85",
   "metadata": {},
   "outputs": [],
   "source": []
  },
  {
   "cell_type": "code",
   "execution_count": null,
   "id": "ac281268-bc51-4910-b273-10beea6b0684",
   "metadata": {},
   "outputs": [],
   "source": []
  }
 ],
 "metadata": {
  "kernelspec": {
   "display_name": "Python 3 (ipykernel)",
   "language": "python",
   "name": "python3"
  },
  "language_info": {
   "codemirror_mode": {
    "name": "ipython",
    "version": 3
   },
   "file_extension": ".py",
   "mimetype": "text/x-python",
   "name": "python",
   "nbconvert_exporter": "python",
   "pygments_lexer": "ipython3",
   "version": "3.8.5"
  }
 },
 "nbformat": 4,
 "nbformat_minor": 5
}
