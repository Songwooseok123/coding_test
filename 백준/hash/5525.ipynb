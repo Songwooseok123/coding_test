{
 "cells": [
  {
   "cell_type": "markdown",
   "id": "41810623-07ea-4b6b-b8df-04d997fdf578",
   "metadata": {},
   "source": [
    "# 모범답안\n",
    "- 패캠 모범답안은 시간초과뜸"
   ]
  },
  {
   "cell_type": "code",
   "execution_count": 21,
   "id": "3c80dfb4-2a1d-4fd7-ac43-d28ae8fa289c",
   "metadata": {},
   "outputs": [
    {
     "name": "stdin",
     "output_type": "stream",
     "text": [
      " 1\n",
      " 13\n",
      " OOIOIOIOIIOII\n"
     ]
    },
    {
     "name": "stdout",
     "output_type": "stream",
     "text": [
      "IOI OOIOIOIOIIOII\n"
     ]
    }
   ],
   "source": [
    "n = int(input())\n",
    "m = int(input())\n",
    "s = input()\n",
    "\n",
    "pn = 'I'\n",
    "for i in range(n):\n",
    "    pn+='OI'\n",
    "#print(pn, s)"
   ]
  },
  {
   "cell_type": "code",
   "execution_count": 2,
   "id": "b227ea4c-42c9-45f5-92e6-9883ff67b823",
   "metadata": {},
   "outputs": [
    {
     "name": "stdin",
     "output_type": "stream",
     "text": [
      " 2\n",
      " 13\n",
      " OOIOIOIOIIOII\n"
     ]
    },
    {
     "name": "stdout",
     "output_type": "stream",
     "text": [
      "4\n"
     ]
    }
   ],
   "source": [
    "n = int(input())\n",
    "m = int(input())\n",
    "s = input()\n",
    "\n",
    "pn = 'I'\n",
    "for i in range(n):\n",
    "    pn+='OI'\n",
    "#print(pn, s)\n",
    "# 해쉬 계산을 위한 준비물 \n",
    "\n",
    "mod = 1e9 +7 # 나눌값 \n",
    "\n",
    "pn_hash = 0\n",
    "#pn='IOI'\n",
    "for i in range(len(pn)):\n",
    "    pn_hash *=31\n",
    "    pn_hash %= mod   \n",
    "    pn_hash += ord(pn[i])-ord('A')+1\n",
    "    pn_hash %= mod\n",
    "#print(pn_hash)\n",
    "\n",
    "\n",
    "# s의 부분 문자열의 해쉬값 계산 \n",
    "## 첫번째는 일단 직접계산\n",
    "# 모든 연산 뒤에는 mod로 나눈다. \n",
    "s_hash = 0\n",
    "for i in range(len(pn)):\n",
    "    s_hash *=31\n",
    "    s_hash %= mod\n",
    "    s_hash += ord(s[i]) -ord('A') +1\n",
    "    s_hash%=mod\n",
    "\n",
    "\n",
    "po = []\n",
    "po.append(1) # 31진접 곱할 값\n",
    "for i in range(1,m):\n",
    "    po.append(po[i-1]*31%mod)\n",
    "    \n",
    "count=0\n",
    "for i in range(len(s)-len(pn)+1):\n",
    "    if s_hash == pn_hash:\n",
    "        count +=1\n",
    "    # 부분 s_hash 갱신\n",
    "    front_hash = (   (ord(s[i])- ord('A')+1) * po[len(pn)-1]  ) # 맨 앞자리 hash 값 계산 \n",
    "    front_hash %=mod\n",
    "    s_hash -= front_hash # 뺄셈이 오면 음수가 될 수 있으므로 다시 mod를 더해준다. \n",
    "    s_hash += mod # mod를 더하는 연산을 했으니까 다시 mod로 나눠줌 \n",
    "    s_hash %=mod\n",
    "\n",
    "    ## 끝짜리 더하기\n",
    "    s_hash*=31\n",
    "    s_hash %=mod\n",
    "    if i+len(pn)< len(s):\n",
    "        s_hash += ord(s[i+len(pn)])-ord('A')+1\n",
    "        s_hash %=mod\n",
    "print(count)\n"
   ]
  },
  {
   "cell_type": "code",
   "execution_count": null,
   "id": "a6a527e9-2ab8-4423-9ece-9e4f6df61958",
   "metadata": {},
   "outputs": [],
   "source": []
  }
 ],
 "metadata": {
  "kernelspec": {
   "display_name": "Python 3 (ipykernel)",
   "language": "python",
   "name": "python3"
  },
  "language_info": {
   "codemirror_mode": {
    "name": "ipython",
    "version": 3
   },
   "file_extension": ".py",
   "mimetype": "text/x-python",
   "name": "python",
   "nbconvert_exporter": "python",
   "pygments_lexer": "ipython3",
   "version": "3.8.5"
  }
 },
 "nbformat": 4,
 "nbformat_minor": 5
}
