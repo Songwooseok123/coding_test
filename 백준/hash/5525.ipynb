{
 "cells": [
  {
   "cell_type": "markdown",
   "id": "41810623-07ea-4b6b-b8df-04d997fdf578",
   "metadata": {},
   "source": [
    "# 모범답안\n",
    "- 패캠 모범답안은 시간초과뜸"
   ]
  },
  {
   "cell_type": "code",
   "execution_count": 21,
   "id": "3c80dfb4-2a1d-4fd7-ac43-d28ae8fa289c",
   "metadata": {},
   "outputs": [
    {
     "name": "stdin",
     "output_type": "stream",
     "text": [
      " 1\n",
      " 13\n",
      " OOIOIOIOIIOII\n"
     ]
    },
    {
     "name": "stdout",
     "output_type": "stream",
     "text": [
      "IOI OOIOIOIOIIOII\n"
     ]
    }
   ],
   "source": [
    "n = int(input())\n",
    "m = int(input())\n",
    "s = input()\n",
    "\n",
    "pn = 'I'\n",
    "for i in range(n):\n",
    "    pn+='OI'\n",
    "#print(pn, s)"
   ]
  },
  {
   "cell_type": "code",
   "execution_count": 2,
   "id": "b227ea4c-42c9-45f5-92e6-9883ff67b823",
   "metadata": {},
   "outputs": [
    {
     "name": "stdin",
     "output_type": "stream",
     "text": [
      " 2\n",
      " 13\n",
      " OOIOIOIOIIOII\n"
     ]
    },
    {
     "name": "stdout",
     "output_type": "stream",
     "text": [
      "4\n"
     ]
    }
   ],
   "source": [
    "n = int(input())\n",
    "m = int(input())\n",
    "s = input()\n",
    "\n",
    "pn = 'I'\n",
    "for i in range(n):\n",
    "    pn+='OI'\n",
    "#print(pn, s)\n",
    "# 해쉬 계산을 위한 준비물 \n",
    "\n",
    "mod = 1e9 +7 # 나눌값 \n",
    "\n",
    "pn_hash = 0\n",
    "#pn='IOI'\n",
    "for i in range(len(pn)):\n",
    "    pn_hash *=31\n",
    "    pn_hash %= mod   \n",
    "    pn_hash += ord(pn[i])-ord('A')+1\n",
    "    pn_hash %= mod\n",
    "#print(pn_hash)\n",
    "\n",
    "\n",
    "# s의 부분 문자열의 해쉬값 계산 \n",
    "## 첫번째는 일단 직접계산\n",
    "# 모든 연산 뒤에는 mod로 나눈다. \n",
    "s_hash = 0\n",
    "for i in range(len(pn)):\n",
    "    s_hash *=31\n",
    "    s_hash %= mod\n",
    "    s_hash += ord(s[i]) -ord('A') +1\n",
    "    s_hash%=mod\n",
    "\n",
    "\n",
    "po = []\n",
    "po.append(1) # 31진접 곱할 값\n",
    "for i in range(1,m):\n",
    "    po.append(po[i-1]*31%mod)\n",
    "    \n",
    "count=0\n",
    "for i in range(len(s)-len(pn)+1):\n",
    "    if s_hash == pn_hash:\n",
    "        count +=1\n",
    "    # 부분 s_hash 갱신\n",
    "    front_hash = (   (ord(s[i])- ord('A')+1) * po[len(pn)-1]  ) # 맨 앞자리 hash 값 계산 \n",
    "    front_hash %=mod\n",
    "    s_hash -= front_hash # 뺄셈이 오면 음수가 될 수 있으므로 다시 mod를 더해준다. \n",
    "    s_hash += mod # mod를 더하는 연산을 했으니까 다시 mod로 나눠줌 \n",
    "    s_hash %=mod\n",
    "\n",
    "    ## 끝짜리 더하기\n",
    "    s_hash*=31\n",
    "    s_hash %=mod\n",
    "    if i+len(pn)< len(s):\n",
    "        s_hash += ord(s[i+len(pn)])-ord('A')+1\n",
    "        s_hash %=mod\n",
    "print(count)\n"
   ]
  },
  {
   "cell_type": "markdown",
   "id": "fb891bd7-22ed-43d5-b5a0-31ee7f04050c",
   "metadata": {},
   "source": [
    "# hash로 풀면 시간초과 나서 다르게 풀면\n",
    "- IOI 가 등장하면 이후 2칸이동해서 또 IOI 인지 판단\n",
    "- count 쌓다가 count가 N이 되면 정답이니까 answer +=1\n",
    "    - 하고 count 1 빼주고 \n",
    "- count 쌓다가도 다른 문자열 만나면 걍 count =0"
   ]
  },
  {
   "cell_type": "code",
   "execution_count": null,
   "id": "63b02d09-6d7e-4a73-94f0-f691ce34b3ee",
   "metadata": {},
   "outputs": [],
   "source": [
    "N = int(input())\n",
    "M = int(input())\n",
    "S = input()\n",
    "answer, i, count = 0, 0, 0\n",
    "\n",
    "while i < (M - 1):\n",
    "    if S[i:i+3] == 'IOI':\n",
    "        i += 2\n",
    "        count += 1\n",
    "        if count == N:\n",
    "            answer += 1\n",
    "            count -= 1\n",
    "    else:\n",
    "        i += 1\n",
    "        count = 0\n",
    "\n",
    "print(answer)"
   ]
  }
 ],
 "metadata": {
  "kernelspec": {
   "display_name": "Python 3 (ipykernel)",
   "language": "python",
   "name": "python3"
  },
  "language_info": {
   "codemirror_mode": {
    "name": "ipython",
    "version": 3
   },
   "file_extension": ".py",
   "mimetype": "text/x-python",
   "name": "python",
   "nbconvert_exporter": "python",
   "pygments_lexer": "ipython3",
   "version": "3.8.5"
  }
 },
 "nbformat": 4,
 "nbformat_minor": 5
}
