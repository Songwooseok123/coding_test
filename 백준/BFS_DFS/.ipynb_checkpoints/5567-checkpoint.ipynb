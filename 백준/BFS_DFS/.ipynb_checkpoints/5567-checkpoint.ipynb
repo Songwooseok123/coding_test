{
 "cells": [
  {
   "cell_type": "code",
   "execution_count": 6,
   "id": "21122ffc-dfd3-464a-913b-66d58083a1e1",
   "metadata": {},
   "outputs": [
    {
     "name": "stdin",
     "output_type": "stream",
     "text": [
      " 6\n",
      " 5\n",
      " 1 2\n",
      " 1 3\n",
      " 3 4\n",
      " 2 3\n",
      " 4 5\n"
     ]
    },
    {
     "data": {
      "text/plain": [
       "[[1, 2], [0, 2], [0, 3, 1], [2, 4], [3], []]"
      ]
     },
     "execution_count": 6,
     "metadata": {},
     "output_type": "execute_result"
    }
   ],
   "source": [
    "n = int(input()) # 동기수 \n",
    "link_n = int(input())\n",
    "adj_list = [[] for i in range(n)]\n",
    "for i in range(link_n):\n",
    "    a,b = list(map(int,input().split()))\n",
    "    adj_list[a-1].append(b-1)\n",
    "    adj_list[b-1].append(a-1)\n",
    "adj_list     "
   ]
  },
  {
   "cell_type": "code",
   "execution_count": 31,
   "id": "b3405b44-0eb3-42be-ab5a-eaed902d2a9b",
   "metadata": {},
   "outputs": [
    {
     "data": {
      "text/plain": [
       "[[1, 2], [0, 2], [0, 3, 1], [2, 4], [3], []]"
      ]
     },
     "execution_count": 31,
     "metadata": {},
     "output_type": "execute_result"
    }
   ],
   "source": [
    "adj_list"
   ]
  },
  {
   "cell_type": "markdown",
   "id": "a5b246b1-bfc9-4136-a741-848cfdae6224",
   "metadata": {},
   "source": [
    "# 모범답안\n",
    "- 1. 친구배열만들기\n",
    "- 2. 친구의 친구배열만들기 "
   ]
  },
  {
   "cell_type": "code",
   "execution_count": 13,
   "id": "0deda882-745d-4cb7-8fdd-cb940f8901c5",
   "metadata": {},
   "outputs": [
    {
     "name": "stdout",
     "output_type": "stream",
     "text": [
      "3\n"
     ]
    }
   ],
   "source": [
    "# 1. 친구배열만들기 \n",
    "friend = [0]*n\n",
    "for i in adj_list[0]:\n",
    "    friend[i]=1\n",
    "# 2. 친구의친구배열 만들기 \n",
    "friend_friend = [0]*n\n",
    "for i in range(n):\n",
    "    if friend[i]==0:\n",
    "        continue\n",
    "    for j in adj_list[i]:\n",
    "        if j!=0 and  friend[j] ==0: # 친구의 친구가 상근이도 아니고, 친구도 아니어야됨 \n",
    "            friend_friend[j] =1\n",
    "print(sum(friend+friend_friend))"
   ]
  },
  {
   "cell_type": "markdown",
   "id": "1ed1e165-47df-485b-84fe-46ca5c0de774",
   "metadata": {},
   "source": [
    "# bfs로 풀기 "
   ]
  },
  {
   "cell_type": "code",
   "execution_count": null,
   "id": "d6a1b6c7-5c1d-4f03-95fb-765523045a26",
   "metadata": {},
   "outputs": [],
   "source": [
    "from collections import deque\n",
    "\n",
    "n = int(input())\n",
    "m = int(input())\n",
    "\n",
    "adj = [[] for _ in range(n)]\n",
    "for _ in range(m):\n",
    "    a, b = map(int, input().split())\n",
    "    adj[a-1].append(b-1)\n",
    "    adj[b-1].append(a-1)\n",
    "\n",
    "visited = [False]*n\n",
    "queue = deque()\n",
    "queue.append((0, 0))  # (노드, 깊이)\n",
    "visited[0] = True\n",
    "count = 0\n",
    "\n",
    "while queue:\n",
    "    node, depth = queue.popleft()\n",
    "    if 1 <= depth <= 2:\n",
    "        count += 1\n",
    "    if depth >= 2:\n",
    "        continue\n",
    "    for neighbor in adj[node]:\n",
    "        if not visited[neighbor]:\n",
    "            visited[neighbor] = True\n",
    "            queue.append((neighbor, depth+1))\n",
    "\n",
    "print(count)\n"
   ]
  }
 ],
 "metadata": {
  "kernelspec": {
   "display_name": "Python 3 (ipykernel)",
   "language": "python",
   "name": "python3"
  },
  "language_info": {
   "codemirror_mode": {
    "name": "ipython",
    "version": 3
   },
   "file_extension": ".py",
   "mimetype": "text/x-python",
   "name": "python",
   "nbconvert_exporter": "python",
   "pygments_lexer": "ipython3",
   "version": "3.8.5"
  }
 },
 "nbformat": 4,
 "nbformat_minor": 5
}
