{
 "cells": [
  {
   "cell_type": "markdown",
   "id": "11e3fa22-e4de-4aa9-9472-567b3fcb31aa",
   "metadata": {},
   "source": [
    "# DFS로풀면 쉬운데..."
   ]
  },
  {
   "cell_type": "code",
   "execution_count": 7,
   "id": "42f773e3-4068-4208-8754-e1d09c1731d7",
   "metadata": {
    "collapsed": true,
    "jupyter": {
     "outputs_hidden": true
    }
   },
   "outputs": [
    {
     "ename": "KeyboardInterrupt",
     "evalue": "Interrupted by user",
     "output_type": "error",
     "traceback": [
      "\u001b[1;31m---------------------------------------------------------------------------\u001b[0m",
      "\u001b[1;31mKeyboardInterrupt\u001b[0m                         Traceback (most recent call last)",
      "Input \u001b[1;32mIn [7]\u001b[0m, in \u001b[0;36m<cell line: 1>\u001b[1;34m()\u001b[0m\n\u001b[1;32m----> 1\u001b[0m n \u001b[38;5;241m=\u001b[39m \u001b[38;5;28mint\u001b[39m(\u001b[38;5;28;43minput\u001b[39;49m\u001b[43m(\u001b[49m\u001b[43m)\u001b[49m)\n\u001b[0;32m      2\u001b[0m m \u001b[38;5;241m=\u001b[39m \u001b[38;5;28mint\u001b[39m(\u001b[38;5;28minput\u001b[39m())\n\u001b[0;32m      4\u001b[0m adj \u001b[38;5;241m=\u001b[39m [[] \u001b[38;5;28;01mfor\u001b[39;00m _ \u001b[38;5;129;01min\u001b[39;00m \u001b[38;5;28mrange\u001b[39m(n)]\n",
      "File \u001b[1;32m~\\miniconda3\\lib\\site-packages\\ipykernel\\kernelbase.py:1282\u001b[0m, in \u001b[0;36mKernel.raw_input\u001b[1;34m(self, prompt)\u001b[0m\n\u001b[0;32m   1280\u001b[0m     msg \u001b[38;5;241m=\u001b[39m \u001b[38;5;124m\"\u001b[39m\u001b[38;5;124mraw_input was called, but this frontend does not support input requests.\u001b[39m\u001b[38;5;124m\"\u001b[39m\n\u001b[0;32m   1281\u001b[0m     \u001b[38;5;28;01mraise\u001b[39;00m StdinNotImplementedError(msg)\n\u001b[1;32m-> 1282\u001b[0m \u001b[38;5;28;01mreturn\u001b[39;00m \u001b[38;5;28;43mself\u001b[39;49m\u001b[38;5;241;43m.\u001b[39;49m\u001b[43m_input_request\u001b[49m\u001b[43m(\u001b[49m\n\u001b[0;32m   1283\u001b[0m \u001b[43m    \u001b[49m\u001b[38;5;28;43mstr\u001b[39;49m\u001b[43m(\u001b[49m\u001b[43mprompt\u001b[49m\u001b[43m)\u001b[49m\u001b[43m,\u001b[49m\n\u001b[0;32m   1284\u001b[0m \u001b[43m    \u001b[49m\u001b[38;5;28;43mself\u001b[39;49m\u001b[38;5;241;43m.\u001b[39;49m\u001b[43m_parent_ident\u001b[49m\u001b[43m[\u001b[49m\u001b[38;5;124;43m\"\u001b[39;49m\u001b[38;5;124;43mshell\u001b[39;49m\u001b[38;5;124;43m\"\u001b[39;49m\u001b[43m]\u001b[49m\u001b[43m,\u001b[49m\n\u001b[0;32m   1285\u001b[0m \u001b[43m    \u001b[49m\u001b[38;5;28;43mself\u001b[39;49m\u001b[38;5;241;43m.\u001b[39;49m\u001b[43mget_parent\u001b[49m\u001b[43m(\u001b[49m\u001b[38;5;124;43m\"\u001b[39;49m\u001b[38;5;124;43mshell\u001b[39;49m\u001b[38;5;124;43m\"\u001b[39;49m\u001b[43m)\u001b[49m\u001b[43m,\u001b[49m\n\u001b[0;32m   1286\u001b[0m \u001b[43m    \u001b[49m\u001b[43mpassword\u001b[49m\u001b[38;5;241;43m=\u001b[39;49m\u001b[38;5;28;43;01mFalse\u001b[39;49;00m\u001b[43m,\u001b[49m\n\u001b[0;32m   1287\u001b[0m \u001b[43m\u001b[49m\u001b[43m)\u001b[49m\n",
      "File \u001b[1;32m~\\miniconda3\\lib\\site-packages\\ipykernel\\kernelbase.py:1325\u001b[0m, in \u001b[0;36mKernel._input_request\u001b[1;34m(self, prompt, ident, parent, password)\u001b[0m\n\u001b[0;32m   1322\u001b[0m \u001b[38;5;28;01mexcept\u001b[39;00m \u001b[38;5;167;01mKeyboardInterrupt\u001b[39;00m:\n\u001b[0;32m   1323\u001b[0m     \u001b[38;5;66;03m# re-raise KeyboardInterrupt, to truncate traceback\u001b[39;00m\n\u001b[0;32m   1324\u001b[0m     msg \u001b[38;5;241m=\u001b[39m \u001b[38;5;124m\"\u001b[39m\u001b[38;5;124mInterrupted by user\u001b[39m\u001b[38;5;124m\"\u001b[39m\n\u001b[1;32m-> 1325\u001b[0m     \u001b[38;5;28;01mraise\u001b[39;00m \u001b[38;5;167;01mKeyboardInterrupt\u001b[39;00m(msg) \u001b[38;5;28;01mfrom\u001b[39;00m \u001b[38;5;28mNone\u001b[39m\n\u001b[0;32m   1326\u001b[0m \u001b[38;5;28;01mexcept\u001b[39;00m \u001b[38;5;167;01mException\u001b[39;00m:\n\u001b[0;32m   1327\u001b[0m     \u001b[38;5;28mself\u001b[39m\u001b[38;5;241m.\u001b[39mlog\u001b[38;5;241m.\u001b[39mwarning(\u001b[38;5;124m\"\u001b[39m\u001b[38;5;124mInvalid Message:\u001b[39m\u001b[38;5;124m\"\u001b[39m, exc_info\u001b[38;5;241m=\u001b[39m\u001b[38;5;28;01mTrue\u001b[39;00m)\n",
      "\u001b[1;31mKeyboardInterrupt\u001b[0m: Interrupted by user"
     ]
    }
   ],
   "source": [
    "n = int(input())\n",
    "m = int(input())\n",
    "\n",
    "adj = [[] for _ in range(n)]\n",
    "\n",
    "for i in range(m):\n",
    "    a,b = list(map(int,input().split()))\n",
    "    adj[a-1].append(b-1)\n",
    "    adj[b-1].append(a-1)\n",
    "\n",
    "visit = [False]*n\n",
    "\n",
    "def dfs(node):\n",
    "    visit[node] =True\n",
    "    for j in adj[node]:\n",
    "        if visit[j] ==False:\n",
    "            dfs(j)\n",
    "    return visit\n",
    "\n",
    "aa= dfs(0)\n",
    "print(sum(aa)-1)\n"
   ]
  },
  {
   "cell_type": "markdown",
   "id": "2b5613d6-c388-4f94-bc7a-d61d4de30b9a",
   "metadata": {},
   "source": [
    "# 예전엔 이렇게 풀었었음. "
   ]
  },
  {
   "cell_type": "code",
   "execution_count": null,
   "id": "959b773c-402a-47f8-b350-1560e0b1a3c2",
   "metadata": {},
   "outputs": [],
   "source": [
    "black = [0]*n\n",
    "black[0] =1\n",
    "\n",
    "\n",
    "while True:\n",
    "    new_black = False # 이번 차례에서 새로운 감염이 일어났는지 \n",
    "    for i in range(n): # black 갯수임  /\n",
    "        if black[i] ==0: # 복잡도는 확인하는 거니까 O(1)-> FOR문 돌아서 N번 확인해야 되므로 O(N)\n",
    "            continue\n",
    "        \n",
    "        for j in adj_list[i]:  # 여기 FOR문 때문에 O(N* 간선 수 ) 가 될것 같지만, 이미 감염된 노드는 다시 감염을안시킴 따라서 간선 갯수만큼만 보면 됨 -> 이중 FOR문 합처서 O(E)\n",
    "            if black[j] ==0:\n",
    "                black[j]=1\n",
    "                new_black = True\n",
    "    if new_black ==False:\n",
    "        break\n",
    "    #print(black_index,black)\n",
    "print(sum(black)-1)"
   ]
  },
  {
   "cell_type": "markdown",
   "id": "38a0d7ee-f61e-4ded-bc51-d58753117537",
   "metadata": {},
   "source": [
    "# BFS로도 풀어봐야지"
   ]
  },
  {
   "cell_type": "code",
   "execution_count": 11,
   "id": "13256ba7-55a7-4cfe-be3e-b8c001a1b370",
   "metadata": {},
   "outputs": [
    {
     "name": "stdout",
     "output_type": "stream",
     "text": [
      "4\n"
     ]
    }
   ],
   "source": [
    "n = int(input())\n",
    "m = int(input())\n",
    "\n",
    "adj = [[] for _ in range(n)]\n",
    "\n",
    "for i in range(m):\n",
    "    a,b = list(map(int,input().split()))\n",
    "    adj[a-1].append(b-1)\n",
    "    adj[b-1].append(a-1)\n",
    "from collections import deque\n",
    "visit = [False]*n\n",
    "queue = deque()\n",
    "\n",
    "i = 0\n",
    "queue.append(i)\n",
    "visit[i] =True\n",
    "\n",
    "while queue:\n",
    "    u = queue.popleft()\n",
    "    for j in adj[u]:\n",
    "        if visit[j] ==False:\n",
    "            queue.append(j)\n",
    "            visit[j]=True\n",
    "print(sum(visit)-1)"
   ]
  },
  {
   "cell_type": "code",
   "execution_count": null,
   "id": "8a7c65bc-7cd9-4109-b1ea-7dc59614bbd6",
   "metadata": {},
   "outputs": [],
   "source": []
  }
 ],
 "metadata": {
  "kernelspec": {
   "display_name": "Python 3 (ipykernel)",
   "language": "python",
   "name": "python3"
  },
  "language_info": {
   "codemirror_mode": {
    "name": "ipython",
    "version": 3
   },
   "file_extension": ".py",
   "mimetype": "text/x-python",
   "name": "python",
   "nbconvert_exporter": "python",
   "pygments_lexer": "ipython3",
   "version": "3.8.5"
  }
 },
 "nbformat": 4,
 "nbformat_minor": 5
}
