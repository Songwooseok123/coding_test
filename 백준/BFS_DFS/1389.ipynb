{
 "cells": [
  {
   "cell_type": "code",
   "execution_count": null,
   "id": "a2f7d538-4bf5-4b3d-b3ad-76096e34e2d7",
   "metadata": {},
   "outputs": [],
   "source": [
    "v,m = list(map(int,input().split()))\n",
    "adj = [[] for i in range(v)]\n",
    "for i in range(m):\n",
    "    a,b = list(map(int,input().split()))\n",
    "    adj[a-1].append(b-1)\n",
    "    adj[b-1].append(a-1)\n",
    "adj\n",
    "\n",
    "from collections import deque\n",
    "\n",
    "answer = 0\n",
    "k_sum = 1e9\n",
    "for i in range(v):\n",
    "    node = i \n",
    "    \n",
    "    visit = [False]*v\n",
    "    shortest_d = [0]*v\n",
    "    \n",
    "    queue = deque()\n",
    "    queue.append(node)\n",
    "    visit[node] = True\n",
    "    \n",
    "    while queue:\n",
    "        candidate = queue.popleft()\n",
    "        for j in adj[candidate]:\n",
    "            if visit[j] ==False:\n",
    "                queue.append(j)\n",
    "                visit[j]= True\n",
    "                shortest_d[j] = shortest_d[candidate] +1\n",
    "    \n",
    "    if k_sum > sum(shortest_d) :\n",
    "        k_sum = sum(shortest_d)\n",
    "        answer = i     \n",
    "    \n",
    "print(answer +1)\n"
   ]
  }
 ],
 "metadata": {
  "kernelspec": {
   "display_name": "Python 3 (ipykernel)",
   "language": "python",
   "name": "python3"
  },
  "language_info": {
   "codemirror_mode": {
    "name": "ipython",
    "version": 3
   },
   "file_extension": ".py",
   "mimetype": "text/x-python",
   "name": "python",
   "nbconvert_exporter": "python",
   "pygments_lexer": "ipython3",
   "version": "3.8.5"
  }
 },
 "nbformat": 4,
 "nbformat_minor": 5
}
