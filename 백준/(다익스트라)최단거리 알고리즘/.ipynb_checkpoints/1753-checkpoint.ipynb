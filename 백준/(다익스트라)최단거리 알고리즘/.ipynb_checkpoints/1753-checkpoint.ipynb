{
 "cells": [
  {
   "cell_type": "code",
   "execution_count": 17,
   "id": "3f1daf03-18e1-424f-b815-e3f412f83eb9",
   "metadata": {},
   "outputs": [
    {
     "name": "stdin",
     "output_type": "stream",
     "text": [
      " 5 6\n",
      " 1\n",
      " 5 1 1\n",
      " 1 2 2\n",
      " 1 3 3\n",
      " 2 3 4\n",
      " 2 4 5\n",
      " 3 4 6\n"
     ]
    }
   ],
   "source": [
    "v,e = list(map(int,input().split()))\n",
    "k = int(input())-1\n",
    "\n",
    "adj = [[] for i in range(v)]\n",
    "for i in range(e):\n",
    "    a,b,weight = list(map(int,input().split()))\n",
    "    adj[a-1].append((b-1,weight))\n",
    "    "
   ]
  },
  {
   "cell_type": "code",
   "execution_count": null,
   "id": "81ef7561-0ab1-4cf3-8ce6-888157f28a55",
   "metadata": {},
   "outputs": [],
   "source": [
    "from heapq import heappush, heappop\n",
    "\n",
    "shortest_d = [1e9]*v\n",
    "shortest_d[k] = 0\n",
    "\n",
    "ding =[]\n",
    "heappush(ding,(0,k)) # 최단 거리 개발중 원소: (거리, 노드)\n",
    "\n",
    "while ding:\n",
    "    d,node = heappop(ding)\n",
    "\n",
    "    for j in adj[node]:\n",
    "        adj_node, adj_weight = j[0],j[1]\n",
    "        updated_d = shortest_d[node]+ adj_weight\n",
    "        \n",
    "        if shortest_d[adj_node] > updated_d:\n",
    "            shortest_d[adj_node] = updated_d\n",
    "            heappush(ding, (updated_d ,adj_node))\n",
    "\n",
    "for i in range(v):\n",
    "    print(shortest_d[i] if shortest_d[i]!=1e9 else \"INF\")\n"
   ]
  }
 ],
 "metadata": {
  "kernelspec": {
   "display_name": "Python 3 (ipykernel)",
   "language": "python",
   "name": "python3"
  },
  "language_info": {
   "codemirror_mode": {
    "name": "ipython",
    "version": 3
   },
   "file_extension": ".py",
   "mimetype": "text/x-python",
   "name": "python",
   "nbconvert_exporter": "python",
   "pygments_lexer": "ipython3",
   "version": "3.8.5"
  }
 },
 "nbformat": 4,
 "nbformat_minor": 5
}
