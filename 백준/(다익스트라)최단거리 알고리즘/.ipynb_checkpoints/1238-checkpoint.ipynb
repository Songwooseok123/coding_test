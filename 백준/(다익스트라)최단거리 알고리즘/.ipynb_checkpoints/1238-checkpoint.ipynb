{
 "cells": [
  {
   "cell_type": "code",
   "execution_count": null,
   "id": "13e03229-f1da-454a-9cc8-a963e61e7bfc",
   "metadata": {},
   "outputs": [],
   "source": [
    "v,m,k = list(map(int,input().split()))\n",
    "\n",
    "k = k-1\n",
    "adj = [[] for _ in range(v)]\n",
    "reverse_adj = [[] for _ in range(v)]\n",
    "for i in range(m):\n",
    "    a,b,c = list(map(int,input().split()))\n",
    "    adj[a-1].append((b-1,c))\n",
    "    reverse_adj[b-1].append((a-1,c))\n",
    "\n",
    "from heapq import heappush, heappop\n",
    "#k=1\n",
    "\n",
    "shortest_d = [1e9]*v\n",
    "ding = []\n",
    "heappush(ding,(0,k)) # (거리, id)\n",
    "shortest_d[k] =0\n",
    "\n",
    "while ding:\n",
    "    d,node = heappop(ding)\n",
    "    if d!= shortest_d[node]:\n",
    "        continue\n",
    "    for adj_node,adj_d in adj[node]:\n",
    "        updated_d = shortest_d[node]+adj_d\n",
    "        if updated_d< shortest_d[adj_node]:\n",
    "            shortest_d[adj_node] =updated_d\n",
    "            heappush(ding,(updated_d,adj_node))\n",
    "\n",
    "#k=1\n",
    "reverse_shortest_d = [1e9]*v\n",
    "ding = []\n",
    "\n",
    "heappush(ding,(0,k)) # (거리, id)\n",
    "reverse_shortest_d[k] = 0 \n",
    "\n",
    "while ding:\n",
    "    d,node = heappop(ding)\n",
    "    if d!= reverse_shortest_d[node]:\n",
    "        continue\n",
    "    for adj_node,adj_d in reverse_adj[node]:\n",
    "        updated_d = reverse_shortest_d[node] + adj_d\n",
    "        if reverse_shortest_d[adj_node] >updated_d:\n",
    "            reverse_shortest_d[adj_node] = updated_d\n",
    "            heappush(ding,(updated_d,adj_node))\n",
    "reverse_shortest_d\n",
    "\n",
    "sum_max = 0\n",
    "for a,b in zip(shortest_d, reverse_shortest_d):\n",
    "    sum_max = max(a+b,sum_max)\n",
    "\n",
    "print(sum_max)"
   ]
  }
 ],
 "metadata": {
  "kernelspec": {
   "display_name": "Python 3 (ipykernel)",
   "language": "python",
   "name": "python3"
  },
  "language_info": {
   "codemirror_mode": {
    "name": "ipython",
    "version": 3
   },
   "file_extension": ".py",
   "mimetype": "text/x-python",
   "name": "python",
   "nbconvert_exporter": "python",
   "pygments_lexer": "ipython3",
   "version": "3.8.5"
  }
 },
 "nbformat": 4,
 "nbformat_minor": 5
}
