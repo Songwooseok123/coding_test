{
 "cells": [
  {
   "cell_type": "code",
   "execution_count": null,
   "id": "31a41080-a37d-493e-b8fc-cb679084b9be",
   "metadata": {},
   "outputs": [],
   "source": [
    "n,m = list(map(int,input().split()))\n",
    "n = int(input())"
   ]
  },
  {
   "cell_type": "code",
   "execution_count": null,
   "id": "17d9a159-ad7c-402a-b4c3-c03b6bfa33cc",
   "metadata": {},
   "outputs": [],
   "source": []
  },
  {
   "cell_type": "code",
   "execution_count": null,
   "id": "403452c0-57f5-453d-b416-3614ee2ca686",
   "metadata": {},
   "outputs": [],
   "source": []
  },
  {
   "cell_type": "code",
   "execution_count": null,
   "id": "b8e69b62-58e9-4536-b562-ce0b22802e47",
   "metadata": {},
   "outputs": [],
   "source": []
  },
  {
   "cell_type": "code",
   "execution_count": null,
   "id": "0cc9b2a5-c697-48fa-87f3-16915acb742c",
   "metadata": {},
   "outputs": [],
   "source": []
  }
 ],
 "metadata": {
  "kernelspec": {
   "display_name": "Python 3 (ipykernel)",
   "language": "python",
   "name": "python3"
  },
  "language_info": {
   "codemirror_mode": {
    "name": "ipython",
    "version": 3
   },
   "file_extension": ".py",
   "mimetype": "text/x-python",
   "name": "python",
   "nbconvert_exporter": "python",
   "pygments_lexer": "ipython3",
   "version": "3.8.5"
  }
 },
 "nbformat": 4,
 "nbformat_minor": 5
}
