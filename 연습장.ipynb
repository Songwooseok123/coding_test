{
 "cells": [
  {
   "cell_type": "code",
   "execution_count": null,
   "id": "4fe77e82-e000-4956-942a-c123a6089c01",
   "metadata": {},
   "outputs": [],
   "source": [
    "n = int(input())\n",
    "a,b = list(map(int,input().split()))\n",
    "\n",
    "for i in range(m):\n",
    "    a,b = list(map(int,input().split()))\n"
   ]
  },
  {
   "cell_type": "code",
   "execution_count": null,
   "id": "55817f1c-005f-40b5-8ad3-3a2c2ebd02d2",
   "metadata": {},
   "outputs": [],
   "source": []
  },
  {
   "cell_type": "code",
   "execution_count": null,
   "id": "cc309e76-da81-49dc-8cda-849858beba64",
   "metadata": {},
   "outputs": [],
   "source": [
    "# 리프노드란? 자식이 없는 노드: \n",
    "자식 배열을 만들어야겠네. \n"
   ]
  },
  {
   "cell_type": "code",
   "execution_count": 108,
   "id": "85415796-bf1b-4eec-8fc8-f44dfa715e7e",
   "metadata": {},
   "outputs": [
    {
     "name": "stdin",
     "output_type": "stream",
     "text": [
      " 5\n",
      " -1 0 0 1 1\n"
     ]
    }
   ],
   "source": [
    "n = int(input())\n",
    "parent= list(map(int,input().split()))\n",
    "\n"
   ]
  },
  {
   "cell_type": "code",
   "execution_count": 113,
   "id": "98ef9349-deb6-4387-9485-f2b33b8cd963",
   "metadata": {},
   "outputs": [
    {
     "name": "stdout",
     "output_type": "stream",
     "text": [
      "[-1, 0, 0, 1, 1]\n",
      "0\n"
     ]
    }
   ],
   "source": [
    "print(parent)\n",
    "print(root)"
   ]
  },
  {
   "cell_type": "code",
   "execution_count": 1,
   "id": "72d12dad-b866-4b72-8b3c-49f78489637b",
   "metadata": {},
   "outputs": [
    {
     "name": "stdin",
     "output_type": "stream",
     "text": [
      " 5\n",
      " -1 0 0 1 1\n",
      " 1\n"
     ]
    },
    {
     "ename": "NameError",
     "evalue": "name 'root' is not defined",
     "output_type": "error",
     "traceback": [
      "\u001b[1;31m---------------------------------------------------------------------------\u001b[0m",
      "\u001b[1;31mNameError\u001b[0m                                 Traceback (most recent call last)",
      "Input \u001b[1;32mIn [1]\u001b[0m, in \u001b[0;36m<cell line: 11>\u001b[1;34m()\u001b[0m\n\u001b[0;32m     15\u001b[0m     black[i] \u001b[38;5;241m=\u001b[39m \u001b[38;5;241m1\u001b[39m\n\u001b[0;32m     16\u001b[0m     \u001b[38;5;28;01mbreak\u001b[39;00m\n\u001b[1;32m---> 17\u001b[0m \u001b[38;5;28;01mif\u001b[39;00m u \u001b[38;5;241m==\u001b[39m \u001b[43mroot\u001b[49m:\n\u001b[0;32m     18\u001b[0m     \u001b[38;5;28;01mbreak\u001b[39;00m\n\u001b[0;32m     19\u001b[0m u \u001b[38;5;241m=\u001b[39m parent[u]\n",
      "\u001b[1;31mNameError\u001b[0m: name 'root' is not defined"
     ]
    }
   ],
   "source": [
    "n = int(input())\n",
    "parent= list(map(int,input().split()))\n",
    "remove = int(input())\n",
    "for i in range(n):\n",
    "    if parent[i] ==-1:\n",
    "        root = i\n",
    "        break\n",
    "# 모든 노드 돌면서 부모 타고 올라가다가 remove 만나면 검은색 칠하고 종료 \n",
    "# 부모 타고 올라가다가 remove도 계속 안 만나고 root 만나면 종료 \n",
    "black = [0]*n\n",
    "for i in range(n):\n",
    "    u = i    \n",
    "    while True:\n",
    "        if u ==remove:\n",
    "            black[i] = 1\n",
    "            break\n",
    "        if u == root:\n",
    "            break\n",
    "        u = parent[u]\n",
    "\n",
    "# 노드 다 돌면서 자식 노드 있는 애들 빨간색으로 색칠\n",
    "# 근데 black에 색칠 되어 있으면 패스 \n",
    "red = [0]*n\n",
    "for i in range(n):\n",
    "    if black[i] ==1:\n",
    "        continue\n",
    "    if i == root:   # 이거 안해주면 밑에서 parent[0], 즉 red[-1] = 2가 됨\n",
    "        continue\n",
    "    red[parent[i]] =2\n",
    "    \n",
    "#print(black)\n",
    "#print(red)\n",
    "cc =0\n",
    "for i in range(n):\n",
    "    if black[i]==0 and red[i] ==0:\n",
    "        cc +=1\n",
    "print(cc)"
   ]
  },
  {
   "cell_type": "code",
   "execution_count": null,
   "id": "4274e594-da95-412d-bdbd-eec9b873c8b7",
   "metadata": {},
   "outputs": [],
   "source": []
  },
  {
   "cell_type": "code",
   "execution_count": null,
   "id": "04a0d01c-028a-4736-9e90-31e6ec154917",
   "metadata": {},
   "outputs": [],
   "source": []
  },
  {
   "cell_type": "code",
   "execution_count": 110,
   "id": "012984c3-dc1e-4ef1-94f4-b5405ba8c083",
   "metadata": {},
   "outputs": [
    {
     "name": "stdin",
     "output_type": "stream",
     "text": [
      " 2\n"
     ]
    },
    {
     "name": "stdout",
     "output_type": "stream",
     "text": [
      "2\n"
     ]
    }
   ],
   "source": [
    "\n",
    "visit = [False]*n\n",
    "\n",
    "def delete_subtree(node):\n",
    "    for j in child[node]:\n",
    "        delete_subtree(j)\n",
    "    child[node] = -1  # 자기 자식 제거\n",
    "    visit[node] = True\n",
    "delete_subtree(kill)\n",
    "\n",
    "cc = 0\n",
    "for i in range(n):\n",
    "    if child[i] == [] and visit[i] == False:\n",
    "            cc +=1\n",
    "\n",
    "if kill == root:\n",
    "    print(cc)\n",
    "else:\n",
    "    print(cc)"
   ]
  },
  {
   "cell_type": "code",
   "execution_count": 107,
   "id": "0f1efae4-d595-419d-9113-6226bf309921",
   "metadata": {},
   "outputs": [
    {
     "name": "stdout",
     "output_type": "stream",
     "text": [
      "0\n"
     ]
    }
   ],
   "source": [
    "cc = 0\n",
    "for i in range(n):\n",
    "    if child[i] == []:\n",
    "            cc +=1\n",
    "\n",
    "if kill == root:\n",
    "    print(cc)\n",
    "else:\n",
    "    print(cc)"
   ]
  },
  {
   "cell_type": "code",
   "execution_count": 104,
   "id": "10d3bd0f-d8e5-4df2-9173-013d9e81bce8",
   "metadata": {},
   "outputs": [
    {
     "data": {
      "text/plain": [
       "[False, True, False, True, True]"
      ]
     },
     "execution_count": 104,
     "metadata": {},
     "output_type": "execute_result"
    }
   ],
   "source": [
    "visit"
   ]
  },
  {
   "cell_type": "code",
   "execution_count": 103,
   "id": "19de9088-8b05-4bc0-b37c-5ac5635417c8",
   "metadata": {},
   "outputs": [
    {
     "data": {
      "text/plain": [
       "[[1, 2], -1, [], -1, -1]"
      ]
     },
     "execution_count": 103,
     "metadata": {},
     "output_type": "execute_result"
    }
   ],
   "source": [
    "child"
   ]
  },
  {
   "cell_type": "code",
   "execution_count": 86,
   "id": "4c2536e1-2cb9-4559-a409-d2a6d76a1b23",
   "metadata": {},
   "outputs": [
    {
     "name": "stdin",
     "output_type": "stream",
     "text": [
      " 0\n"
     ]
    },
    {
     "name": "stdout",
     "output_type": "stream",
     "text": [
      "0\n"
     ]
    }
   ],
   "source": [
    "\n",
    "kill = int(input())\n",
    "visit = [False]*n\n",
    "def dfs(node):\n",
    "    visit[node] = True\n",
    "    for j in child[node]:\n",
    "        if visit[j] == False:\n",
    "            dfs(j)\n",
    "    return visit\n",
    "    \n",
    "\n",
    "\n",
    "visit = dfs(kill)\n",
    "\n",
    "cc = 0\n",
    "for i in range(n):\n",
    "    if visit[i]  == False:\n",
    "#         if all(visit[j] for j in child[i]):\n",
    "         if visit[i]  == False and child[i] == []:\n",
    "            #print(\"dfd\",i)\n",
    "            cc +=1\n",
    "\n",
    "if kill == root:\n",
    "    print(cc)\n",
    "else:\n",
    "    print(cc)"
   ]
  },
  {
   "cell_type": "code",
   "execution_count": 81,
   "id": "fc20ef87-bbc8-4d64-99b1-0ddfdfcb754d",
   "metadata": {},
   "outputs": [
    {
     "data": {
      "text/plain": [
       "[False, True, False, True, True]"
      ]
     },
     "execution_count": 81,
     "metadata": {},
     "output_type": "execute_result"
    }
   ],
   "source": [
    "visit"
   ]
  },
  {
   "cell_type": "code",
   "execution_count": 31,
   "id": "ccf2d3da-3795-4452-9ea2-6e34f83978e6",
   "metadata": {},
   "outputs": [
    {
     "data": {
      "text/plain": [
       "[False, False, True, False, False]"
      ]
     },
     "execution_count": 31,
     "metadata": {},
     "output_type": "execute_result"
    }
   ],
   "source": [
    "visit"
   ]
  },
  {
   "cell_type": "code",
   "execution_count": 59,
   "id": "e28ca06c-668a-4ad8-89c0-a0319d55538b",
   "metadata": {},
   "outputs": [
    {
     "data": {
      "text/plain": [
       "True"
      ]
     },
     "execution_count": 59,
     "metadata": {},
     "output_type": "execute_result"
    }
   ],
   "source": [
    "all(visit[c] for c in child)"
   ]
  },
  {
   "cell_type": "code",
   "execution_count": 61,
   "id": "a409b0af-4250-4d1b-ae31-0d487bd09732",
   "metadata": {},
   "outputs": [
    {
     "data": {
      "text/plain": [
       "[]"
      ]
     },
     "execution_count": 61,
     "metadata": {},
     "output_type": "execute_result"
    }
   ],
   "source": [
    "[visit[c] for c in child[i]]"
   ]
  },
  {
   "cell_type": "code",
   "execution_count": 2,
   "id": "aa02c104-01de-4a71-bc8f-da0f8ec26133",
   "metadata": {},
   "outputs": [
    {
     "name": "stdin",
     "output_type": "stream",
     "text": [
      " 5\n",
      " -1 0 0 1 1\n",
      " 1\n"
     ]
    },
    {
     "ename": "TypeError",
     "evalue": "dfs() takes 1 positional argument but 3 were given",
     "output_type": "error",
     "traceback": [
      "\u001b[1;31m---------------------------------------------------------------------------\u001b[0m",
      "\u001b[1;31mTypeError\u001b[0m                                 Traceback (most recent call last)",
      "Input \u001b[1;32mIn [2]\u001b[0m, in \u001b[0;36m<cell line: 20>\u001b[1;34m()\u001b[0m\n\u001b[0;32m     17\u001b[0m black \u001b[38;5;241m=\u001b[39m [\u001b[38;5;28;01mFalse\u001b[39;00m] \u001b[38;5;241m*\u001b[39m n\n\u001b[0;32m     19\u001b[0m \u001b[38;5;66;03m# 삭제 처리\u001b[39;00m\n\u001b[1;32m---> 20\u001b[0m \u001b[43mdfs\u001b[49m\u001b[43m(\u001b[49m\u001b[43mremove\u001b[49m\u001b[43m)\u001b[49m\n\u001b[0;32m     21\u001b[0m \u001b[38;5;66;03m# 노드 다 돌면서 자식 노드 있는 애들 빨간색으로 색칠\u001b[39;00m\n\u001b[0;32m     22\u001b[0m \u001b[38;5;66;03m# 근데 black에 색칠 되어 있으면 패스 \u001b[39;00m\n\u001b[0;32m     23\u001b[0m red \u001b[38;5;241m=\u001b[39m [\u001b[38;5;241m0\u001b[39m]\u001b[38;5;241m*\u001b[39mn\n",
      "Input \u001b[1;32mIn [2]\u001b[0m, in \u001b[0;36mdfs\u001b[1;34m(node)\u001b[0m\n\u001b[0;32m     13\u001b[0m \u001b[38;5;28;01mfor\u001b[39;00m i \u001b[38;5;129;01min\u001b[39;00m \u001b[38;5;28mrange\u001b[39m(\u001b[38;5;28mlen\u001b[39m(parent)):\n\u001b[0;32m     14\u001b[0m     \u001b[38;5;28;01mif\u001b[39;00m parent[i] \u001b[38;5;241m==\u001b[39m node:\n\u001b[1;32m---> 15\u001b[0m         \u001b[43mdfs\u001b[49m\u001b[43m(\u001b[49m\u001b[43mi\u001b[49m\u001b[43m,\u001b[49m\u001b[43m \u001b[49m\u001b[43mparent\u001b[49m\u001b[43m,\u001b[49m\u001b[43m \u001b[49m\u001b[43mblack\u001b[49m\u001b[43m)\u001b[49m\n",
      "\u001b[1;31mTypeError\u001b[0m: dfs() takes 1 positional argument but 3 were given"
     ]
    }
   ],
   "source": [
    "n = int(input())\n",
    "parent= list(map(int,input().split()))\n",
    "remove = int(input())\n",
    "for i in range(n):\n",
    "    if parent[i] ==-1:\n",
    "        root = i\n",
    "        break\n",
    "# 모든 노드 돌면서 부모 타고 올라가다가 remove 만나면 검은색 칠하고 종료 \n",
    "# 부모 타고 올라가다가 remove도 계속 안 만나고 root 만나면 종료 \n",
    "\n",
    "def dfs(node):\n",
    "    black[node] = True  # 삭제된 노드 표시\n",
    "    for i in range(len(parent)):\n",
    "        if parent[i] == node:\n",
    "            dfs(i, parent, black)\n",
    "\n",
    "black = [False] * n\n",
    "\n",
    "# 삭제 처리\n",
    "dfs(remove)\n",
    "# 노드 다 돌면서 자식 노드 있는 애들 빨간색으로 색칠\n",
    "# 근데 black에 색칠 되어 있으면 패스 \n",
    "red = [0]*n\n",
    "for i in range(n):\n",
    "    if black[i] ==1:\n",
    "        continue\n",
    "    if i == root:   # 이거 안해주면 밑에서 parent[0], 즉 red[-1] = 2가 됨\n",
    "        continue\n",
    "    red[parent[i]] =2\n",
    "    \n",
    "#print(black)\n",
    "#print(red)\n",
    "cc =0\n",
    "for i in range(n):\n",
    "    if black[i]==0 and red[i] ==0:\n",
    "        cc +=1\n",
    "print(cc)"
   ]
  },
  {
   "cell_type": "code",
   "execution_count": null,
   "id": "b268b49e-1ccf-4431-b831-73e69352c433",
   "metadata": {},
   "outputs": [],
   "source": []
  },
  {
   "cell_type": "code",
   "execution_count": null,
   "id": "aade7a7e-1c74-4edc-a6e0-614159c1af5f",
   "metadata": {},
   "outputs": [],
   "source": []
  },
  {
   "cell_type": "code",
   "execution_count": null,
   "id": "6bc12232-2269-4265-b16b-f34ffc4fc48e",
   "metadata": {},
   "outputs": [],
   "source": []
  },
  {
   "cell_type": "code",
   "execution_count": null,
   "id": "ed238bf7-a8f8-4668-92d3-ea298dd29e9e",
   "metadata": {},
   "outputs": [],
   "source": []
  },
  {
   "cell_type": "code",
   "execution_count": null,
   "id": "1ad8b264-dea5-4f1f-b565-b26054307fdd",
   "metadata": {},
   "outputs": [],
   "source": []
  },
  {
   "cell_type": "code",
   "execution_count": 12,
   "id": "013c645e-52ad-4014-8468-3310ba14c832",
   "metadata": {},
   "outputs": [
    {
     "name": "stdin",
     "output_type": "stream",
     "text": [
      " 5 3\n",
      " -1 1 2 3 4\n",
      " 2 2\n",
      " 3 4\n",
      " 5 6\n"
     ]
    }
   ],
   "source": [
    "n,m = list(map(int,input().split()))\n",
    "\n",
    "parent = list(map(int,input().split()))\n",
    "\n",
    "for i in range(1,n):\n",
    "    parent[i] = parent[i]-1\n",
    "    \n",
    "praisement = [0]*n\n",
    "for i in range(m):\n",
    "    a,b = list(map(int,input().split()))\n",
    "    praisement[a-1] = b\n",
    "#print(parent)\n",
    "#print(praisement)\n"
   ]
  },
  {
   "cell_type": "code",
   "execution_count": 14,
   "id": "0be9ddc9-7973-47ca-9dd8-79bcaa64954e",
   "metadata": {},
   "outputs": [
    {
     "data": {
      "text/plain": [
       "[0, 2, 4, 0, 6]"
      ]
     },
     "execution_count": 14,
     "metadata": {},
     "output_type": "execute_result"
    }
   ],
   "source": [
    "praisement"
   ]
  },
  {
   "cell_type": "code",
   "execution_count": 17,
   "id": "4a328ac5-9343-45ef-9034-0e9a5f4361a0",
   "metadata": {},
   "outputs": [
    {
     "data": {
      "text/plain": [
       "[0, 2, 6, 6, 12]"
      ]
     },
     "execution_count": 17,
     "metadata": {},
     "output_type": "execute_result"
    }
   ],
   "source": [
    "total_good = [0]*n\n",
    "\n",
    "for i in range(1,n):\n",
    "    total_good[i] = good[i]+total_good[parent[i]]\n",
    "\n",
    "total_good"
   ]
  },
  {
   "cell_type": "code",
   "execution_count": 13,
   "id": "7d504527-a925-4838-9413-60b20aed5aa5",
   "metadata": {},
   "outputs": [
    {
     "name": "stdout",
     "output_type": "stream",
     "text": [
      "0 2 6 6 12\n"
     ]
    }
   ],
   "source": [
    "\n",
    "\n",
    "zz = []\n",
    "for a,b in zip(parent,praisement):\n",
    "    zz.append((a,b))\n",
    "zz.sort()\n",
    "psum  = [0]*n\n",
    "psum[0] = zz[0][1]\n",
    "for i in range(1,n):\n",
    "    psum[i] = psum[i-1]+zz[i][1]\n",
    "print(*psum)"
   ]
  },
  {
   "cell_type": "code",
   "execution_count": 11,
   "id": "ff1962a3-9a7a-4043-a56c-d75e36a26f4a",
   "metadata": {},
   "outputs": [
    {
     "data": {
      "text/plain": [
       "[(-1, 0), (-1, 0), (0, 0), (1, 0), (2, 0)]"
      ]
     },
     "execution_count": 11,
     "metadata": {},
     "output_type": "execute_result"
    }
   ],
   "source": [
    "zz"
   ]
  },
  {
   "cell_type": "code",
   "execution_count": null,
   "id": "3399a237-8b9d-4ff5-87c4-28ca254bc219",
   "metadata": {},
   "outputs": [],
   "source": []
  },
  {
   "cell_type": "code",
   "execution_count": 1,
   "id": "72fb117e-60c3-4a44-99b4-1421785bfee1",
   "metadata": {},
   "outputs": [
    {
     "name": "stdin",
     "output_type": "stream",
     "text": [
      " 6\n",
      " 5\n",
      " 1 2\n",
      " 1 3\n",
      " 3 4\n",
      " 2 3\n",
      " 4 5\n"
     ]
    },
    {
     "ename": "NameError",
     "evalue": "name 'n' is not defined",
     "output_type": "error",
     "traceback": [
      "\u001b[1;31m---------------------------------------------------------------------------\u001b[0m",
      "\u001b[1;31mNameError\u001b[0m                                 Traceback (most recent call last)",
      "Input \u001b[1;32mIn [1]\u001b[0m, in \u001b[0;36m<cell line: 9>\u001b[1;34m()\u001b[0m\n\u001b[0;32m      7\u001b[0m     adj[a\u001b[38;5;241m-\u001b[39m\u001b[38;5;241m1\u001b[39m]\u001b[38;5;241m.\u001b[39mappend(b\u001b[38;5;241m-\u001b[39m\u001b[38;5;241m1\u001b[39m)\n\u001b[0;32m      8\u001b[0m     adj[b\u001b[38;5;241m-\u001b[39m\u001b[38;5;241m1\u001b[39m]\u001b[38;5;241m.\u001b[39mappend(a\u001b[38;5;241m-\u001b[39m\u001b[38;5;241m1\u001b[39m)\n\u001b[1;32m----> 9\u001b[0m visit \u001b[38;5;241m=\u001b[39m[\u001b[38;5;28;01mFalse\u001b[39;00m]\u001b[38;5;241m*\u001b[39m\u001b[43mn\u001b[49m\n\u001b[0;32m     11\u001b[0m visit[\u001b[38;5;241m0\u001b[39m] \u001b[38;5;241m=\u001b[39m \u001b[38;5;28;01mTrue\u001b[39;00m\n\u001b[0;32m     14\u001b[0m \u001b[38;5;28;01mfor\u001b[39;00m j \u001b[38;5;129;01min\u001b[39;00m adj[\u001b[38;5;241m0\u001b[39m]:\n",
      "\u001b[1;31mNameError\u001b[0m: name 'n' is not defined"
     ]
    }
   ],
   "source": [
    "v = int(input())\n",
    "e = int(input())\n",
    "\n",
    "adj  = [[] for i in range(v)]\n",
    "for i in range(e):\n",
    "    a,b = list(map(int,input().split()))\n",
    "    adj[a-1].append(b-1)\n",
    "    adj[b-1].append(a-1)\n",
    "visit =[False]*v\n",
    "\n",
    "visit[0] = True\n",
    "\n",
    "\n",
    "for j in adj[0]:\n",
    "    if visit[j] == False:\n",
    "        visit[j] =True\n",
    "    for kk in adj[j]:\n",
    "        if visit[kk] == False:\n",
    "            visit[kk] =True\n",
    "print(sum(visit)-1)       "
   ]
  },
  {
   "cell_type": "code",
   "execution_count": 32,
   "id": "cf58ac18-3430-4d50-b8f1-aa863f3218bf",
   "metadata": {},
   "outputs": [
    {
     "data": {
      "text/plain": [
       "[True, True, True, True, False]"
      ]
     },
     "execution_count": 32,
     "metadata": {},
     "output_type": "execute_result"
    }
   ],
   "source": [
    "visit =[False]*n\n",
    "\n",
    "visit[0] = True\n",
    "\n",
    "\n",
    "for j in adj[0]:\n",
    "    if visit[j] == False:\n",
    "        visit[j] =True\n",
    "    for kk in adj[j]:\n",
    "        if visit[kk] == False:\n",
    "            visit[kk] =True\n",
    "print(sum(visit)-1)       "
   ]
  },
  {
   "cell_type": "code",
   "execution_count": 7,
   "id": "898da259-171a-4e94-b675-f4ecc08dcf82",
   "metadata": {},
   "outputs": [
    {
     "name": "stdout",
     "output_type": "stream",
     "text": [
      "c\n",
      "c\n",
      "c\n",
      "c\n"
     ]
    },
    {
     "data": {
      "text/plain": [
       "[True, True, True, True, True, False]"
      ]
     },
     "execution_count": 7,
     "metadata": {},
     "output_type": "execute_result"
    }
   ],
   "source": [
    "visit =[False]*v\n",
    "\n",
    "\n",
    "def dfs(node):\n",
    "    visit[node] = True\n",
    "    for j in adj[node]:\n",
    "        if visit[j]==False:\n",
    "            print(\"c\")\n",
    "            dfs(j)\n",
    "dfs(0)\n",
    "visit"
   ]
  },
  {
   "cell_type": "code",
   "execution_count": null,
   "id": "2a4135a2-bd56-44cc-bde4-3e3d252ee219",
   "metadata": {},
   "outputs": [],
   "source": []
  },
  {
   "cell_type": "code",
   "execution_count": null,
   "id": "6a6dae25-a172-4fd2-8ecb-836d25159535",
   "metadata": {},
   "outputs": [],
   "source": []
  },
  {
   "cell_type": "code",
   "execution_count": null,
   "id": "615b632a-d738-460f-bbe1-8f236194dbab",
   "metadata": {},
   "outputs": [],
   "source": [
    "visit= [False]*v\n",
    "\n",
    "while True:\n",
    "    new_visit= False\n",
    "    for i in range(n):\n",
    "        if visit[i] == False:\n",
    "            "
   ]
  },
  {
   "cell_type": "code",
   "execution_count": null,
   "id": "dfa0d431-7ad3-4e06-8945-e3b9d2809d65",
   "metadata": {},
   "outputs": [],
   "source": []
  },
  {
   "cell_type": "code",
   "execution_count": 20,
   "id": "49e0dd13-e97d-4ce4-9682-707fdb4a7d8f",
   "metadata": {},
   "outputs": [
    {
     "data": {
      "text/plain": [
       "5"
      ]
     },
     "execution_count": 20,
     "metadata": {},
     "output_type": "execute_result"
    }
   ],
   "source": [
    "# dfs로 풀면\n",
    "\n",
    "visit = [False]*v\n",
    "def dfs(node):\n",
    "    visit[node] =True\n",
    "    for j in adj[node]:\n",
    "        if visit[j]==False:\n",
    "            dfs(j)\n",
    "\n",
    "dfs(0)\n",
    "print(sum(visit)-1)"
   ]
  },
  {
   "cell_type": "code",
   "execution_count": 28,
   "id": "b817ef05-6ad3-40ba-affb-f84b6015a356",
   "metadata": {},
   "outputs": [
    {
     "name": "stdout",
     "output_type": "stream",
     "text": [
      "[True, True, False, False, False, False, False] 1\n",
      "[True, True, False, False, True, False, False] 4\n",
      "deque([1, 4])\n",
      "[True, True, True, False, True, False, False] 2\n",
      "deque([4, 2])\n",
      "[True, True, True, False, True, True, False] 5\n",
      "deque([2, 5])\n",
      "deque([5])\n",
      "deque([])\n"
     ]
    }
   ],
   "source": [
    "# bfs로 풀면\n",
    "from collections import deque\n",
    "\n",
    "visit = [False] *v\n",
    "queue = deque()\n",
    "queue.append(0)\n",
    "visit[0] =True\n",
    "\n",
    "while queue:\n",
    "    node = queue.popleft()\n",
    "    for j in adj[node]:\n",
    "        if visit[j] ==False:       \n",
    "            queue.append(j)\n",
    "            visit[j] = True\n",
    "            #print(visit,j)\n",
    "    #print(queue)\n",
    "print(sum(visit)-1)    "
   ]
  },
  {
   "cell_type": "code",
   "execution_count": 27,
   "id": "18adfe2e-47d5-42e2-9e93-22bfc680df21",
   "metadata": {},
   "outputs": [
    {
     "data": {
      "text/plain": [
       "[True, True, True, False, True, True, False]"
      ]
     },
     "execution_count": 27,
     "metadata": {},
     "output_type": "execute_result"
    }
   ],
   "source": [
    "visit"
   ]
  },
  {
   "cell_type": "code",
   "execution_count": null,
   "id": "6ba0e137-2a1f-49ff-ac1f-bbc59e27ee3f",
   "metadata": {},
   "outputs": [],
   "source": []
  }
 ],
 "metadata": {
  "kernelspec": {
   "display_name": "Python 3 (ipykernel)",
   "language": "python",
   "name": "python3"
  },
  "language_info": {
   "codemirror_mode": {
    "name": "ipython",
    "version": 3
   },
   "file_extension": ".py",
   "mimetype": "text/x-python",
   "name": "python",
   "nbconvert_exporter": "python",
   "pygments_lexer": "ipython3",
   "version": "3.8.5"
  }
 },
 "nbformat": 4,
 "nbformat_minor": 5
}
