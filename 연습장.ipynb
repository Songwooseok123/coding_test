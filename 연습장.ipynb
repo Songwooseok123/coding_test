{
 "cells": [
  {
   "cell_type": "code",
   "execution_count": null,
   "id": "6bc12232-2269-4265-b16b-f34ffc4fc48e",
   "metadata": {},
   "outputs": [],
   "source": [
    "v = int(input())\n",
    "e = int(input())\n",
    "a,b = list(map(int,input().split()))"
   ]
  },
  {
   "cell_type": "code",
   "execution_count": 88,
   "id": "3cb01127-d420-4f06-b70e-5a78c4144108",
   "metadata": {},
   "outputs": [
    {
     "name": "stdin",
     "output_type": "stream",
     "text": [
      " 5 6\n",
      " 1 \n",
      " 5 1 1\n",
      " 1 2 2\n",
      " 1 3 3\n",
      " 2 3 4\n",
      " 2 4 5\n",
      " 3 4 6\n"
     ]
    }
   ],
   "source": [
    "v,e = list(map(int,input().split()))\n",
    "k = int(input()) -1\n",
    "\n",
    "adj = [[] for _ in range(v)]\n",
    "for i in range(e):\n",
    "    a,b,c = list(map(int,input().split()))\n",
    "    adj[a-1].append((b-1,c))"
   ]
  },
  {
   "cell_type": "code",
   "execution_count": 91,
   "id": "93b68300-e52a-4497-8ea3-802d497549ce",
   "metadata": {},
   "outputs": [
    {
     "data": {
      "text/plain": [
       "[[(1, 2), (2, 3)], [(2, 4), (3, 5)], [(3, 6)], [], [(0, 1)]]"
      ]
     },
     "execution_count": 91,
     "metadata": {},
     "output_type": "execute_result"
    }
   ],
   "source": [
    "adj"
   ]
  },
  {
   "cell_type": "code",
   "execution_count": 109,
   "id": "a933ac92-a66b-4622-8220-1ca98389f0ec",
   "metadata": {},
   "outputs": [
    {
     "name": "stdout",
     "output_type": "stream",
     "text": [
      "0\n",
      "2\n",
      "3\n",
      "7\n",
      "INF\n"
     ]
    }
   ],
   "source": [
    "from heapq import heappush, heappop\n",
    "\n",
    "shortest_d = [1e9]*v\n",
    "shortest_d[k] = 0\n",
    "\n",
    "ding =[]\n",
    "heappush(ding,(0,k)) # 최단 거리 개발중 원소: (거리, 노드)\n",
    "\n",
    "while ding:\n",
    "    d,node = heappop(ding)\n",
    "\n",
    "    for j in adj[node]:\n",
    "        adj_node, adj_weight = j[0],j[1]\n",
    "        updated_d = shortest_d[node]+ adj_weight\n",
    "        \n",
    "        if shortest_d[adj_node] > updated_d:\n",
    "            shortest_d[adj_node] = updated_d\n",
    "            heappush(ding, (updated_d ,adj_node))\n",
    "\n",
    "for i in range(v):\n",
    "    print(shortest_d[i] if shortest_d[i]!=1e9 else \"INF\")\n"
   ]
  },
  {
   "cell_type": "code",
   "execution_count": 105,
   "id": "4fdea41a-a63d-42e9-9f3a-b0e8a9aeef5b",
   "metadata": {},
   "outputs": [
    {
     "data": {
      "text/plain": [
       "[0, 2, 3, 7, 0]"
      ]
     },
     "execution_count": 105,
     "metadata": {},
     "output_type": "execute_result"
    }
   ],
   "source": [
    "short"
   ]
  },
  {
   "cell_type": "code",
   "execution_count": 102,
   "id": "86129c86-f1d7-4415-b2af-7fea1212bee4",
   "metadata": {},
   "outputs": [
    {
     "ename": "TypeError",
     "evalue": "list indices must be integers or slices, not tuple",
     "output_type": "error",
     "traceback": [
      "\u001b[1;31m---------------------------------------------------------------------------\u001b[0m",
      "\u001b[1;31mTypeError\u001b[0m                                 Traceback (most recent call last)",
      "Input \u001b[1;32mIn [102]\u001b[0m, in \u001b[0;36m<cell line: 1>\u001b[1;34m()\u001b[0m\n\u001b[1;32m----> 1\u001b[0m short[j] \u001b[38;5;241m=\u001b[39m short[candidate]\u001b[38;5;241m+\u001b[39mj[\u001b[38;5;241m1\u001b[39m]\n",
      "\u001b[1;31mTypeError\u001b[0m: list indices must be integers or slices, not tuple"
     ]
    }
   ],
   "source": [
    "short[j] = short[candidate]+j[1]"
   ]
  },
  {
   "cell_type": "code",
   "execution_count": 103,
   "id": "a5f72a0e-09bb-490f-b3da-48a143c6d3fc",
   "metadata": {},
   "outputs": [
    {
     "ename": "TypeError",
     "evalue": "list indices must be integers or slices, not tuple",
     "output_type": "error",
     "traceback": [
      "\u001b[1;31m---------------------------------------------------------------------------\u001b[0m",
      "\u001b[1;31mTypeError\u001b[0m                                 Traceback (most recent call last)",
      "Input \u001b[1;32mIn [103]\u001b[0m, in \u001b[0;36m<cell line: 1>\u001b[1;34m()\u001b[0m\n\u001b[1;32m----> 1\u001b[0m \u001b[43mshort\u001b[49m\u001b[43m[\u001b[49m\u001b[43mj\u001b[49m\u001b[43m]\u001b[49m\n",
      "\u001b[1;31mTypeError\u001b[0m: list indices must be integers or slices, not tuple"
     ]
    }
   ],
   "source": [
    "short[j]"
   ]
  },
  {
   "cell_type": "code",
   "execution_count": null,
   "id": "dc2b7f13-440f-48f6-8397-e3b1f95547b1",
   "metadata": {},
   "outputs": [],
   "source": []
  }
 ],
 "metadata": {
  "kernelspec": {
   "display_name": "Python 3 (ipykernel)",
   "language": "python",
   "name": "python3"
  },
  "language_info": {
   "codemirror_mode": {
    "name": "ipython",
    "version": 3
   },
   "file_extension": ".py",
   "mimetype": "text/x-python",
   "name": "python",
   "nbconvert_exporter": "python",
   "pygments_lexer": "ipython3",
   "version": "3.8.5"
  }
 },
 "nbformat": 4,
 "nbformat_minor": 5
}
