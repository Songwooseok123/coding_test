{
 "cells": [
  {
   "cell_type": "code",
   "execution_count": 23,
   "id": "ec2596f4-e531-4806-8ff9-801579b7d3db",
   "metadata": {},
   "outputs": [
    {
     "name": "stdout",
     "output_type": "stream",
     "text": [
      "[8, 7, 3, 1, 1]\n",
      "[6, 3, 1]\n"
     ]
    }
   ],
   "source": [
    "a =[8, 1, 7, 3, 1]\n",
    "b=[3 ,6, 1]\n",
    "n,m = 5,3\n",
    "\n",
    "a.sort(reverse=True)\n",
    "b.sort(reverse=True)\n",
    "\n",
    "print(a)\n",
    "print(b)"
   ]
  },
  {
   "cell_type": "code",
   "execution_count": 31,
   "id": "bad813b0-c42e-49e7-923a-e419e585fde4",
   "metadata": {},
   "outputs": [
    {
     "name": "stdout",
     "output_type": "stream",
     "text": [
      "7\n"
     ]
    }
   ],
   "source": [
    "aa = 0\n",
    "bb =0\n",
    "\n",
    "cc = 0\n",
    "while True:\n",
    "    \n",
    "    if a[aa]>b[bb]:\n",
    "        cc += m-bb\n",
    "        aa+=1\n",
    "        if aa == n:\n",
    "            break\n",
    "    else:\n",
    "        bb +=1\n",
    "        if bb ==m:\n",
    "            break\n",
    "    #print(aa,bb,\"cccc\",cc)\n",
    "print(cc)    \n",
    "\n"
   ]
  },
  {
   "cell_type": "code",
   "execution_count": 29,
   "id": "ae5ca9f7-e595-4512-98f8-317c8aec7c63",
   "metadata": {},
   "outputs": [
    {
     "data": {
      "text/plain": [
       "(3, 3)"
      ]
     },
     "execution_count": 29,
     "metadata": {},
     "output_type": "execute_result"
    }
   ],
   "source": [
    "aa,bb"
   ]
  },
  {
   "cell_type": "code",
   "execution_count": null,
   "id": "4fe77e82-e000-4956-942a-c123a6089c01",
   "metadata": {},
   "outputs": [],
   "source": []
  },
  {
   "cell_type": "code",
   "execution_count": null,
   "id": "cc309e76-da81-49dc-8cda-849858beba64",
   "metadata": {},
   "outputs": [],
   "source": []
  },
  {
   "cell_type": "code",
   "execution_count": null,
   "id": "68787e54-8b75-481e-850f-a104ef16b802",
   "metadata": {},
   "outputs": [],
   "source": []
  },
  {
   "cell_type": "code",
   "execution_count": null,
   "id": "f9310336-423b-48cf-91ac-e3e10ed57ca6",
   "metadata": {},
   "outputs": [],
   "source": []
  },
  {
   "cell_type": "code",
   "execution_count": null,
   "id": "fb8a5496-665b-49f3-afc0-a3f3eeb2a832",
   "metadata": {},
   "outputs": [],
   "source": []
  },
  {
   "cell_type": "code",
   "execution_count": null,
   "id": "f75bd7f6-9bbc-4139-866e-7c661bd56900",
   "metadata": {},
   "outputs": [],
   "source": []
  }
 ],
 "metadata": {
  "kernelspec": {
   "display_name": "Python 3 (ipykernel)",
   "language": "python",
   "name": "python3"
  },
  "language_info": {
   "codemirror_mode": {
    "name": "ipython",
    "version": 3
   },
   "file_extension": ".py",
   "mimetype": "text/x-python",
   "name": "python",
   "nbconvert_exporter": "python",
   "pygments_lexer": "ipython3",
   "version": "3.8.5"
  }
 },
 "nbformat": 4,
 "nbformat_minor": 5
}
