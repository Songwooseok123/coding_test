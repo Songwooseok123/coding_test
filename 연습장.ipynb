{
 "cells": [
  {
   "cell_type": "code",
   "execution_count": null,
   "id": "6bc12232-2269-4265-b16b-f34ffc4fc48e",
   "metadata": {},
   "outputs": [],
   "source": [
    "v = int(input())\n",
    "e = int(input())\n",
    "a,b = list(map(int,input().split()))"
   ]
  },
  {
   "cell_type": "code",
   "execution_count": 8,
   "id": "4389518a-a89f-41b7-b751-9fbdc46378e3",
   "metadata": {},
   "outputs": [
    {
     "name": "stdin",
     "output_type": "stream",
     "text": [
      " 4 2\n"
     ]
    },
    {
     "name": "stdout",
     "output_type": "stream",
     "text": [
      "1 2\n",
      "1 3\n",
      "1 4\n",
      "2 3\n",
      "2 4\n",
      "3 4\n"
     ]
    }
   ],
   "source": [
    "# 15650\n",
    "a,b = list(map(int,input().split()))\n",
    "from itertools import combinations\n",
    "\n",
    "for j in list(combinations(list(range(1,a+1)),b)):\n",
    "    print(*j)\n"
   ]
  },
  {
   "cell_type": "code",
   "execution_count": 9,
   "id": "ef1e2b7a-04ee-452c-960a-1d796e1d9aca",
   "metadata": {},
   "outputs": [
    {
     "name": "stdin",
     "output_type": "stream",
     "text": [
      " 13\n"
     ]
    }
   ],
   "source": [
    "# 14916\n",
    "n = int(input())\n"
   ]
  },
  {
   "cell_type": "code",
   "execution_count": 10,
   "id": "908c417a-8cd4-4551-adf8-eabe2e09c80c",
   "metadata": {},
   "outputs": [
    {
     "data": {
      "text/plain": [
       "[False, -1, 0, 0, 0, 0, 0, 0, 0, 0, 0, 0, 0, 0]"
      ]
     },
     "execution_count": 10,
     "metadata": {},
     "output_type": "execute_result"
    }
   ],
   "source": [
    "a = [0]*(n+1)\n",
    "a[0]= False\n",
    "a[1] = -1\n",
    "a"
   ]
  },
  {
   "cell_type": "code",
   "execution_count": 12,
   "id": "5d174c0e-d479-4e68-943a-f8645d0fdf5a",
   "metadata": {},
   "outputs": [],
   "source": [
    "for i in range(2,n+1):\n",
    "    \n",
    "    temp2 = 1+a[i-2]\n",
    "    temp5 = 1+a[i-5]\n",
    "    a[i] = min(temp2,temp5)\n",
    "    "
   ]
  },
  {
   "cell_type": "code",
   "execution_count": 13,
   "id": "ae98daf8-54be-441d-bead-d1821ac018bc",
   "metadata": {},
   "outputs": [
    {
     "data": {
      "text/plain": [
       "[False, -1, 1, 0, 1, 1, 0, 2, 1, 2, 2, 1, 3, 2]"
      ]
     },
     "execution_count": 13,
     "metadata": {},
     "output_type": "execute_result"
    }
   ],
   "source": [
    "a"
   ]
  },
  {
   "cell_type": "code",
   "execution_count": null,
   "id": "84cca3a1-e40b-4a1b-8ee5-f807b0062dfc",
   "metadata": {},
   "outputs": [],
   "source": []
  }
 ],
 "metadata": {
  "kernelspec": {
   "display_name": "Python 3 (ipykernel)",
   "language": "python",
   "name": "python3"
  },
  "language_info": {
   "codemirror_mode": {
    "name": "ipython",
    "version": 3
   },
   "file_extension": ".py",
   "mimetype": "text/x-python",
   "name": "python",
   "nbconvert_exporter": "python",
   "pygments_lexer": "ipython3",
   "version": "3.8.5"
  }
 },
 "nbformat": 4,
 "nbformat_minor": 5
}
