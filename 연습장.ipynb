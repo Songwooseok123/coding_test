{
 "cells": [
  {
   "cell_type": "code",
   "execution_count": 6,
   "id": "65db0d1d-8743-479d-8e8a-ba3cafc0d116",
   "metadata": {},
   "outputs": [
    {
     "name": "stdin",
     "output_type": "stream",
     "text": [
      " 2 2\n"
     ]
    }
   ],
   "source": [
    "n,m = list(map(int,input().split()))\n"
   ]
  },
  {
   "cell_type": "code",
   "execution_count": 23,
   "id": "46490829-f3c4-488f-9a02-c92fcd4fdce5",
   "metadata": {},
   "outputs": [],
   "source": []
  },
  {
   "cell_type": "code",
   "execution_count": 9,
   "id": "b4fbddf3-c737-400b-b430-87f34eed1672",
   "metadata": {},
   "outputs": [
    {
     "data": {
      "text/plain": [
       "[2, 3, 5, 9]"
      ]
     },
     "execution_count": 9,
     "metadata": {},
     "output_type": "execute_result"
    }
   ],
   "source": [
    "c = a +b\n",
    "c.sort() \n",
    "c"
   ]
  },
  {
   "cell_type": "code",
   "execution_count": 4,
   "id": "115ab36e-7713-438a-bc21-64cfcea58f30",
   "metadata": {},
   "outputs": [
    {
     "data": {
      "text/plain": [
       "deque([9])"
      ]
     },
     "execution_count": 4,
     "metadata": {},
     "output_type": "execute_result"
    }
   ],
   "source": [
    "# nlogn -> 1,000,000 * \n",
    "b"
   ]
  },
  {
   "cell_type": "code",
   "execution_count": 11,
   "id": "71587e1d-951c-4b1e-b990-4bbcbbeace08",
   "metadata": {},
   "outputs": [
    {
     "name": "stdin",
     "output_type": "stream",
     "text": [
      " 2 2\n",
      " 3 5\n",
      " 2 9\n"
     ]
    },
    {
     "name": "stdout",
     "output_type": "stream",
     "text": [
      "[2, 3, 5, 9]\n"
     ]
    }
   ],
   "source": [
    "import sys\n",
    "\n",
    "n,m = list(map(int,input().split()))\n",
    "\n",
    "a = list(map(int,input().split()))\n",
    "b = list(map(int,input().split()))\n",
    "zz = []\n",
    "\n",
    "from collections import deque\n",
    "a = deque(a)\n",
    "b= deque(b)\n",
    "\n",
    "while len(a) != 0 and len(b)!=0:\n",
    "    #print(a)\n",
    "    #print(b)\n",
    "    if a[0]> b[0]:\n",
    "        ppd= b.popleft()\n",
    "        \n",
    "    else: \n",
    "        ppd = a.popleft()\n",
    "    zz.append(ppd)\n",
    "    \n",
    "    #print(a,b,\"zzzzzz\",zz)\n",
    "\n",
    "if len(b) ==0:\n",
    "    zz = zz+list(a)\n",
    "else:\n",
    "    zz = zz+ list(b)\n",
    "\n",
    "\n",
    "print(*zz)\n",
    "    "
   ]
  },
  {
   "cell_type": "code",
   "execution_count": 12,
   "id": "a023cbe3-f93c-45f8-85b6-fc0135cb4110",
   "metadata": {},
   "outputs": [
    {
     "name": "stdout",
     "output_type": "stream",
     "text": [
      "2 3 5 9\n"
     ]
    }
   ],
   "source": [
    "print(*zz)\n"
   ]
  },
  {
   "cell_type": "code",
   "execution_count": 9,
   "id": "fe93fdd6-19f0-4461-ad66-c0ad515af281",
   "metadata": {},
   "outputs": [
    {
     "ename": "IndexError",
     "evalue": "deque index out of range",
     "output_type": "error",
     "traceback": [
      "\u001b[1;31m---------------------------------------------------------------------------\u001b[0m",
      "\u001b[1;31mIndexError\u001b[0m                                Traceback (most recent call last)",
      "Input \u001b[1;32mIn [9]\u001b[0m, in \u001b[0;36m<cell line: 11>\u001b[1;34m()\u001b[0m\n\u001b[0;32m      9\u001b[0m b\u001b[38;5;241m=\u001b[39m deque(b)\n\u001b[0;32m     11\u001b[0m \u001b[38;5;28;01mwhile\u001b[39;00m a \u001b[38;5;241m!=\u001b[39m[] \u001b[38;5;129;01mand\u001b[39;00m b\u001b[38;5;241m!=\u001b[39m[]:\n\u001b[1;32m---> 12\u001b[0m     \u001b[38;5;28;01mif\u001b[39;00m \u001b[43ma\u001b[49m\u001b[43m[\u001b[49m\u001b[38;5;241;43m0\u001b[39;49m\u001b[43m]\u001b[49m\u001b[38;5;241m>\u001b[39m b[\u001b[38;5;241m0\u001b[39m]:\n\u001b[0;32m     13\u001b[0m         ppd\u001b[38;5;241m=\u001b[39m b\u001b[38;5;241m.\u001b[39mpopleft()\n\u001b[0;32m     15\u001b[0m     \u001b[38;5;28;01melse\u001b[39;00m: \n",
      "\u001b[1;31mIndexError\u001b[0m: deque index out of range"
     ]
    }
   ],
   "source": [
    "a = [3,4,5]\n",
    "b = [2,9]\n",
    "n,m =3,2\n",
    "\n",
    "zz = []\n",
    "\n",
    "from collections import deque\n",
    "a = deque(a)\n",
    "b= deque(b)\n",
    "\n",
    "while a !=[] and b!=[]:\n",
    "    if a[0]> b[0]:\n",
    "        ppd= b.popleft()\n",
    "        \n",
    "    else: \n",
    "        ppd = a.popleft()\n",
    "    zz.append(ppd)\n",
    "    \n",
    "    #print(a,b,\"zzzzzz\",zz)\n",
    "\n",
    "if b ==[]:\n",
    "    zz = zz+a\n",
    "else:\n",
    "    zz = zz+ b\n",
    "\n",
    "zz\n",
    "    "
   ]
  },
  {
   "cell_type": "code",
   "execution_count": 11,
   "id": "900f21dd-3402-402a-8773-3ca8a2c520b6",
   "metadata": {},
   "outputs": [
    {
     "data": {
      "text/plain": [
       "[4]"
      ]
     },
     "execution_count": 11,
     "metadata": {},
     "output_type": "execute_result"
    }
   ],
   "source": [
    "a[2:]"
   ]
  },
  {
   "cell_type": "code",
   "execution_count": 18,
   "id": "3432423b-172c-4559-8aa2-62d47a0aa008",
   "metadata": {},
   "outputs": [
    {
     "data": {
      "text/plain": [
       "3"
      ]
     },
     "execution_count": 18,
     "metadata": {},
     "output_type": "execute_result"
    }
   ],
   "source": [
    "a.pop(0)"
   ]
  },
  {
   "cell_type": "code",
   "execution_count": 37,
   "id": "eeafdb5f-3473-46cc-b0c2-30073451e6b9",
   "metadata": {},
   "outputs": [
    {
     "data": {
      "text/plain": [
       "deque([4, 3, 1, 3])"
      ]
     },
     "execution_count": 37,
     "metadata": {},
     "output_type": "execute_result"
    }
   ],
   "source": [
    "a = [4,4,3,1,3]\n",
    "from collections import deque \n",
    "a= deque(a)\n",
    "a.popleft()\n",
    "a"
   ]
  },
  {
   "cell_type": "code",
   "execution_count": 35,
   "id": "a168c0f7-6f9b-41fa-84ee-fd2b2356837d",
   "metadata": {},
   "outputs": [
    {
     "data": {
      "text/plain": [
       "deque([4, 4, 3])"
      ]
     },
     "execution_count": 35,
     "metadata": {},
     "output_type": "execute_result"
    }
   ],
   "source": [
    "a.pop()\n",
    "a"
   ]
  },
  {
   "cell_type": "code",
   "execution_count": null,
   "id": "40fb5f9c-e5b4-450d-a72e-6b975e893e41",
   "metadata": {},
   "outputs": [],
   "source": []
  }
 ],
 "metadata": {
  "kernelspec": {
   "display_name": "Python 3 (ipykernel)",
   "language": "python",
   "name": "python3"
  },
  "language_info": {
   "codemirror_mode": {
    "name": "ipython",
    "version": 3
   },
   "file_extension": ".py",
   "mimetype": "text/x-python",
   "name": "python",
   "nbconvert_exporter": "python",
   "pygments_lexer": "ipython3",
   "version": "3.8.5"
  }
 },
 "nbformat": 4,
 "nbformat_minor": 5
}
