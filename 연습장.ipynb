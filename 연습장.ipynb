{
 "cells": [
  {
   "cell_type": "code",
   "execution_count": null,
   "id": "31a41080-a37d-493e-b8fc-cb679084b9be",
   "metadata": {},
   "outputs": [],
   "source": [
    "n,m = list(map(int,input().split()))\n",
    "n = int(input())"
   ]
  },
  {
   "cell_type": "code",
   "execution_count": 244,
   "id": "34277874-1aa8-4338-811e-cb9f9125d544",
   "metadata": {},
   "outputs": [
    {
     "name": "stdin",
     "output_type": "stream",
     "text": [
      " 6\n",
      " 5\n",
      " 1 2\n",
      " 1 3\n",
      " 3 4\n",
      " 2 3\n",
      " 4 5\n"
     ]
    },
    {
     "data": {
      "text/plain": [
       "[[1, 2], [0, 2], [0, 3, 1], [2, 4], [3], []]"
      ]
     },
     "execution_count": 244,
     "metadata": {},
     "output_type": "execute_result"
    }
   ],
   "source": [
    "v = int(input())\n",
    "e = int(input())\n",
    "adj = [[] for i in range(v)]\n",
    "\n",
    "for i in range(e):\n",
    "    a,b= list(map(int,input().split()))\n",
    "    adj[a-1].append(b-1)\n",
    "    adj[b-1].append(a-1)\n",
    "adj"
   ]
  },
  {
   "cell_type": "code",
   "execution_count": 245,
   "id": "0c563db8-e1d7-45df-b82b-8d456f29e2bb",
   "metadata": {},
   "outputs": [
    {
     "data": {
      "text/plain": [
       "[0, 1, 1, 2, 3, 0]"
      ]
     },
     "execution_count": 245,
     "metadata": {},
     "output_type": "execute_result"
    }
   ],
   "source": [
    "from collections import deque\n",
    "\n",
    "visit = [False] *v\n",
    "short = [0]*v\n",
    "queue = deque()\n",
    "\n",
    "sang = 0\n",
    "queue.append(sang)\n",
    "visit[sang] = True\n",
    "short[sang] = 0\n",
    "\n",
    "while queue:\n",
    "    candi = queue.popleft()\n",
    "    for j in adj[candi]:\n",
    "        if not visit[j]:\n",
    "            queue.append(j)\n",
    "            visit[j] = True\n",
    "            short[j]= short[candi] + 1\n",
    "cc =0 \n",
    "for i in short:\n",
    "    if i ==1 or i==2:\n",
    "        cc+=1\n",
    "print(cc)"
   ]
  },
  {
   "cell_type": "code",
   "execution_count": 246,
   "id": "9f1517e2-202c-40bb-bf5d-ca8fd1ec9792",
   "metadata": {},
   "outputs": [
    {
     "name": "stdin",
     "output_type": "stream",
     "text": [
      " 6 5\n",
      " 1 2\n",
      " 2 5\n",
      " 5 1\n",
      " 3 4\n",
      " 4 6\n"
     ]
    },
    {
     "data": {
      "text/plain": [
       "[[1, 4], [0, 4], [3], [2, 5], [1, 0], [3]]"
      ]
     },
     "execution_count": 246,
     "metadata": {},
     "output_type": "execute_result"
    }
   ],
   "source": []
  },
  {
   "cell_type": "code",
   "execution_count": 252,
   "id": "a9a8e05f-e95c-4c7a-a810-2023508d224a",
   "metadata": {},
   "outputs": [
    {
     "name": "stdin",
     "output_type": "stream",
     "text": [
      " 4 8 2\n",
      " 1 2 4\n",
      " 1 3 2\n",
      " 1 4 7\n",
      " 2 1 1\n",
      " 2 3 5\n",
      " 3 1 2\n",
      " 3 4 4\n",
      " 4 2 3\n"
     ]
    },
    {
     "data": {
      "text/plain": [
       "[[(1, 4), (2, 2), (3, 7)], [(0, 1), (2, 5)], [(0, 2), (3, 4)], [(1, 3)]]"
      ]
     },
     "execution_count": 252,
     "metadata": {},
     "output_type": "execute_result"
    }
   ],
   "source": [
    "\n",
    "v,e,k = list(map(int,input().split()))\n",
    "\n",
    "adj = [[] for i in range(v)]\n",
    "\n",
    "for i in range(e):\n",
    "    a,b,d= list(map(int,input().split()))\n",
    "    adj[a-1].append((b-1,d))\n",
    "adj\n"
   ]
  },
  {
   "cell_type": "code",
   "execution_count": null,
   "id": "3efb7412-4fec-42cc-a921-bf4822aafa7a",
   "metadata": {},
   "outputs": [],
   "source": [
    "\n",
    "shortest_d = [1e9]*v\n",
    "ding = []\n",
    "heappush(ding,(0,k)) # (거리, id)\n",
    "shortest_d[k] =0\n",
    "\n",
    "while ding:\n",
    "    d,node = heappop(ding)\n",
    "    if d!= shortest_d[node]:\n",
    "        continue\n",
    "    for adj_node,adj_d in adj[node]:\n",
    "        updated_d = shortest_d[node]+adj_d\n",
    "        if updated_d< shortest_d[adj_node]:\n",
    "            shortest_d[adj_node] =updated_d\n",
    "            heappush(ding,(updated_d,adj_node))\n"
   ]
  },
  {
   "cell_type": "code",
   "execution_count": null,
   "id": "667b83af-ce5e-42ba-8d79-f9af248d8e79",
   "metadata": {},
   "outputs": [],
   "source": [
    "from heapq import heappop, heappush\n",
    "\n",
    "short = [1e9]*v\n",
    "ding = []\n",
    "\n",
    "node = p-1 \n",
    "heappush(ding,(0,node)) # \n",
    "\n",
    "short[node] = 0\n",
    "\n",
    "while ding:\n",
    "    d,node = heappop(ding)\n",
    "    for adj_node, adj_d in adj[node]:\n",
    "        updated_d = short[node]+adj_d\n",
    "        if updated_d < short[adj_node]:\n",
    "            short[adj_node] = updated_d\n",
    "            heappush(ding, (updated_d,adj_node))\n",
    "        \n",
    "    \n",
    "    \n",
    "\n"
   ]
  },
  {
   "cell_type": "code",
   "execution_count": null,
   "id": "e275129a-363c-4c0c-90e8-dcf3638b14aa",
   "metadata": {},
   "outputs": [],
   "source": []
  },
  {
   "cell_type": "code",
   "execution_count": null,
   "id": "372c29f9-c7b4-4f45-a5c7-8394a4c48940",
   "metadata": {},
   "outputs": [],
   "source": []
  },
  {
   "cell_type": "code",
   "execution_count": null,
   "id": "6c32244a-7ad6-41f4-a7c2-a6a82a6ad306",
   "metadata": {},
   "outputs": [],
   "source": []
  },
  {
   "cell_type": "code",
   "execution_count": null,
   "id": "3b22d07b-6b9b-42c4-b208-e8eba2e509a6",
   "metadata": {},
   "outputs": [],
   "source": []
  },
  {
   "cell_type": "code",
   "execution_count": null,
   "id": "a8173823-0a72-4a18-9226-bf5b6793087e",
   "metadata": {},
   "outputs": [],
   "source": [
    "for i in range(len(visit)):\n",
    "    if not visit[i]:\n",
    "        sang = i\n",
    "        break\n",
    "\n"
   ]
  },
  {
   "cell_type": "code",
   "execution_count": 1,
   "id": "7647e057-62cd-4ed1-b099-69416dd411b1",
   "metadata": {},
   "outputs": [
    {
     "name": "stdin",
     "output_type": "stream",
     "text": [
      " 5\n",
      " -1 0 0 1 1\n",
      " 1\n"
     ]
    },
    {
     "ename": "NameError",
     "evalue": "name 'n' is not defined",
     "output_type": "error",
     "traceback": [
      "\u001b[1;31m---------------------------------------------------------------------------\u001b[0m",
      "\u001b[1;31mNameError\u001b[0m                                 Traceback (most recent call last)",
      "Input \u001b[1;32mIn [1]\u001b[0m, in \u001b[0;36m<cell line: 6>\u001b[1;34m()\u001b[0m\n\u001b[0;32m      3\u001b[0m r \u001b[38;5;241m=\u001b[39m \u001b[38;5;28mint\u001b[39m(\u001b[38;5;28minput\u001b[39m())\n\u001b[0;32m      4\u001b[0m \u001b[38;5;66;03m# r로 dfs 돌려서 칠하기 -> dfs 돌릴 때 부모가 r이면 재귀\u001b[39;00m\n\u001b[1;32m----> 6\u001b[0m \u001b[38;5;28;01mfor\u001b[39;00m i \u001b[38;5;129;01min\u001b[39;00m \u001b[38;5;28mrange\u001b[39m(\u001b[43mn\u001b[49m):\n\u001b[0;32m      7\u001b[0m     \u001b[38;5;28;01mif\u001b[39;00m parent[i] \u001b[38;5;241m==\u001b[39m\u001b[38;5;241m-\u001b[39m\u001b[38;5;241m1\u001b[39m:\n\u001b[0;32m      8\u001b[0m         root \u001b[38;5;241m=\u001b[39m i\n",
      "\u001b[1;31mNameError\u001b[0m: name 'n' is not defined"
     ]
    }
   ],
   "source": [
    "v = int(input())\n",
    "parent = list(map(int,input().split()))\n",
    "r = int(input())\n",
    "# r로 dfs 돌려서 칠하기 -> dfs 돌릴 때 부모가 r이면 재귀\n",
    "\n",
    "for i in range(v):\n",
    "    if parent[i] ==-1:\n",
    "        root = i\n",
    "        break\n",
    "\n",
    "\n",
    "\n",
    "visit = [0]*v\n",
    "def dfs(node):\n",
    "    visit[node] =1\n",
    "    for i in range(v):\n",
    "        if parent[i] ==node:\n",
    "            dfs(i)\n",
    "dfs(r)\n",
    "#print(visit)\n",
    "# 자식이 있는 애들 칠하기 \n",
    "\n",
    "for i in range(v):\n",
    "    if visit[i] ==1:\n",
    "        continue\n",
    "    if i == root:\n",
    "        continue\n",
    "    visit[parent[i]]=2\n",
    "    #print(i,visit)\n",
    "cc=0\n",
    "for i in visit:\n",
    "    if i ==0:\n",
    "        cc+=1\n",
    "print(cc)"
   ]
  },
  {
   "cell_type": "code",
   "execution_count": 264,
   "id": "035b4083-a382-4cc8-bd4e-e1e2ce943092",
   "metadata": {},
   "outputs": [],
   "source": []
  },
  {
   "cell_type": "code",
   "execution_count": 265,
   "id": "8d365624-d58b-4ca1-8091-3b5290308092",
   "metadata": {},
   "outputs": [
    {
     "data": {
      "text/plain": [
       "[0, 1, 0, 1, 1]"
      ]
     },
     "execution_count": 265,
     "metadata": {},
     "output_type": "execute_result"
    }
   ],
   "source": [
    "visit"
   ]
  },
  {
   "cell_type": "code",
   "execution_count": 259,
   "id": "f79f930c-5e4a-4e53-ae2f-5018610809d8",
   "metadata": {},
   "outputs": [
    {
     "name": "stdin",
     "output_type": "stream",
     "text": [
      " 1\n"
     ]
    },
    {
     "data": {
      "text/plain": [
       "[0, 1, 0, 1, 1]"
      ]
     },
     "execution_count": 259,
     "metadata": {},
     "output_type": "execute_result"
    }
   ],
   "source": [
    "# black 구하기 \n",
    "\n",
    "black = [0]*n\n",
    "\n",
    "def dfs(node):\n",
    "    black[node] =1\n",
    "    for i in range(n):\n",
    "        if parent[i] == node:\n",
    "            dfs(i)\n",
    "\n",
    "remove = int(input())\n",
    "dfs(remove)\n",
    "black"
   ]
  },
  {
   "cell_type": "code",
   "execution_count": null,
   "id": "17d9a159-ad7c-402a-b4c3-c03b6bfa33cc",
   "metadata": {},
   "outputs": [],
   "source": []
  },
  {
   "cell_type": "code",
   "execution_count": null,
   "id": "403452c0-57f5-453d-b416-3614ee2ca686",
   "metadata": {},
   "outputs": [],
   "source": []
  },
  {
   "cell_type": "code",
   "execution_count": null,
   "id": "b8e69b62-58e9-4536-b562-ce0b22802e47",
   "metadata": {},
   "outputs": [],
   "source": []
  },
  {
   "cell_type": "code",
   "execution_count": null,
   "id": "0cc9b2a5-c697-48fa-87f3-16915acb742c",
   "metadata": {},
   "outputs": [],
   "source": []
  }
 ],
 "metadata": {
  "kernelspec": {
   "display_name": "Python 3 (ipykernel)",
   "language": "python",
   "name": "python3"
  },
  "language_info": {
   "codemirror_mode": {
    "name": "ipython",
    "version": 3
   },
   "file_extension": ".py",
   "mimetype": "text/x-python",
   "name": "python",
   "nbconvert_exporter": "python",
   "pygments_lexer": "ipython3",
   "version": "3.8.5"
  }
 },
 "nbformat": 4,
 "nbformat_minor": 5
}
